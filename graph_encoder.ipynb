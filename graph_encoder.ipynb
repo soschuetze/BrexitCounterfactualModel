{
 "cells": [
  {
   "cell_type": "code",
   "execution_count": 1,
   "metadata": {},
   "outputs": [],
   "source": [
    "#imports \n",
    "import pandas as pd\n",
    "import numpy as np\n",
    "import os\n",
    "import pickle as pkl\n",
    "import datetime as datetime\n",
    "from sklearn.preprocessing import StandardScaler\n",
    "import statsmodels.formula.api as sm\n",
    "import dgl.function as fn\n",
    "from tqdm import tqdm\n",
    "\n",
    "#imports for graph creation\n",
    "import torch\n",
    "from sklearn.preprocessing import StandardScaler\n",
    "from itertools import combinations\n",
    "from sklearn.metrics import r2_score\n",
    "import matplotlib.pyplot as plt\n",
    "\n",
    "#imports for graph learning\n",
    "from torch.utils.data import DataLoader\n",
    "from torch.autograd import Variable\n",
    "import torch.nn as nn\n",
    "from tqdm import trange\n",
    "import torch\n",
    "import torch_geometric.datasets as datasets\n",
    "import torch_geometric.data as data\n",
    "import torch_geometric.transforms as transforms"
   ]
  },
  {
   "cell_type": "code",
   "execution_count": 2,
   "metadata": {},
   "outputs": [],
   "source": [
    "import pandas as pd\n",
    "import requests\n",
    "\n",
    "def get_sitc_codes():\n",
    "    # URL of the JSON file\n",
    "    url = 'https://comtradeapi.un.org/files/v1/app/reference/S4.json'\n",
    "\n",
    "    try:\n",
    "        # Send a GET request to the URL and fetch the data\n",
    "        response = requests.get(url)\n",
    "        response.raise_for_status()  # Check that the request was successful\n",
    "        \n",
    "        # Load the JSON data\n",
    "        data = response.json()\n",
    "\n",
    "        # Since the JSON data might be nested, use json_normalize with appropriate arguments\n",
    "        if isinstance(data, list):\n",
    "            # If the top level is a list\n",
    "            df = pd.json_normalize(data)\n",
    "        else:\n",
    "            # If the top level is a dictionary\n",
    "            # Identify the key that holds the main data (adjust the path as necessary)\n",
    "            main_data_key = 'results'  # Adjust this based on the actual structure\n",
    "            df = pd.json_normalize(data[main_data_key])\n",
    "\n",
    "    except requests.exceptions.RequestException as e:\n",
    "        print(f\"Error fetching data: {e}\")\n",
    "    except ValueError as e:\n",
    "        print(f\"Error parsing JSON: {e}\")\n",
    "    except KeyError as e:\n",
    "        print(f\"Error processing JSON structure: {e}\")\n",
    "\n",
    "    return df"
   ]
  },
  {
   "cell_type": "code",
   "execution_count": 17,
   "metadata": {},
   "outputs": [],
   "source": [
    "class TradeNetwork:\n",
    "    \"\"\"\n",
    "    We define a class which computes the MST trade network for a given year \n",
    "    \"\"\"\n",
    "    \n",
    "    def __init__(self, year = 1962, data_dir = \"data\"):\n",
    "        self.year = year\n",
    "        self.data_dir = data_dir\n",
    "        \n",
    "    def prepare_features(self, filter_gdp = True):\n",
    "        \n",
    "        ###IMPORT GDP###\n",
    "        #prepare GDP as a set of features \n",
    "        with open('data/all_wb_indicators.pickle', 'rb') as handle:\n",
    "            features_dict = pkl.load(handle)\n",
    "\n",
    "        self.gdp = features_dict['NY.GDP.MKTP.CD']\n",
    "        scaler = StandardScaler()\n",
    "        self.gdp[[\"prev_gdp\"]] = scaler.fit_transform(np.log(self.gdp[['YR'+str(self.year-1)]]))\n",
    "        self.gdp[[\"current_gdp\"]] = scaler.fit_transform(np.log(self.gdp[['YR'+str(self.year)]]))\n",
    "        #rename and keep relevant columns\n",
    "        self.gdp[\"country_code\"] = self.gdp[\"economy\"]\n",
    "        self.gdp = self.gdp[[\"country_code\", \"prev_gdp\", \"current_gdp\"]].dropna()\n",
    "        \n",
    "        ###IMPORT GDP GROWTH###\n",
    "        #prepare GDP growth\n",
    "        self.gdp_growth = features_dict['NY.GDP.MKTP.KD.ZG']\n",
    "        self.gdp_growth[\"prev_gdp_growth\"] = self.gdp_growth['YR'+str(self.year-1)]\n",
    "        self.gdp_growth[\"current_gdp_growth\"] = self.gdp_growth['YR'+str(self.year)] \n",
    "        self.gdp_growth[\"future_gdp_growth\"] = self.gdp_growth['YR'+str(self.year+1)]\n",
    "        #rename and keep relevant columns\n",
    "        self.gdp_growth[\"country_code\"] = self.gdp_growth[\"economy\"]\n",
    "        self.gdp_growth = self.gdp_growth[[\"country_code\", \"prev_gdp_growth\",\n",
    "                                \"current_gdp_growth\", \"future_gdp_growth\"]].dropna()\n",
    "        \n",
    "        ###IMPORT GDP PER CAPITA###\n",
    "        self.gdp_per_capita = features_dict['NY.GDP.PCAP.CD']\n",
    "        self.gdp_per_capita[\"prev_gdp_per_cap\"] = self.gdp_per_capita['YR'+str(self.year-1)]\n",
    "        self.gdp_per_capita[\"current_gdp_per_cap\"] = self.gdp_per_capita['YR'+str(self.year)]\n",
    "        self.gdp_per_capita[\"future_gdp_per_cap\"] = self.gdp_per_capita['YR'+str(self.year+1)]\n",
    "        #rename and keep relevant columns\n",
    "        self.gdp_per_capita[\"country_code\"] = self.gdp_per_capita[\"economy\"]\n",
    "        self.gdp_per_capita = self.gdp_per_capita[[\"country_code\", \"prev_gdp_per_cap\",\n",
    "                                \"current_gdp_per_cap\", \"future_gdp_per_cap\"]].dropna()\n",
    "        \n",
    "        ###IMPORT GDP PER CAPITA GROWTH###\n",
    "        self.gdp_per_capita_growth = features_dict['NY.GDP.PCAP.KD.ZG']\n",
    "        self.gdp_per_capita_growth[\"prev_gdp_per_cap_growth\"] = self.gdp_per_capita_growth['YR'+str(self.year-1)]\n",
    "        self.gdp_per_capita_growth[\"current_gdp_per_cap_growth\"] = self.gdp_per_capita_growth['YR'+str(self.year)]\n",
    "        self.gdp_per_capita_growth[\"future_gdp_per_cap_growth\"] = self.gdp_per_capita_growth['YR'+str(self.year+1)]\n",
    "        \n",
    "        #rename and keep relevant columns\n",
    "        self.gdp_per_capita_growth[\"country_code\"] = self.gdp_per_capita_growth[\"economy\"]\n",
    "        self.gdp_per_capita_growth = self.gdp_per_capita_growth[[\"country_code\", \"prev_gdp_per_cap_growth\",\n",
    "                                \"current_gdp_per_cap_growth\", \"future_gdp_per_cap_growth\"]].dropna()\n",
    "        \n",
    "        ###MERGE ALL DATA FEATURES###\n",
    "        self.features = pd.merge(self.gdp_growth, self.gdp, on = \"country_code\").dropna()\n",
    "        self.features = pd.merge(self.features, self.gdp_per_capita, on = \"country_code\").dropna()\n",
    "        self.features = pd.merge(self.features, self.gdp_per_capita_growth, on = \"country_code\").dropna()\n",
    "\n",
    "    def prepare_network(self):\n",
    "        \"\"\"\n",
    "        We create an initial, import-centric trade link pandas dataframe for a given year\n",
    "        \"\"\"\n",
    "        #get product codes\n",
    "        data_dict = get_sitc_codes()\n",
    "        data_cross = []\n",
    "        i = 0\n",
    "        for item_def in list(data_dict[\"text\"]):\n",
    "            if(i >= 2):\n",
    "                data_cross.append(item_def.split(\" - \", 1))\n",
    "            i = i+1\n",
    "\n",
    "        self.product_codes = pd.DataFrame(data_cross, columns = ['code', 'product'])\n",
    "        self.product_codes[\"sitc_product_code\"] = self.product_codes[\"code\"]\n",
    "        \n",
    "        #get country codes\n",
    "        self.country_codes = pd.read_excel(\"data/ISO3166.xlsx\")\n",
    "        self.country_codes[\"location_code\"] = self.country_codes[\"Alpha-3 code\"]\n",
    "        self.country_codes[\"partner_code\"] = self.country_codes[\"Alpha-3 code\"]\n",
    "        self.country_codes[\"country_i\"] = self.country_codes[\"English short name\"]\n",
    "        self.country_codes[\"country_j\"] = self.country_codes[\"English short name\"]\n",
    "\n",
    "        nodes = ['AUS', 'AUT', 'BDI', 'BEL', 'BEN', 'BFA', 'BHS', 'BMU', 'BOL', 'BRA', 'CAF', \n",
    "                 'CHL', 'CHN', 'CIV', 'CMR', 'COD', 'COG', 'COL', 'CRI', 'DOM', 'DZA', 'ECU', \n",
    "                 'ESP', 'FIN', 'FJI', 'FRA', 'GAB', 'GBR', 'GHA', 'GRC', 'GTM', 'GUY', 'HND', \n",
    "                 'HTI', 'IND', 'ITA', 'JPN', 'KEN', 'KOR', 'MDG', 'MEX', 'NER', 'NGA', 'NIC', \n",
    "                 'NLD', 'NOR', 'NPL', 'PAK', 'PAN', 'PER', 'PHL', 'PNG', 'PRT', 'SDN', 'SEN', \n",
    "                 'SGP', 'SLE', 'SUR', 'SWE', 'TCD', 'TGO', 'THA', 'TTO', 'TUR', 'URY', 'USA', \n",
    "                 'ZAF']\n",
    "        \n",
    "        self.country_codes = self.country_codes[self.country_codes['location_code'].isin(nodes)]\n",
    "        self.country_codes = self.country_codes[self.country_codes['partner_code'].isin(nodes)]\n",
    "        \n",
    "        #get trade data for a given year\n",
    "        trade_data = pd.read_stata(self.data_dir + \"/country_partner_sitcproduct4digit_year_\"+ str(self.year)+\".dta\") \n",
    "        #merge with product / country descriptions\n",
    "        trade_data = pd.merge(trade_data, self.country_codes[[\"location_code\", \"country_i\"]],on = [\"location_code\"])\n",
    "        trade_data = pd.merge(trade_data, self.country_codes[[\"partner_code\", \"country_j\"]],on = [\"partner_code\"])\n",
    "        trade_data = pd.merge(trade_data, self.product_codes[[\"sitc_product_code\", \"product\"]], \n",
    "                              on = [\"sitc_product_code\"])\n",
    "        ###select level of product aggregation\n",
    "        trade_data[\"product_category\"] = trade_data[\"sitc_product_code\"].apply(lambda x: x[0:1])\n",
    "        \n",
    "        #keep only nodes that we have features for\n",
    "        #trade_data = trade_data[trade_data[\"location_code\"].isin(self.features[\"country_code\"])]\n",
    "        #trade_data = trade_data[trade_data[\"partner_code\"].isin(self.features[\"country_code\"])]\n",
    "        \n",
    "        if (len(trade_data.groupby([\"location_code\", \"partner_code\", \"sitc_product_code\"])[\"import_value\"].sum().reset_index()) != len(trade_data)):\n",
    "            print(\"import, export, product combination not unique!\")\n",
    "        self.trade_data1 = trade_data\n",
    "        #from import-export table, create only import table\n",
    "        #extract imports\n",
    "        imports1 = trade_data[['location_id', 'partner_id', 'product_id', 'year',\n",
    "               'import_value', 'sitc_eci', 'sitc_coi', 'location_code', 'partner_code',\n",
    "               'sitc_product_code', 'country_i', 'country_j', 'product', \"product_category\"]]\n",
    "        imports1 = imports1[imports1[\"import_value\"] != 0]\n",
    "        #transform records of exports into imports\n",
    "        imports2 = trade_data[['location_id', 'partner_id', 'product_id', 'year',\n",
    "               'export_value', 'sitc_eci', 'sitc_coi', 'location_code', 'partner_code',\n",
    "               'sitc_product_code', 'country_i', 'country_j', 'product', \"product_category\"]]\n",
    "        imports2[\"temp1\"] = imports2['partner_code']\n",
    "        imports2[\"temp2\"] = imports2['location_code']\n",
    "\n",
    "        imports2['location_code'] = imports2[\"temp1\"]\n",
    "        imports2['partner_code'] = imports2[\"temp2\"]\n",
    "        imports2[\"import_value\"] = imports2[\"export_value\"]\n",
    "        imports2 = imports2[imports2[\"import_value\"] != 0]\n",
    "        imports2 = imports2[['location_id', 'partner_id', 'product_id', 'year',\n",
    "               'import_value', 'sitc_eci', 'sitc_coi', 'location_code', 'partner_code',\n",
    "               'sitc_product_code', 'country_i', 'country_j', 'product', \"product_category\"]]\n",
    "        \n",
    "        imports_table = pd.concat([imports1, imports2]).drop_duplicates()\n",
    "        \n",
    "        #rename columns for better clarity\n",
    "        imports_table[\"importer_code\"] = imports_table[\"location_code\"]\n",
    "        imports_table[\"exporter_code\"] = imports_table[\"partner_code\"]\n",
    "        imports_table[\"importer_name\"] = imports_table[\"country_i\"]\n",
    "        imports_table[\"exporter_name\"] = imports_table[\"country_j\"]\n",
    "        \n",
    "        cols = [\"importer_code\", \"exporter_code\", \"importer_name\", \"exporter_name\",\n",
    "               'product_id', 'year', 'import_value', 'sitc_eci', 'sitc_coi',\n",
    "               'sitc_product_code', 'product', \"product_category\"]\n",
    "        imports_table = imports_table[cols]\n",
    "        \n",
    "        exporter_total = imports_table.groupby([\"exporter_code\"])[\"import_value\"].sum().reset_index()\n",
    "        exporter_total = exporter_total.rename(columns = {\"import_value\": \"export_total\"})\n",
    "        \n",
    "        importer_total = imports_table.groupby([\"importer_code\"])[\"import_value\"].sum().reset_index()\n",
    "        importer_total = importer_total.rename(columns = {\"import_value\": \"import_total\"})\n",
    "        \n",
    "        #sum imports across all products between countries into single value \n",
    "        imports_table_grouped = imports_table.groupby([\"importer_code\", \"exporter_code\"])[\"import_value\"].sum().reset_index()\n",
    "        \n",
    "        #sum exports in each category \n",
    "        self.export_types = imports_table.groupby([\"exporter_code\", \"product_category\"])[\"import_value\"].sum().reset_index()\n",
    "        self.export_types = pd.merge(self.export_types, exporter_total, on = \"exporter_code\")\n",
    "        #multiply by 100 to allow weights to scale better in GNN\n",
    "        self.export_types[\"category_fraction\"] = self.export_types.import_value/self.export_types.export_total*10\n",
    "        ss = StandardScaler()\n",
    "        columns = list(set(self.export_types[\"product_category\"]))\n",
    "        self.export_types = self.export_types[[\"exporter_code\", \"product_category\", \"category_fraction\"]]\\\n",
    "        .pivot(index = [\"exporter_code\"], columns = [\"product_category\"], values = \"category_fraction\")\\\n",
    "        .reset_index().fillna(0)\n",
    "        #rename columns\n",
    "        rename_columns = []\n",
    "        for col in self.export_types.columns:\n",
    "            if(col == \"exporter_code\"):\n",
    "                rename_columns.append(col)\n",
    "            else:\n",
    "                rename_columns.append(\"resource_\" + col)\n",
    "        self.export_types.columns = rename_columns\n",
    "        self.export_types = self.export_types.rename(columns = {\"exporter_code\": \"country_code\"})\n",
    "        self.features = pd.merge(self.features, self.export_types, \n",
    "                                on = \"country_code\", how = \"left\")\n",
    "        \n",
    "        #look at fraction of goods traded with each counterparty\n",
    "        imports_table_grouped = pd.merge(imports_table_grouped, exporter_total, how = \"left\")\n",
    "        imports_table_grouped[\"export_percent\"] = imports_table_grouped[\"import_value\"]/imports_table_grouped[\"export_total\"]\n",
    "        scaler = StandardScaler()\n",
    "        imports_table_grouped[[\"export_percent_feature\"]] = scaler.fit_transform(np.log(imports_table_grouped[[\"export_percent\"]]))\n",
    "        imports_table_grouped[\"export_percent_feature\"] = imports_table_grouped[\"export_percent_feature\"] + abs(min(imports_table_grouped[\"export_percent_feature\"]))\n",
    "        \n",
    "        imports_table_grouped = pd.merge(imports_table_grouped, importer_total, how = \"left\")\n",
    "        imports_table_grouped[\"import_percent\"] = imports_table_grouped[\"import_value\"]/imports_table_grouped[\"import_total\"]\n",
    "        scaler = StandardScaler()\n",
    "        imports_table_grouped[[\"import_percent_feature\"]] = scaler.fit_transform(np.log(imports_table_grouped[[\"import_percent\"]]))\n",
    "        imports_table_grouped[\"import_percent_feature\"] = imports_table_grouped[\"import_percent_feature\"] + abs(min(imports_table_grouped[\"import_percent_feature\"]))\n",
    "        \n",
    "        self.trade_data = imports_table_grouped\n",
    "\n",
    "    def graph_create(self, exporter = True,\n",
    "            node_features = ['prev_gdp_growth', 'current_gdp_growth','prev_gdp','current_gdp'],\n",
    "            node_labels = 'future_gdp_growth'):\n",
    "        \n",
    "        if(exporter):\n",
    "            center_node = \"exporter_code\"\n",
    "            neighbors = \"importer_code\"\n",
    "            edge_features = 'export_percent'\n",
    "        \n",
    "        #filter features and nodes to ones that are connected to others in trade data\n",
    "        list_active_countries = list(set(list(self.trade_data [\"importer_code\"])+\\\n",
    "                        list(self.trade_data [\"exporter_code\"])))\n",
    "        \n",
    "        \n",
    "        self.features = self.features[self.features[\"country_code\"].isin(list_active_countries)].reset_index()\n",
    "        self.features.fillna(0, inplace = True)\n",
    "        self.features[\"node_numbers\"] = self.features.index\n",
    "        #create lookup dictionary making node number / node features combatible with ordering of nodes\n",
    "        #in our edge table\n",
    "\n",
    "        self.node_lookup1 = self.features.set_index('node_numbers').to_dict()['country_code']\n",
    "        self.node_lookup2 = self.features.set_index('country_code').to_dict()['node_numbers']\n",
    "\n",
    "        print(self.node_lookup2.keys())\n",
    "        \n",
    "        #get individual country's features\n",
    "        self.regression_table = pd.merge(self.features, self.trade_data,\n",
    "                        left_on = \"country_code\",\n",
    "                        right_on = center_node, how = 'right')\n",
    "        #get features for trade partners\n",
    "        self.regression_table = pd.merge(self.features, self.regression_table,\n",
    "                                        left_on = \"country_code\",\n",
    "                                        right_on = neighbors, how = \"right\",\n",
    "                                        suffixes = (\"_neighbors\", \"\"))\n",
    "        \n",
    "        self.trade_data = self.trade_data[self.trade_data[neighbors].isin(self.node_lookup2)]\n",
    "        self.trade_data = self.trade_data[self.trade_data[center_node].isin(self.node_lookup2)]\n",
    "\n",
    "        self.regression_table[\"source\"] = self.trade_data[neighbors].apply(lambda x: self.node_lookup2[x])\n",
    "        self.regression_table[\"target\"] = self.trade_data[center_node].apply(lambda x: self.node_lookup2[x])    \n",
    "\n",
    "        self.regression_table = self.regression_table.dropna()\n",
    "        #filter only to relevant columns\n",
    "        self.relevant_columns = [\"source\", \"target\"]\n",
    "        self.relevant_columns.extend(node_features)\n",
    "        self.relevant_columns.append(node_labels)\n",
    "        self.graph_table = self.regression_table[self.relevant_columns]\n",
    "        \n",
    "        if(self.graph_table.isnull().values.any()): print(\"edges contain null / inf values\")\n",
    "\n",
    "        self.node_attributes = torch.tensor(np.array(self.features[node_features]))\\\n",
    "        .to(torch.float)\n",
    "        self.source_nodes = list(self.graph_table[\"source\"])\n",
    "        self.target_nodes = list(self.graph_table[\"target\"])\n",
    "        self.edge_attributes = list(self.trade_data[edge_features])\n",
    "\n",
    "        self.pyg_graph = data.Data(x = self.node_attributes,\n",
    "                                   edge_index = torch.tensor([self.source_nodes, self.target_nodes]),\n",
    "                                   edge_attr = torch.tensor(self.edge_attributes).to(torch.float),\n",
    "                                   y = torch.tensor(list(self.features[node_labels])).to(torch.float))\n",
    "\n",
    "        "
   ]
  },
  {
   "cell_type": "markdown",
   "metadata": {},
   "source": [
    "# Graph Setup"
   ]
  },
  {
   "cell_type": "code",
   "execution_count": 18,
   "metadata": {},
   "outputs": [],
   "source": [
    "years = range(1962,2021)\n",
    "\n",
    "train_years = years[:30]\n",
    "val_years = years[30:42]\n",
    "test_years = years[42:]"
   ]
  },
  {
   "cell_type": "code",
   "execution_count": 19,
   "metadata": {},
   "outputs": [
    {
     "name": "stderr",
     "output_type": "stream",
     "text": [
      "  0%|          | 0/59 [00:00<?, ?it/s]"
     ]
    },
    {
     "name": "stdout",
     "output_type": "stream",
     "text": [
      "1962\r"
     ]
    },
    {
     "name": "stderr",
     "output_type": "stream",
     "text": [
      "  2%|▏         | 1/59 [00:03<03:00,  3.12s/it]"
     ]
    },
    {
     "name": "stdout",
     "output_type": "stream",
     "text": [
      "dict_keys(['AUS', 'AUT', 'BDI', 'BEL', 'BEN', 'BFA', 'BHS', 'BMU', 'BOL', 'BRA', 'CAF', 'CHL', 'CHN', 'CIV', 'CMR', 'COD', 'COG', 'COL', 'CRI', 'DOM', 'DZA', 'ECU', 'ESP', 'FIN', 'FJI', 'FRA', 'GAB', 'GBR', 'GHA', 'GRC', 'GTM', 'GUY', 'HND', 'HTI', 'IND', 'ITA', 'JPN', 'KEN', 'KOR', 'MDG', 'MEX', 'NER', 'NGA', 'NIC', 'NLD', 'NOR', 'NPL', 'PAK', 'PAN', 'PER', 'PHL', 'PNG', 'PRT', 'SDN', 'SEN', 'SGP', 'SLE', 'SUR', 'SWE', 'TCD', 'TGO', 'THA', 'TTO', 'TUR', 'URY', 'USA', 'ZAF'])\n",
      "torch.Size([67, 12])\n",
      "1963\r"
     ]
    },
    {
     "name": "stderr",
     "output_type": "stream",
     "text": [
      "  3%|▎         | 2/59 [00:06<03:13,  3.40s/it]"
     ]
    },
    {
     "name": "stdout",
     "output_type": "stream",
     "text": [
      "dict_keys(['AUS', 'AUT', 'BDI', 'BEL', 'BEN', 'BFA', 'BHS', 'BMU', 'BOL', 'BRA', 'CAF', 'CHL', 'CHN', 'CIV', 'CMR', 'COD', 'COG', 'COL', 'CRI', 'DOM', 'DZA', 'ECU', 'ESP', 'FIN', 'FJI', 'FRA', 'GAB', 'GBR', 'GHA', 'GRC', 'GTM', 'GUY', 'HND', 'HTI', 'IND', 'ITA', 'JPN', 'KEN', 'KOR', 'MDG', 'MEX', 'NER', 'NGA', 'NIC', 'NLD', 'NOR', 'NPL', 'PAK', 'PAN', 'PER', 'PHL', 'PNG', 'PRT', 'SDN', 'SEN', 'SGP', 'SLE', 'SUR', 'SWE', 'TCD', 'TGO', 'THA', 'TTO', 'TUR', 'URY', 'USA', 'ZAF'])\n",
      "torch.Size([67, 12])\n",
      "1964\r"
     ]
    },
    {
     "name": "stderr",
     "output_type": "stream",
     "text": [
      "  5%|▌         | 3/59 [00:10<03:10,  3.41s/it]"
     ]
    },
    {
     "name": "stdout",
     "output_type": "stream",
     "text": [
      "dict_keys(['AUS', 'AUT', 'BDI', 'BEL', 'BEN', 'BFA', 'BHS', 'BMU', 'BOL', 'BRA', 'CAF', 'CHL', 'CHN', 'CIV', 'CMR', 'COD', 'COG', 'COL', 'CRI', 'DOM', 'DZA', 'ECU', 'ESP', 'FIN', 'FJI', 'FRA', 'GAB', 'GBR', 'GHA', 'GRC', 'GTM', 'GUY', 'HND', 'HTI', 'IND', 'ITA', 'JPN', 'KEN', 'KOR', 'MDG', 'MEX', 'NER', 'NGA', 'NIC', 'NLD', 'NOR', 'NPL', 'PAK', 'PAN', 'PER', 'PHL', 'PNG', 'PRT', 'SDN', 'SEN', 'SGP', 'SLE', 'SUR', 'SWE', 'TCD', 'TGO', 'THA', 'TTO', 'TUR', 'URY', 'USA', 'ZAF'])\n",
      "torch.Size([67, 12])\n",
      "1965\r"
     ]
    },
    {
     "name": "stderr",
     "output_type": "stream",
     "text": [
      "  7%|▋         | 4/59 [00:14<03:17,  3.60s/it]"
     ]
    },
    {
     "name": "stdout",
     "output_type": "stream",
     "text": [
      "dict_keys(['AUS', 'AUT', 'BDI', 'BEL', 'BEN', 'BFA', 'BHS', 'BMU', 'BOL', 'BRA', 'CAF', 'CHL', 'CHN', 'CIV', 'CMR', 'COD', 'COG', 'COL', 'CRI', 'DOM', 'DZA', 'ECU', 'ESP', 'FIN', 'FJI', 'FRA', 'GAB', 'GBR', 'GHA', 'GRC', 'GTM', 'GUY', 'HND', 'HTI', 'IND', 'ITA', 'JPN', 'KEN', 'KOR', 'MDG', 'MEX', 'NER', 'NGA', 'NIC', 'NLD', 'NOR', 'NPL', 'PAK', 'PAN', 'PER', 'PHL', 'PNG', 'PRT', 'SDN', 'SEN', 'SGP', 'SLE', 'SUR', 'SWE', 'TCD', 'TGO', 'THA', 'TTO', 'TUR', 'URY', 'USA', 'ZAF'])\n",
      "torch.Size([67, 12])\n",
      "1966\r"
     ]
    },
    {
     "name": "stderr",
     "output_type": "stream",
     "text": [
      "  8%|▊         | 5/59 [00:17<03:15,  3.62s/it]"
     ]
    },
    {
     "name": "stdout",
     "output_type": "stream",
     "text": [
      "dict_keys(['AUS', 'AUT', 'BDI', 'BEL', 'BEN', 'BFA', 'BHS', 'BMU', 'BOL', 'BRA', 'CAF', 'CHL', 'CHN', 'CIV', 'CMR', 'COD', 'COG', 'COL', 'CRI', 'DOM', 'DZA', 'ECU', 'ESP', 'FIN', 'FJI', 'FRA', 'GAB', 'GBR', 'GHA', 'GRC', 'GTM', 'GUY', 'HND', 'HTI', 'IND', 'ITA', 'JPN', 'KEN', 'KOR', 'MDG', 'MEX', 'NER', 'NGA', 'NIC', 'NLD', 'NOR', 'NPL', 'PAK', 'PAN', 'PER', 'PHL', 'PNG', 'PRT', 'SDN', 'SEN', 'SGP', 'SLE', 'SUR', 'SWE', 'TCD', 'TGO', 'THA', 'TTO', 'TUR', 'URY', 'USA', 'ZAF'])\n",
      "torch.Size([67, 12])\n",
      "1967\r"
     ]
    },
    {
     "name": "stderr",
     "output_type": "stream",
     "text": [
      " 10%|█         | 6/59 [00:23<03:52,  4.39s/it]"
     ]
    },
    {
     "name": "stdout",
     "output_type": "stream",
     "text": [
      "dict_keys(['AUS', 'AUT', 'BDI', 'BEL', 'BEN', 'BFA', 'BHS', 'BMU', 'BOL', 'BRA', 'CAF', 'CHL', 'CHN', 'CIV', 'CMR', 'COD', 'COG', 'COL', 'CRI', 'DOM', 'DZA', 'ECU', 'ESP', 'FIN', 'FJI', 'FRA', 'GAB', 'GBR', 'GHA', 'GRC', 'GTM', 'GUY', 'HND', 'HTI', 'IND', 'ITA', 'JPN', 'KEN', 'KOR', 'MDG', 'MEX', 'NER', 'NGA', 'NIC', 'NLD', 'NOR', 'NPL', 'PAK', 'PAN', 'PER', 'PHL', 'PNG', 'PRT', 'SDN', 'SEN', 'SGP', 'SLE', 'SUR', 'SWE', 'TCD', 'TGO', 'THA', 'TTO', 'TUR', 'URY', 'USA', 'ZAF'])\n",
      "torch.Size([67, 12])\n",
      "1968\r"
     ]
    },
    {
     "name": "stderr",
     "output_type": "stream",
     "text": [
      " 12%|█▏        | 7/59 [00:27<03:40,  4.24s/it]"
     ]
    },
    {
     "name": "stdout",
     "output_type": "stream",
     "text": [
      "dict_keys(['AUS', 'AUT', 'BDI', 'BEL', 'BEN', 'BFA', 'BHS', 'BMU', 'BOL', 'BRA', 'CAF', 'CHL', 'CHN', 'CIV', 'CMR', 'COD', 'COG', 'COL', 'CRI', 'DOM', 'DZA', 'ECU', 'ESP', 'FIN', 'FJI', 'FRA', 'GAB', 'GBR', 'GHA', 'GRC', 'GTM', 'GUY', 'HND', 'HTI', 'IND', 'ITA', 'JPN', 'KEN', 'KOR', 'MDG', 'MEX', 'NER', 'NGA', 'NIC', 'NLD', 'NOR', 'NPL', 'PAK', 'PAN', 'PER', 'PHL', 'PNG', 'PRT', 'SDN', 'SEN', 'SGP', 'SLE', 'SUR', 'SWE', 'TCD', 'TGO', 'THA', 'TTO', 'TUR', 'URY', 'USA', 'ZAF'])\n",
      "torch.Size([67, 12])\n",
      "1969\r"
     ]
    },
    {
     "name": "stderr",
     "output_type": "stream",
     "text": [
      " 14%|█▎        | 8/59 [00:32<03:40,  4.32s/it]"
     ]
    },
    {
     "name": "stdout",
     "output_type": "stream",
     "text": [
      "dict_keys(['AUS', 'AUT', 'BDI', 'BEL', 'BEN', 'BFA', 'BHS', 'BMU', 'BOL', 'BRA', 'CAF', 'CHL', 'CHN', 'CIV', 'CMR', 'COD', 'COG', 'COL', 'CRI', 'DOM', 'DZA', 'ECU', 'ESP', 'FIN', 'FJI', 'FRA', 'GAB', 'GBR', 'GHA', 'GRC', 'GTM', 'GUY', 'HND', 'HTI', 'IND', 'ITA', 'JPN', 'KEN', 'KOR', 'MDG', 'MEX', 'NER', 'NGA', 'NIC', 'NLD', 'NOR', 'NPL', 'PAK', 'PAN', 'PER', 'PHL', 'PNG', 'PRT', 'SDN', 'SEN', 'SGP', 'SLE', 'SUR', 'SWE', 'TCD', 'TGO', 'THA', 'TTO', 'TUR', 'URY', 'USA', 'ZAF'])\n",
      "torch.Size([67, 12])\n",
      "1970\r"
     ]
    },
    {
     "name": "stderr",
     "output_type": "stream",
     "text": [
      " 15%|█▌        | 9/59 [00:36<03:37,  4.34s/it]"
     ]
    },
    {
     "name": "stdout",
     "output_type": "stream",
     "text": [
      "dict_keys(['AUS', 'AUT', 'BDI', 'BEL', 'BEN', 'BFA', 'BHS', 'BMU', 'BOL', 'BRA', 'CAF', 'CHL', 'CHN', 'CIV', 'CMR', 'COD', 'COG', 'COL', 'CRI', 'DOM', 'DZA', 'ECU', 'ESP', 'FIN', 'FJI', 'FRA', 'GAB', 'GBR', 'GHA', 'GRC', 'GTM', 'GUY', 'HND', 'HTI', 'IND', 'ITA', 'JPN', 'KEN', 'KOR', 'MDG', 'MEX', 'NER', 'NGA', 'NIC', 'NLD', 'NOR', 'NPL', 'PAK', 'PAN', 'PER', 'PHL', 'PNG', 'PRT', 'SDN', 'SEN', 'SGP', 'SLE', 'SUR', 'SWE', 'TCD', 'TGO', 'THA', 'TTO', 'TUR', 'URY', 'USA', 'ZAF'])\n",
      "torch.Size([67, 12])\n",
      "1971\r"
     ]
    },
    {
     "name": "stderr",
     "output_type": "stream",
     "text": [
      " 17%|█▋        | 10/59 [00:41<03:39,  4.47s/it]"
     ]
    },
    {
     "name": "stdout",
     "output_type": "stream",
     "text": [
      "dict_keys(['AUS', 'AUT', 'BDI', 'BEL', 'BEN', 'BFA', 'BHS', 'BMU', 'BOL', 'BRA', 'CAF', 'CHL', 'CHN', 'CIV', 'CMR', 'COD', 'COG', 'COL', 'CRI', 'DOM', 'DZA', 'ECU', 'ESP', 'FIN', 'FJI', 'FRA', 'GAB', 'GBR', 'GHA', 'GRC', 'GTM', 'GUY', 'HND', 'HTI', 'IND', 'ITA', 'JPN', 'KEN', 'KOR', 'MDG', 'MEX', 'NER', 'NGA', 'NIC', 'NLD', 'NOR', 'NPL', 'PAK', 'PAN', 'PER', 'PHL', 'PNG', 'PRT', 'SDN', 'SEN', 'SGP', 'SLE', 'SUR', 'SWE', 'TCD', 'TGO', 'THA', 'TTO', 'TUR', 'URY', 'USA', 'ZAF'])\n",
      "torch.Size([67, 12])\n",
      "1972\r"
     ]
    },
    {
     "name": "stderr",
     "output_type": "stream",
     "text": [
      " 19%|█▊        | 11/59 [00:45<03:35,  4.48s/it]"
     ]
    },
    {
     "name": "stdout",
     "output_type": "stream",
     "text": [
      "dict_keys(['AUS', 'AUT', 'BDI', 'BEL', 'BEN', 'BFA', 'BHS', 'BMU', 'BOL', 'BRA', 'CAF', 'CHL', 'CHN', 'CIV', 'CMR', 'COD', 'COG', 'COL', 'CRI', 'DOM', 'DZA', 'ECU', 'ESP', 'FIN', 'FJI', 'FRA', 'GAB', 'GBR', 'GHA', 'GRC', 'GTM', 'GUY', 'HND', 'HTI', 'IND', 'ITA', 'JPN', 'KEN', 'KOR', 'MDG', 'MEX', 'NER', 'NGA', 'NIC', 'NLD', 'NOR', 'NPL', 'PAK', 'PAN', 'PER', 'PHL', 'PNG', 'PRT', 'SDN', 'SEN', 'SGP', 'SLE', 'SUR', 'SWE', 'TCD', 'TGO', 'THA', 'TTO', 'TUR', 'URY', 'USA', 'ZAF'])\n",
      "torch.Size([67, 12])\n",
      "1973\r"
     ]
    },
    {
     "name": "stderr",
     "output_type": "stream",
     "text": [
      " 20%|██        | 12/59 [00:51<03:48,  4.86s/it]"
     ]
    },
    {
     "name": "stdout",
     "output_type": "stream",
     "text": [
      "dict_keys(['AUS', 'AUT', 'BDI', 'BEL', 'BEN', 'BFA', 'BHS', 'BMU', 'BOL', 'BRA', 'CAF', 'CHL', 'CHN', 'CIV', 'CMR', 'COD', 'COG', 'COL', 'CRI', 'DOM', 'DZA', 'ECU', 'ESP', 'FIN', 'FJI', 'FRA', 'GAB', 'GBR', 'GHA', 'GRC', 'GTM', 'GUY', 'HND', 'HTI', 'IND', 'ITA', 'JPN', 'KEN', 'KOR', 'MDG', 'MEX', 'NER', 'NGA', 'NIC', 'NLD', 'NOR', 'NPL', 'PAK', 'PAN', 'PER', 'PHL', 'PNG', 'PRT', 'SDN', 'SEN', 'SGP', 'SLE', 'SUR', 'SWE', 'TCD', 'TGO', 'THA', 'TTO', 'TUR', 'URY', 'USA', 'ZAF'])\n",
      "torch.Size([67, 12])\n",
      "1974\r"
     ]
    },
    {
     "name": "stderr",
     "output_type": "stream",
     "text": [
      " 22%|██▏       | 13/59 [00:56<03:47,  4.95s/it]"
     ]
    },
    {
     "name": "stdout",
     "output_type": "stream",
     "text": [
      "dict_keys(['AUS', 'AUT', 'BDI', 'BEL', 'BEN', 'BFA', 'BHS', 'BMU', 'BOL', 'BRA', 'CAF', 'CHL', 'CHN', 'CIV', 'CMR', 'COD', 'COG', 'COL', 'CRI', 'DOM', 'DZA', 'ECU', 'ESP', 'FIN', 'FJI', 'FRA', 'GAB', 'GBR', 'GHA', 'GRC', 'GTM', 'GUY', 'HND', 'HTI', 'IND', 'ITA', 'JPN', 'KEN', 'KOR', 'MDG', 'MEX', 'NER', 'NGA', 'NIC', 'NLD', 'NOR', 'NPL', 'PAK', 'PAN', 'PER', 'PHL', 'PNG', 'PRT', 'SDN', 'SEN', 'SGP', 'SLE', 'SUR', 'SWE', 'TCD', 'TGO', 'THA', 'TTO', 'TUR', 'URY', 'USA', 'ZAF'])\n",
      "torch.Size([67, 12])\n",
      "1975\r"
     ]
    },
    {
     "name": "stderr",
     "output_type": "stream",
     "text": [
      " 24%|██▎       | 14/59 [01:04<04:18,  5.74s/it]"
     ]
    },
    {
     "name": "stdout",
     "output_type": "stream",
     "text": [
      "dict_keys(['AUS', 'AUT', 'BDI', 'BEL', 'BEN', 'BFA', 'BHS', 'BMU', 'BOL', 'BRA', 'CAF', 'CHL', 'CHN', 'CIV', 'CMR', 'COD', 'COG', 'COL', 'CRI', 'DOM', 'DZA', 'ECU', 'ESP', 'FIN', 'FJI', 'FRA', 'GAB', 'GBR', 'GHA', 'GRC', 'GTM', 'GUY', 'HND', 'HTI', 'IND', 'ITA', 'JPN', 'KEN', 'KOR', 'MDG', 'MEX', 'NER', 'NGA', 'NIC', 'NLD', 'NOR', 'NPL', 'PAK', 'PAN', 'PER', 'PHL', 'PNG', 'PRT', 'SDN', 'SEN', 'SGP', 'SLE', 'SUR', 'SWE', 'TCD', 'TGO', 'THA', 'TTO', 'TUR', 'URY', 'USA', 'ZAF'])\n",
      "torch.Size([67, 12])\n",
      "1976\r"
     ]
    },
    {
     "name": "stderr",
     "output_type": "stream",
     "text": [
      " 25%|██▌       | 15/59 [01:06<03:31,  4.82s/it]"
     ]
    },
    {
     "name": "stdout",
     "output_type": "stream",
     "text": [
      "dict_keys(['AUS', 'AUT', 'BDI', 'BEL', 'BEN', 'BFA', 'BHS', 'BMU', 'BOL', 'BRA', 'CAF', 'CHL', 'CHN', 'CIV', 'CMR', 'COD', 'COG', 'COL', 'CRI', 'DOM', 'DZA', 'ECU', 'ESP', 'FIN', 'FJI', 'FRA', 'GAB', 'GBR', 'GHA', 'GRC', 'GTM', 'GUY', 'HND', 'HTI', 'IND', 'ITA', 'JPN', 'KEN', 'KOR', 'MDG', 'MEX', 'NER', 'NGA', 'NIC', 'NLD', 'NOR', 'NPL', 'PAK', 'PAN', 'PER', 'PHL', 'PNG', 'PRT', 'SDN', 'SEN', 'SGP', 'SLE', 'SUR', 'SWE', 'TCD', 'TGO', 'THA', 'TTO', 'TUR', 'URY', 'USA', 'ZAF'])\n",
      "torch.Size([67, 12])\n",
      "1977\r"
     ]
    },
    {
     "name": "stderr",
     "output_type": "stream",
     "text": [
      " 27%|██▋       | 16/59 [01:10<03:13,  4.49s/it]"
     ]
    },
    {
     "name": "stdout",
     "output_type": "stream",
     "text": [
      "dict_keys(['AUS', 'AUT', 'BDI', 'BEL', 'BEN', 'BFA', 'BHS', 'BMU', 'BOL', 'BRA', 'CAF', 'CHL', 'CHN', 'CIV', 'CMR', 'COD', 'COG', 'COL', 'CRI', 'DOM', 'DZA', 'ECU', 'ESP', 'FIN', 'FJI', 'FRA', 'GAB', 'GBR', 'GHA', 'GRC', 'GTM', 'GUY', 'HND', 'HTI', 'IND', 'ITA', 'JPN', 'KEN', 'KOR', 'MDG', 'MEX', 'NER', 'NGA', 'NIC', 'NLD', 'NOR', 'NPL', 'PAK', 'PAN', 'PER', 'PHL', 'PNG', 'PRT', 'SDN', 'SEN', 'SGP', 'SLE', 'SUR', 'SWE', 'TCD', 'TGO', 'THA', 'TTO', 'TUR', 'URY', 'USA', 'ZAF'])\n",
      "torch.Size([67, 12])\n",
      "1978\r"
     ]
    },
    {
     "name": "stderr",
     "output_type": "stream",
     "text": [
      " 29%|██▉       | 17/59 [01:14<02:57,  4.23s/it]"
     ]
    },
    {
     "name": "stdout",
     "output_type": "stream",
     "text": [
      "dict_keys(['AUS', 'AUT', 'BDI', 'BEL', 'BEN', 'BFA', 'BHS', 'BMU', 'BOL', 'BRA', 'CAF', 'CHL', 'CHN', 'CIV', 'CMR', 'COD', 'COG', 'COL', 'CRI', 'DOM', 'DZA', 'ECU', 'ESP', 'FIN', 'FJI', 'FRA', 'GAB', 'GBR', 'GHA', 'GRC', 'GTM', 'GUY', 'HND', 'HTI', 'IND', 'ITA', 'JPN', 'KEN', 'KOR', 'MDG', 'MEX', 'NER', 'NGA', 'NIC', 'NLD', 'NOR', 'NPL', 'PAK', 'PAN', 'PER', 'PHL', 'PNG', 'PRT', 'SDN', 'SEN', 'SGP', 'SLE', 'SUR', 'SWE', 'TCD', 'TGO', 'THA', 'TTO', 'TUR', 'URY', 'USA', 'ZAF'])\n",
      "torch.Size([67, 12])\n",
      "1979\r"
     ]
    },
    {
     "name": "stderr",
     "output_type": "stream",
     "text": [
      " 31%|███       | 18/59 [01:18<02:52,  4.22s/it]"
     ]
    },
    {
     "name": "stdout",
     "output_type": "stream",
     "text": [
      "dict_keys(['AUS', 'AUT', 'BDI', 'BEL', 'BEN', 'BFA', 'BHS', 'BMU', 'BOL', 'BRA', 'CAF', 'CHL', 'CHN', 'CIV', 'CMR', 'COD', 'COG', 'COL', 'CRI', 'DOM', 'DZA', 'ECU', 'ESP', 'FIN', 'FJI', 'FRA', 'GAB', 'GBR', 'GHA', 'GRC', 'GTM', 'GUY', 'HND', 'HTI', 'IND', 'ITA', 'JPN', 'KEN', 'KOR', 'MDG', 'MEX', 'NER', 'NGA', 'NIC', 'NLD', 'NOR', 'NPL', 'PAK', 'PAN', 'PER', 'PHL', 'PNG', 'PRT', 'SDN', 'SEN', 'SGP', 'SLE', 'SUR', 'SWE', 'TCD', 'TGO', 'THA', 'TTO', 'TUR', 'URY', 'USA', 'ZAF'])\n",
      "torch.Size([67, 12])\n",
      "1980\r"
     ]
    },
    {
     "name": "stderr",
     "output_type": "stream",
     "text": [
      " 32%|███▏      | 19/59 [01:22<02:50,  4.27s/it]"
     ]
    },
    {
     "name": "stdout",
     "output_type": "stream",
     "text": [
      "dict_keys(['AUS', 'AUT', 'BDI', 'BEL', 'BEN', 'BFA', 'BHS', 'BMU', 'BOL', 'BRA', 'CAF', 'CHL', 'CHN', 'CIV', 'CMR', 'COD', 'COG', 'COL', 'CRI', 'DOM', 'DZA', 'ECU', 'ESP', 'FIN', 'FJI', 'FRA', 'GAB', 'GBR', 'GHA', 'GRC', 'GTM', 'GUY', 'HND', 'HTI', 'IND', 'ITA', 'JPN', 'KEN', 'KOR', 'MDG', 'MEX', 'NER', 'NGA', 'NIC', 'NLD', 'NOR', 'NPL', 'PAK', 'PAN', 'PER', 'PHL', 'PNG', 'PRT', 'SDN', 'SEN', 'SGP', 'SLE', 'SUR', 'SWE', 'TCD', 'TGO', 'THA', 'TTO', 'TUR', 'URY', 'USA', 'ZAF'])\n",
      "torch.Size([67, 12])\n",
      "1981\r"
     ]
    },
    {
     "name": "stderr",
     "output_type": "stream",
     "text": [
      " 34%|███▍      | 20/59 [01:28<03:06,  4.78s/it]"
     ]
    },
    {
     "name": "stdout",
     "output_type": "stream",
     "text": [
      "dict_keys(['AUS', 'AUT', 'BDI', 'BEL', 'BEN', 'BFA', 'BHS', 'BMU', 'BOL', 'BRA', 'CAF', 'CHL', 'CHN', 'CIV', 'CMR', 'COD', 'COG', 'COL', 'CRI', 'DOM', 'DZA', 'ECU', 'ESP', 'FIN', 'FJI', 'FRA', 'GAB', 'GBR', 'GHA', 'GRC', 'GTM', 'GUY', 'HND', 'HTI', 'IND', 'ITA', 'JPN', 'KEN', 'KOR', 'MDG', 'MEX', 'NER', 'NGA', 'NIC', 'NLD', 'NOR', 'NPL', 'PAK', 'PAN', 'PER', 'PHL', 'PNG', 'PRT', 'SDN', 'SEN', 'SGP', 'SLE', 'SUR', 'SWE', 'TCD', 'TGO', 'THA', 'TTO', 'TUR', 'URY', 'USA', 'ZAF'])\n",
      "torch.Size([67, 12])\n",
      "1982\r"
     ]
    },
    {
     "name": "stderr",
     "output_type": "stream",
     "text": [
      " 36%|███▌      | 21/59 [01:32<02:54,  4.58s/it]"
     ]
    },
    {
     "name": "stdout",
     "output_type": "stream",
     "text": [
      "dict_keys(['AUS', 'AUT', 'BDI', 'BEL', 'BEN', 'BFA', 'BHS', 'BMU', 'BOL', 'BRA', 'CAF', 'CHL', 'CHN', 'CIV', 'CMR', 'COD', 'COG', 'COL', 'CRI', 'DOM', 'DZA', 'ECU', 'ESP', 'FIN', 'FJI', 'FRA', 'GAB', 'GBR', 'GHA', 'GRC', 'GTM', 'GUY', 'HND', 'HTI', 'IND', 'ITA', 'JPN', 'KEN', 'KOR', 'MDG', 'MEX', 'NER', 'NGA', 'NIC', 'NLD', 'NOR', 'NPL', 'PAK', 'PAN', 'PER', 'PHL', 'PNG', 'PRT', 'SDN', 'SEN', 'SGP', 'SLE', 'SUR', 'SWE', 'TCD', 'TGO', 'THA', 'TTO', 'TUR', 'URY', 'USA', 'ZAF'])\n",
      "torch.Size([67, 12])\n",
      "1983\r"
     ]
    },
    {
     "name": "stderr",
     "output_type": "stream",
     "text": [
      " 37%|███▋      | 22/59 [01:36<02:44,  4.44s/it]"
     ]
    },
    {
     "name": "stdout",
     "output_type": "stream",
     "text": [
      "dict_keys(['AUS', 'AUT', 'BDI', 'BEL', 'BEN', 'BFA', 'BHS', 'BMU', 'BOL', 'BRA', 'CAF', 'CHL', 'CHN', 'CIV', 'CMR', 'COD', 'COG', 'COL', 'CRI', 'DOM', 'DZA', 'ECU', 'ESP', 'FIN', 'FJI', 'FRA', 'GAB', 'GBR', 'GHA', 'GRC', 'GTM', 'GUY', 'HND', 'HTI', 'IND', 'ITA', 'JPN', 'KEN', 'KOR', 'MDG', 'MEX', 'NER', 'NGA', 'NIC', 'NLD', 'NOR', 'NPL', 'PAK', 'PAN', 'PER', 'PHL', 'PNG', 'PRT', 'SDN', 'SEN', 'SGP', 'SLE', 'SUR', 'SWE', 'TCD', 'TGO', 'THA', 'TTO', 'TUR', 'URY', 'USA', 'ZAF'])\n",
      "torch.Size([67, 12])\n",
      "1984\r"
     ]
    },
    {
     "name": "stderr",
     "output_type": "stream",
     "text": [
      " 39%|███▉      | 23/59 [01:41<02:37,  4.36s/it]"
     ]
    },
    {
     "name": "stdout",
     "output_type": "stream",
     "text": [
      "dict_keys(['AUS', 'AUT', 'BDI', 'BEL', 'BEN', 'BFA', 'BHS', 'BMU', 'BOL', 'BRA', 'CAF', 'CHL', 'CHN', 'CIV', 'CMR', 'COD', 'COG', 'COL', 'CRI', 'DOM', 'DZA', 'ECU', 'ESP', 'FIN', 'FJI', 'FRA', 'GAB', 'GBR', 'GHA', 'GRC', 'GTM', 'GUY', 'HND', 'HTI', 'IND', 'ITA', 'JPN', 'KEN', 'KOR', 'MDG', 'MEX', 'NER', 'NGA', 'NIC', 'NLD', 'NOR', 'NPL', 'PAK', 'PAN', 'PER', 'PHL', 'PNG', 'PRT', 'SDN', 'SEN', 'SGP', 'SLE', 'SUR', 'SWE', 'TCD', 'TGO', 'THA', 'TTO', 'TUR', 'URY', 'USA', 'ZAF'])\n",
      "torch.Size([67, 12])\n",
      "1985\r"
     ]
    },
    {
     "name": "stderr",
     "output_type": "stream",
     "text": [
      " 41%|████      | 24/59 [01:45<02:31,  4.33s/it]"
     ]
    },
    {
     "name": "stdout",
     "output_type": "stream",
     "text": [
      "dict_keys(['AUS', 'AUT', 'BDI', 'BEL', 'BEN', 'BFA', 'BHS', 'BMU', 'BOL', 'BRA', 'CAF', 'CHL', 'CHN', 'CIV', 'CMR', 'COD', 'COG', 'COL', 'CRI', 'DOM', 'DZA', 'ECU', 'ESP', 'FIN', 'FJI', 'FRA', 'GAB', 'GBR', 'GHA', 'GRC', 'GTM', 'GUY', 'HND', 'HTI', 'IND', 'ITA', 'JPN', 'KEN', 'KOR', 'MDG', 'MEX', 'NER', 'NGA', 'NIC', 'NLD', 'NOR', 'NPL', 'PAK', 'PAN', 'PER', 'PHL', 'PNG', 'PRT', 'SDN', 'SEN', 'SGP', 'SLE', 'SUR', 'SWE', 'TCD', 'TGO', 'THA', 'TTO', 'TUR', 'URY', 'USA', 'ZAF'])\n",
      "torch.Size([67, 12])\n",
      "1986\r"
     ]
    },
    {
     "name": "stderr",
     "output_type": "stream",
     "text": [
      " 42%|████▏     | 25/59 [01:49<02:28,  4.36s/it]"
     ]
    },
    {
     "name": "stdout",
     "output_type": "stream",
     "text": [
      "dict_keys(['AUS', 'AUT', 'BDI', 'BEL', 'BEN', 'BFA', 'BHS', 'BMU', 'BOL', 'BRA', 'CAF', 'CHL', 'CHN', 'CIV', 'CMR', 'COD', 'COG', 'COL', 'CRI', 'DOM', 'DZA', 'ECU', 'ESP', 'FIN', 'FJI', 'FRA', 'GAB', 'GBR', 'GHA', 'GRC', 'GTM', 'GUY', 'HND', 'HTI', 'IND', 'ITA', 'JPN', 'KEN', 'KOR', 'MDG', 'MEX', 'NER', 'NGA', 'NIC', 'NLD', 'NOR', 'NPL', 'PAK', 'PAN', 'PER', 'PHL', 'PNG', 'PRT', 'SDN', 'SEN', 'SGP', 'SLE', 'SUR', 'SWE', 'TCD', 'TGO', 'THA', 'TTO', 'TUR', 'URY', 'USA', 'ZAF'])\n",
      "torch.Size([67, 12])\n",
      "1987\r"
     ]
    },
    {
     "name": "stderr",
     "output_type": "stream",
     "text": [
      " 44%|████▍     | 26/59 [01:54<02:25,  4.42s/it]"
     ]
    },
    {
     "name": "stdout",
     "output_type": "stream",
     "text": [
      "dict_keys(['AUS', 'AUT', 'BDI', 'BEL', 'BEN', 'BFA', 'BHS', 'BMU', 'BOL', 'BRA', 'CAF', 'CHL', 'CHN', 'CIV', 'CMR', 'COD', 'COG', 'COL', 'CRI', 'DOM', 'DZA', 'ECU', 'ESP', 'FIN', 'FJI', 'FRA', 'GAB', 'GBR', 'GHA', 'GRC', 'GTM', 'GUY', 'HND', 'HTI', 'IND', 'ITA', 'JPN', 'KEN', 'KOR', 'MDG', 'MEX', 'NER', 'NGA', 'NIC', 'NLD', 'NOR', 'NPL', 'PAK', 'PAN', 'PER', 'PHL', 'PNG', 'PRT', 'SDN', 'SEN', 'SGP', 'SLE', 'SUR', 'SWE', 'TCD', 'TGO', 'THA', 'TTO', 'TUR', 'URY', 'USA', 'ZAF'])\n",
      "torch.Size([67, 12])\n",
      "1988\r"
     ]
    },
    {
     "name": "stderr",
     "output_type": "stream",
     "text": [
      " 46%|████▌     | 27/59 [01:59<02:24,  4.50s/it]"
     ]
    },
    {
     "name": "stdout",
     "output_type": "stream",
     "text": [
      "dict_keys(['AUS', 'AUT', 'BDI', 'BEL', 'BEN', 'BFA', 'BHS', 'BMU', 'BOL', 'BRA', 'CAF', 'CHL', 'CHN', 'CIV', 'CMR', 'COD', 'COG', 'COL', 'CRI', 'DOM', 'DZA', 'ECU', 'ESP', 'FIN', 'FJI', 'FRA', 'GAB', 'GBR', 'GHA', 'GRC', 'GTM', 'GUY', 'HND', 'HTI', 'IND', 'ITA', 'JPN', 'KEN', 'KOR', 'MDG', 'MEX', 'NER', 'NGA', 'NIC', 'NLD', 'NOR', 'NPL', 'PAK', 'PAN', 'PER', 'PHL', 'PNG', 'PRT', 'SDN', 'SEN', 'SGP', 'SLE', 'SUR', 'SWE', 'TCD', 'TGO', 'THA', 'TTO', 'TUR', 'URY', 'USA', 'ZAF'])\n",
      "torch.Size([67, 12])\n",
      "1989\r"
     ]
    },
    {
     "name": "stderr",
     "output_type": "stream",
     "text": [
      " 47%|████▋     | 28/59 [02:04<02:24,  4.66s/it]"
     ]
    },
    {
     "name": "stdout",
     "output_type": "stream",
     "text": [
      "dict_keys(['AUS', 'AUT', 'BDI', 'BEL', 'BEN', 'BFA', 'BHS', 'BMU', 'BOL', 'BRA', 'CAF', 'CHL', 'CHN', 'CIV', 'CMR', 'COD', 'COG', 'COL', 'CRI', 'DOM', 'DZA', 'ECU', 'ESP', 'FIN', 'FJI', 'FRA', 'GAB', 'GBR', 'GHA', 'GRC', 'GTM', 'GUY', 'HND', 'HTI', 'IND', 'ITA', 'JPN', 'KEN', 'KOR', 'MDG', 'MEX', 'NER', 'NGA', 'NIC', 'NLD', 'NOR', 'NPL', 'PAK', 'PAN', 'PER', 'PHL', 'PNG', 'PRT', 'SDN', 'SEN', 'SGP', 'SLE', 'SUR', 'SWE', 'TCD', 'TGO', 'THA', 'TTO', 'TUR', 'URY', 'USA', 'ZAF'])\n",
      "torch.Size([67, 12])\n",
      "1990\r"
     ]
    },
    {
     "name": "stderr",
     "output_type": "stream",
     "text": [
      " 49%|████▉     | 29/59 [02:09<02:25,  4.85s/it]"
     ]
    },
    {
     "name": "stdout",
     "output_type": "stream",
     "text": [
      "dict_keys(['AUS', 'AUT', 'BDI', 'BEL', 'BEN', 'BFA', 'BHS', 'BMU', 'BOL', 'BRA', 'CAF', 'CHL', 'CHN', 'CIV', 'CMR', 'COD', 'COG', 'COL', 'CRI', 'DOM', 'DZA', 'ECU', 'ESP', 'FIN', 'FJI', 'FRA', 'GAB', 'GBR', 'GHA', 'GRC', 'GTM', 'GUY', 'HND', 'HTI', 'IND', 'ITA', 'JPN', 'KEN', 'KOR', 'MDG', 'MEX', 'NER', 'NGA', 'NIC', 'NLD', 'NOR', 'NPL', 'PAK', 'PAN', 'PER', 'PHL', 'PNG', 'PRT', 'SDN', 'SEN', 'SGP', 'SLE', 'SUR', 'SWE', 'TCD', 'TGO', 'THA', 'TTO', 'TUR', 'URY', 'USA', 'ZAF'])\n",
      "torch.Size([67, 12])\n",
      "1991\r"
     ]
    },
    {
     "name": "stderr",
     "output_type": "stream",
     "text": [
      " 51%|█████     | 30/59 [02:14<02:23,  4.95s/it]"
     ]
    },
    {
     "name": "stdout",
     "output_type": "stream",
     "text": [
      "dict_keys(['AUS', 'AUT', 'BDI', 'BEL', 'BEN', 'BFA', 'BHS', 'BMU', 'BOL', 'BRA', 'CAF', 'CHL', 'CHN', 'CIV', 'CMR', 'COD', 'COG', 'COL', 'CRI', 'DOM', 'DZA', 'ECU', 'ESP', 'FIN', 'FJI', 'FRA', 'GAB', 'GBR', 'GHA', 'GRC', 'GTM', 'GUY', 'HND', 'HTI', 'IND', 'ITA', 'JPN', 'KEN', 'KOR', 'MDG', 'MEX', 'NER', 'NGA', 'NIC', 'NLD', 'NOR', 'NPL', 'PAK', 'PAN', 'PER', 'PHL', 'PNG', 'PRT', 'SDN', 'SEN', 'SGP', 'SLE', 'SUR', 'SWE', 'TCD', 'TGO', 'THA', 'TTO', 'TUR', 'URY', 'USA', 'ZAF'])\n",
      "torch.Size([67, 12])\n",
      "1992\r"
     ]
    },
    {
     "name": "stderr",
     "output_type": "stream",
     "text": [
      " 53%|█████▎    | 31/59 [02:20<02:26,  5.23s/it]"
     ]
    },
    {
     "name": "stdout",
     "output_type": "stream",
     "text": [
      "dict_keys(['AUS', 'AUT', 'BDI', 'BEL', 'BEN', 'BFA', 'BHS', 'BMU', 'BOL', 'BRA', 'CAF', 'CHL', 'CHN', 'CIV', 'CMR', 'COD', 'COG', 'COL', 'CRI', 'DOM', 'DZA', 'ECU', 'ESP', 'FIN', 'FJI', 'FRA', 'GAB', 'GBR', 'GHA', 'GRC', 'GTM', 'GUY', 'HND', 'HTI', 'IND', 'ITA', 'JPN', 'KEN', 'KOR', 'MDG', 'MEX', 'NER', 'NGA', 'NIC', 'NLD', 'NOR', 'NPL', 'PAK', 'PAN', 'PER', 'PHL', 'PNG', 'PRT', 'SDN', 'SEN', 'SGP', 'SLE', 'SUR', 'SWE', 'TCD', 'TGO', 'THA', 'TTO', 'TUR', 'URY', 'USA', 'ZAF'])\n",
      "torch.Size([67, 12])\n",
      "1993\r"
     ]
    },
    {
     "name": "stderr",
     "output_type": "stream",
     "text": [
      " 54%|█████▍    | 32/59 [02:26<02:25,  5.40s/it]"
     ]
    },
    {
     "name": "stdout",
     "output_type": "stream",
     "text": [
      "dict_keys(['AUS', 'AUT', 'BDI', 'BEL', 'BEN', 'BFA', 'BHS', 'BMU', 'BOL', 'BRA', 'CAF', 'CHL', 'CHN', 'CIV', 'CMR', 'COD', 'COG', 'COL', 'CRI', 'DOM', 'DZA', 'ECU', 'ESP', 'FIN', 'FJI', 'FRA', 'GAB', 'GBR', 'GHA', 'GRC', 'GTM', 'GUY', 'HND', 'HTI', 'IND', 'ITA', 'JPN', 'KEN', 'KOR', 'MDG', 'MEX', 'NER', 'NGA', 'NIC', 'NLD', 'NOR', 'NPL', 'PAK', 'PAN', 'PER', 'PHL', 'PNG', 'PRT', 'SDN', 'SEN', 'SGP', 'SLE', 'SUR', 'SWE', 'TCD', 'TGO', 'THA', 'TTO', 'TUR', 'URY', 'USA', 'ZAF'])\n",
      "torch.Size([67, 12])\n",
      "1994\r"
     ]
    },
    {
     "name": "stderr",
     "output_type": "stream",
     "text": [
      " 56%|█████▌    | 33/59 [02:32<02:24,  5.56s/it]"
     ]
    },
    {
     "name": "stdout",
     "output_type": "stream",
     "text": [
      "dict_keys(['AUS', 'AUT', 'BDI', 'BEL', 'BEN', 'BFA', 'BHS', 'BMU', 'BOL', 'BRA', 'CAF', 'CHL', 'CHN', 'CIV', 'CMR', 'COD', 'COG', 'COL', 'CRI', 'DOM', 'DZA', 'ECU', 'ESP', 'FIN', 'FJI', 'FRA', 'GAB', 'GBR', 'GHA', 'GRC', 'GTM', 'GUY', 'HND', 'HTI', 'IND', 'ITA', 'JPN', 'KEN', 'KOR', 'MDG', 'MEX', 'NER', 'NGA', 'NIC', 'NLD', 'NOR', 'NPL', 'PAK', 'PAN', 'PER', 'PHL', 'PNG', 'PRT', 'SDN', 'SEN', 'SGP', 'SLE', 'SUR', 'SWE', 'TCD', 'TGO', 'THA', 'TTO', 'TUR', 'URY', 'USA', 'ZAF'])\n",
      "torch.Size([67, 12])\n",
      "1995\r"
     ]
    },
    {
     "name": "stderr",
     "output_type": "stream",
     "text": [
      " 58%|█████▊    | 34/59 [02:38<02:22,  5.68s/it]"
     ]
    },
    {
     "name": "stdout",
     "output_type": "stream",
     "text": [
      "dict_keys(['AUS', 'AUT', 'BDI', 'BEL', 'BEN', 'BFA', 'BHS', 'BMU', 'BOL', 'BRA', 'CAF', 'CHL', 'CHN', 'CIV', 'CMR', 'COD', 'COG', 'COL', 'CRI', 'DOM', 'DZA', 'ECU', 'ESP', 'FIN', 'FJI', 'FRA', 'GAB', 'GBR', 'GHA', 'GRC', 'GTM', 'GUY', 'HND', 'HTI', 'IND', 'ITA', 'JPN', 'KEN', 'KOR', 'MDG', 'MEX', 'NER', 'NGA', 'NIC', 'NLD', 'NOR', 'NPL', 'PAK', 'PAN', 'PER', 'PHL', 'PNG', 'PRT', 'SDN', 'SEN', 'SGP', 'SLE', 'SUR', 'SWE', 'TCD', 'TGO', 'THA', 'TTO', 'TUR', 'URY', 'USA', 'ZAF'])\n",
      "torch.Size([67, 12])\n",
      "1996\r"
     ]
    },
    {
     "name": "stderr",
     "output_type": "stream",
     "text": [
      " 59%|█████▉    | 35/59 [02:44<02:20,  5.85s/it]"
     ]
    },
    {
     "name": "stdout",
     "output_type": "stream",
     "text": [
      "dict_keys(['AUS', 'AUT', 'BDI', 'BEL', 'BEN', 'BFA', 'BHS', 'BMU', 'BOL', 'BRA', 'CAF', 'CHL', 'CHN', 'CIV', 'CMR', 'COD', 'COG', 'COL', 'CRI', 'DOM', 'DZA', 'ECU', 'ESP', 'FIN', 'FJI', 'FRA', 'GAB', 'GBR', 'GHA', 'GRC', 'GTM', 'GUY', 'HND', 'HTI', 'IND', 'ITA', 'JPN', 'KEN', 'KOR', 'MDG', 'MEX', 'NER', 'NGA', 'NIC', 'NLD', 'NOR', 'NPL', 'PAK', 'PAN', 'PER', 'PHL', 'PNG', 'PRT', 'SDN', 'SEN', 'SGP', 'SLE', 'SUR', 'SWE', 'TCD', 'TGO', 'THA', 'TTO', 'TUR', 'URY', 'USA', 'ZAF'])\n",
      "torch.Size([67, 12])\n",
      "1997\r"
     ]
    },
    {
     "name": "stderr",
     "output_type": "stream",
     "text": [
      " 61%|██████    | 36/59 [02:50<02:18,  6.00s/it]"
     ]
    },
    {
     "name": "stdout",
     "output_type": "stream",
     "text": [
      "dict_keys(['AUS', 'AUT', 'BDI', 'BEL', 'BEN', 'BFA', 'BHS', 'BMU', 'BOL', 'BRA', 'CAF', 'CHL', 'CHN', 'CIV', 'CMR', 'COD', 'COG', 'COL', 'CRI', 'DOM', 'DZA', 'ECU', 'ESP', 'FIN', 'FJI', 'FRA', 'GAB', 'GBR', 'GHA', 'GRC', 'GTM', 'GUY', 'HND', 'HTI', 'IND', 'ITA', 'JPN', 'KEN', 'KOR', 'MDG', 'MEX', 'NER', 'NGA', 'NIC', 'NLD', 'NOR', 'NPL', 'PAK', 'PAN', 'PER', 'PHL', 'PNG', 'PRT', 'SDN', 'SEN', 'SGP', 'SLE', 'SUR', 'SWE', 'TCD', 'TGO', 'THA', 'TTO', 'TUR', 'URY', 'USA', 'ZAF'])\n",
      "torch.Size([67, 12])\n",
      "1998\r"
     ]
    },
    {
     "name": "stderr",
     "output_type": "stream",
     "text": [
      " 63%|██████▎   | 37/59 [02:57<02:16,  6.21s/it]"
     ]
    },
    {
     "name": "stdout",
     "output_type": "stream",
     "text": [
      "dict_keys(['AUS', 'AUT', 'BDI', 'BEL', 'BEN', 'BFA', 'BHS', 'BMU', 'BOL', 'BRA', 'CAF', 'CHL', 'CHN', 'CIV', 'CMR', 'COD', 'COG', 'COL', 'CRI', 'DOM', 'DZA', 'ECU', 'ESP', 'FIN', 'FJI', 'FRA', 'GAB', 'GBR', 'GHA', 'GRC', 'GTM', 'GUY', 'HND', 'HTI', 'IND', 'ITA', 'JPN', 'KEN', 'KOR', 'MDG', 'MEX', 'NER', 'NGA', 'NIC', 'NLD', 'NOR', 'NPL', 'PAK', 'PAN', 'PER', 'PHL', 'PNG', 'PRT', 'SDN', 'SEN', 'SGP', 'SLE', 'SUR', 'SWE', 'TCD', 'TGO', 'THA', 'TTO', 'TUR', 'URY', 'USA', 'ZAF'])\n",
      "torch.Size([67, 12])\n",
      "1999\r"
     ]
    },
    {
     "name": "stderr",
     "output_type": "stream",
     "text": [
      " 64%|██████▍   | 38/59 [03:04<02:13,  6.34s/it]"
     ]
    },
    {
     "name": "stdout",
     "output_type": "stream",
     "text": [
      "dict_keys(['AUS', 'AUT', 'BDI', 'BEL', 'BEN', 'BFA', 'BHS', 'BMU', 'BOL', 'BRA', 'CAF', 'CHL', 'CHN', 'CIV', 'CMR', 'COD', 'COG', 'COL', 'CRI', 'DOM', 'DZA', 'ECU', 'ESP', 'FIN', 'FJI', 'FRA', 'GAB', 'GBR', 'GHA', 'GRC', 'GTM', 'GUY', 'HND', 'HTI', 'IND', 'ITA', 'JPN', 'KEN', 'KOR', 'MDG', 'MEX', 'NER', 'NGA', 'NIC', 'NLD', 'NOR', 'NPL', 'PAK', 'PAN', 'PER', 'PHL', 'PNG', 'PRT', 'SDN', 'SEN', 'SGP', 'SLE', 'SUR', 'SWE', 'TCD', 'TGO', 'THA', 'TTO', 'TUR', 'URY', 'USA', 'ZAF'])\n",
      "torch.Size([67, 12])\n",
      "2000\r"
     ]
    },
    {
     "name": "stderr",
     "output_type": "stream",
     "text": [
      " 66%|██████▌   | 39/59 [03:11<02:11,  6.55s/it]"
     ]
    },
    {
     "name": "stdout",
     "output_type": "stream",
     "text": [
      "dict_keys(['AUS', 'AUT', 'BDI', 'BEL', 'BEN', 'BFA', 'BHS', 'BMU', 'BOL', 'BRA', 'CAF', 'CHL', 'CHN', 'CIV', 'CMR', 'COD', 'COG', 'COL', 'CRI', 'DOM', 'DZA', 'ECU', 'ESP', 'FIN', 'FJI', 'FRA', 'GAB', 'GBR', 'GHA', 'GRC', 'GTM', 'GUY', 'HND', 'HTI', 'IND', 'ITA', 'JPN', 'KEN', 'KOR', 'MDG', 'MEX', 'NER', 'NGA', 'NIC', 'NLD', 'NOR', 'NPL', 'PAK', 'PAN', 'PER', 'PHL', 'PNG', 'PRT', 'SDN', 'SEN', 'SGP', 'SLE', 'SUR', 'SWE', 'TCD', 'TGO', 'THA', 'TTO', 'TUR', 'URY', 'USA', 'ZAF'])\n",
      "torch.Size([67, 12])\n",
      "2001\r"
     ]
    },
    {
     "name": "stderr",
     "output_type": "stream",
     "text": [
      " 68%|██████▊   | 40/59 [03:18<02:07,  6.70s/it]"
     ]
    },
    {
     "name": "stdout",
     "output_type": "stream",
     "text": [
      "dict_keys(['AUS', 'AUT', 'BDI', 'BEL', 'BEN', 'BFA', 'BHS', 'BMU', 'BOL', 'BRA', 'CAF', 'CHL', 'CHN', 'CIV', 'CMR', 'COD', 'COG', 'COL', 'CRI', 'DOM', 'DZA', 'ECU', 'ESP', 'FIN', 'FJI', 'FRA', 'GAB', 'GBR', 'GHA', 'GRC', 'GTM', 'GUY', 'HND', 'HTI', 'IND', 'ITA', 'JPN', 'KEN', 'KOR', 'MDG', 'MEX', 'NER', 'NGA', 'NIC', 'NLD', 'NOR', 'NPL', 'PAK', 'PAN', 'PER', 'PHL', 'PNG', 'PRT', 'SDN', 'SEN', 'SGP', 'SLE', 'SUR', 'SWE', 'TCD', 'TGO', 'THA', 'TTO', 'TUR', 'URY', 'USA', 'ZAF'])\n",
      "torch.Size([67, 12])\n",
      "2002\r"
     ]
    },
    {
     "name": "stderr",
     "output_type": "stream",
     "text": [
      " 69%|██████▉   | 41/59 [03:25<02:03,  6.86s/it]"
     ]
    },
    {
     "name": "stdout",
     "output_type": "stream",
     "text": [
      "dict_keys(['AUS', 'AUT', 'BDI', 'BEL', 'BEN', 'BFA', 'BHS', 'BMU', 'BOL', 'BRA', 'CAF', 'CHL', 'CHN', 'CIV', 'CMR', 'COD', 'COG', 'COL', 'CRI', 'DOM', 'DZA', 'ECU', 'ESP', 'FIN', 'FJI', 'FRA', 'GAB', 'GBR', 'GHA', 'GRC', 'GTM', 'GUY', 'HND', 'HTI', 'IND', 'ITA', 'JPN', 'KEN', 'KOR', 'MDG', 'MEX', 'NER', 'NGA', 'NIC', 'NLD', 'NOR', 'NPL', 'PAK', 'PAN', 'PER', 'PHL', 'PNG', 'PRT', 'SDN', 'SEN', 'SGP', 'SLE', 'SUR', 'SWE', 'TCD', 'TGO', 'THA', 'TTO', 'TUR', 'URY', 'USA', 'ZAF'])\n",
      "torch.Size([67, 12])\n",
      "2003\r"
     ]
    },
    {
     "name": "stderr",
     "output_type": "stream",
     "text": [
      " 71%|███████   | 42/59 [03:32<02:00,  7.08s/it]"
     ]
    },
    {
     "name": "stdout",
     "output_type": "stream",
     "text": [
      "dict_keys(['AUS', 'AUT', 'BDI', 'BEL', 'BEN', 'BFA', 'BHS', 'BMU', 'BOL', 'BRA', 'CAF', 'CHL', 'CHN', 'CIV', 'CMR', 'COD', 'COG', 'COL', 'CRI', 'DOM', 'DZA', 'ECU', 'ESP', 'FIN', 'FJI', 'FRA', 'GAB', 'GBR', 'GHA', 'GRC', 'GTM', 'GUY', 'HND', 'HTI', 'IND', 'ITA', 'JPN', 'KEN', 'KOR', 'MDG', 'MEX', 'NER', 'NGA', 'NIC', 'NLD', 'NOR', 'NPL', 'PAK', 'PAN', 'PER', 'PHL', 'PNG', 'PRT', 'SDN', 'SEN', 'SGP', 'SLE', 'SUR', 'SWE', 'TCD', 'TGO', 'THA', 'TTO', 'TUR', 'URY', 'USA', 'ZAF'])\n",
      "torch.Size([67, 12])\n",
      "2004\r"
     ]
    },
    {
     "name": "stderr",
     "output_type": "stream",
     "text": [
      " 73%|███████▎  | 43/59 [03:40<01:56,  7.27s/it]"
     ]
    },
    {
     "name": "stdout",
     "output_type": "stream",
     "text": [
      "dict_keys(['AUS', 'AUT', 'BDI', 'BEL', 'BEN', 'BFA', 'BHS', 'BMU', 'BOL', 'BRA', 'CAF', 'CHL', 'CHN', 'CIV', 'CMR', 'COD', 'COG', 'COL', 'CRI', 'DOM', 'DZA', 'ECU', 'ESP', 'FIN', 'FJI', 'FRA', 'GAB', 'GBR', 'GHA', 'GRC', 'GTM', 'GUY', 'HND', 'HTI', 'IND', 'ITA', 'JPN', 'KEN', 'KOR', 'MDG', 'MEX', 'NER', 'NGA', 'NIC', 'NLD', 'NOR', 'NPL', 'PAK', 'PAN', 'PER', 'PHL', 'PNG', 'PRT', 'SDN', 'SEN', 'SGP', 'SLE', 'SUR', 'SWE', 'TCD', 'TGO', 'THA', 'TTO', 'TUR', 'URY', 'USA', 'ZAF'])\n",
      "torch.Size([67, 12])\n",
      "2005\r"
     ]
    },
    {
     "name": "stderr",
     "output_type": "stream",
     "text": [
      " 75%|███████▍  | 44/59 [03:48<01:53,  7.55s/it]"
     ]
    },
    {
     "name": "stdout",
     "output_type": "stream",
     "text": [
      "dict_keys(['AUS', 'AUT', 'BDI', 'BEL', 'BEN', 'BFA', 'BHS', 'BMU', 'BOL', 'BRA', 'CAF', 'CHL', 'CHN', 'CIV', 'CMR', 'COD', 'COG', 'COL', 'CRI', 'DOM', 'DZA', 'ECU', 'ESP', 'FIN', 'FJI', 'FRA', 'GAB', 'GBR', 'GHA', 'GRC', 'GTM', 'GUY', 'HND', 'HTI', 'IND', 'ITA', 'JPN', 'KEN', 'KOR', 'MDG', 'MEX', 'NER', 'NGA', 'NIC', 'NLD', 'NOR', 'NPL', 'PAK', 'PAN', 'PER', 'PHL', 'PNG', 'PRT', 'SDN', 'SEN', 'SGP', 'SLE', 'SUR', 'SWE', 'TCD', 'TGO', 'THA', 'TTO', 'TUR', 'URY', 'USA', 'ZAF'])\n",
      "torch.Size([67, 12])\n",
      "2006\r"
     ]
    },
    {
     "name": "stderr",
     "output_type": "stream",
     "text": [
      " 76%|███████▋  | 45/59 [03:57<01:49,  7.82s/it]"
     ]
    },
    {
     "name": "stdout",
     "output_type": "stream",
     "text": [
      "dict_keys(['AUS', 'AUT', 'BDI', 'BEL', 'BEN', 'BFA', 'BHS', 'BMU', 'BOL', 'BRA', 'CAF', 'CHL', 'CHN', 'CIV', 'CMR', 'COD', 'COG', 'COL', 'CRI', 'DOM', 'DZA', 'ECU', 'ESP', 'FIN', 'FJI', 'FRA', 'GAB', 'GBR', 'GHA', 'GRC', 'GTM', 'GUY', 'HND', 'HTI', 'IND', 'ITA', 'JPN', 'KEN', 'KOR', 'MDG', 'MEX', 'NER', 'NGA', 'NIC', 'NLD', 'NOR', 'NPL', 'PAK', 'PAN', 'PER', 'PHL', 'PNG', 'PRT', 'SDN', 'SEN', 'SGP', 'SLE', 'SUR', 'SWE', 'TCD', 'TGO', 'THA', 'TTO', 'TUR', 'URY', 'USA', 'ZAF'])\n",
      "torch.Size([67, 12])\n",
      "2007\r"
     ]
    },
    {
     "name": "stderr",
     "output_type": "stream",
     "text": [
      " 78%|███████▊  | 46/59 [04:05<01:44,  8.00s/it]"
     ]
    },
    {
     "name": "stdout",
     "output_type": "stream",
     "text": [
      "dict_keys(['AUS', 'AUT', 'BDI', 'BEL', 'BEN', 'BFA', 'BHS', 'BMU', 'BOL', 'BRA', 'CAF', 'CHL', 'CHN', 'CIV', 'CMR', 'COD', 'COG', 'COL', 'CRI', 'DOM', 'DZA', 'ECU', 'ESP', 'FIN', 'FJI', 'FRA', 'GAB', 'GBR', 'GHA', 'GRC', 'GTM', 'GUY', 'HND', 'HTI', 'IND', 'ITA', 'JPN', 'KEN', 'KOR', 'MDG', 'MEX', 'NER', 'NGA', 'NIC', 'NLD', 'NOR', 'NPL', 'PAK', 'PAN', 'PER', 'PHL', 'PNG', 'PRT', 'SDN', 'SEN', 'SGP', 'SLE', 'SUR', 'SWE', 'TCD', 'TGO', 'THA', 'TTO', 'TUR', 'URY', 'USA', 'ZAF'])\n",
      "torch.Size([67, 12])\n",
      "2008\r"
     ]
    },
    {
     "name": "stderr",
     "output_type": "stream",
     "text": [
      " 80%|███████▉  | 47/59 [04:14<01:39,  8.28s/it]"
     ]
    },
    {
     "name": "stdout",
     "output_type": "stream",
     "text": [
      "dict_keys(['AUS', 'AUT', 'BDI', 'BEL', 'BEN', 'BFA', 'BHS', 'BMU', 'BOL', 'BRA', 'CAF', 'CHL', 'CHN', 'CIV', 'CMR', 'COD', 'COG', 'COL', 'CRI', 'DOM', 'DZA', 'ECU', 'ESP', 'FIN', 'FJI', 'FRA', 'GAB', 'GBR', 'GHA', 'GRC', 'GTM', 'GUY', 'HND', 'HTI', 'IND', 'ITA', 'JPN', 'KEN', 'KOR', 'MDG', 'MEX', 'NER', 'NGA', 'NIC', 'NLD', 'NOR', 'NPL', 'PAK', 'PAN', 'PER', 'PHL', 'PNG', 'PRT', 'SDN', 'SEN', 'SGP', 'SLE', 'SUR', 'SWE', 'TCD', 'TGO', 'THA', 'TTO', 'TUR', 'URY', 'USA', 'ZAF'])\n",
      "torch.Size([67, 12])\n",
      "2009\r"
     ]
    },
    {
     "name": "stderr",
     "output_type": "stream",
     "text": [
      " 81%|████████▏ | 48/59 [04:23<01:32,  8.45s/it]"
     ]
    },
    {
     "name": "stdout",
     "output_type": "stream",
     "text": [
      "dict_keys(['AUS', 'AUT', 'BDI', 'BEL', 'BEN', 'BFA', 'BHS', 'BMU', 'BOL', 'BRA', 'CAF', 'CHL', 'CHN', 'CIV', 'CMR', 'COD', 'COG', 'COL', 'CRI', 'DOM', 'DZA', 'ECU', 'ESP', 'FIN', 'FJI', 'FRA', 'GAB', 'GBR', 'GHA', 'GRC', 'GTM', 'GUY', 'HND', 'HTI', 'IND', 'ITA', 'JPN', 'KEN', 'KOR', 'MDG', 'MEX', 'NER', 'NGA', 'NIC', 'NLD', 'NOR', 'NPL', 'PAK', 'PAN', 'PER', 'PHL', 'PNG', 'PRT', 'SDN', 'SEN', 'SGP', 'SLE', 'SUR', 'SWE', 'TCD', 'TGO', 'THA', 'TTO', 'TUR', 'URY', 'USA', 'ZAF'])\n",
      "torch.Size([67, 12])\n",
      "2010\r"
     ]
    },
    {
     "name": "stderr",
     "output_type": "stream",
     "text": [
      " 83%|████████▎ | 49/59 [04:32<01:25,  8.55s/it]"
     ]
    },
    {
     "name": "stdout",
     "output_type": "stream",
     "text": [
      "dict_keys(['AUS', 'AUT', 'BDI', 'BEL', 'BEN', 'BFA', 'BHS', 'BMU', 'BOL', 'BRA', 'CAF', 'CHL', 'CHN', 'CIV', 'CMR', 'COD', 'COG', 'COL', 'CRI', 'DOM', 'DZA', 'ECU', 'ESP', 'FIN', 'FJI', 'FRA', 'GAB', 'GBR', 'GHA', 'GRC', 'GTM', 'GUY', 'HND', 'HTI', 'IND', 'ITA', 'JPN', 'KEN', 'KOR', 'MDG', 'MEX', 'NER', 'NGA', 'NIC', 'NLD', 'NOR', 'NPL', 'PAK', 'PAN', 'PER', 'PHL', 'PNG', 'PRT', 'SDN', 'SEN', 'SGP', 'SLE', 'SUR', 'SWE', 'TCD', 'TGO', 'THA', 'TTO', 'TUR', 'URY', 'USA', 'ZAF'])\n",
      "torch.Size([67, 12])\n",
      "2011\r"
     ]
    },
    {
     "name": "stderr",
     "output_type": "stream",
     "text": [
      " 85%|████████▍ | 50/59 [04:40<01:16,  8.53s/it]"
     ]
    },
    {
     "name": "stdout",
     "output_type": "stream",
     "text": [
      "dict_keys(['AUS', 'AUT', 'BDI', 'BEL', 'BEN', 'BFA', 'BHS', 'BMU', 'BOL', 'BRA', 'CAF', 'CHL', 'CHN', 'CIV', 'CMR', 'COD', 'COG', 'COL', 'CRI', 'DOM', 'DZA', 'ECU', 'ESP', 'FIN', 'FJI', 'FRA', 'GAB', 'GBR', 'GHA', 'GRC', 'GTM', 'GUY', 'HND', 'HTI', 'IND', 'ITA', 'JPN', 'KEN', 'KOR', 'MDG', 'MEX', 'NER', 'NGA', 'NIC', 'NLD', 'NOR', 'NPL', 'PAK', 'PAN', 'PER', 'PHL', 'PNG', 'PRT', 'SDN', 'SEN', 'SGP', 'SLE', 'SUR', 'SWE', 'TCD', 'TGO', 'THA', 'TTO', 'TUR', 'URY', 'USA', 'ZAF'])\n",
      "torch.Size([67, 12])\n",
      "2012\r"
     ]
    },
    {
     "name": "stderr",
     "output_type": "stream",
     "text": [
      " 86%|████████▋ | 51/59 [04:49<01:09,  8.63s/it]"
     ]
    },
    {
     "name": "stdout",
     "output_type": "stream",
     "text": [
      "dict_keys(['AUS', 'AUT', 'BDI', 'BEL', 'BEN', 'BFA', 'BHS', 'BMU', 'BOL', 'BRA', 'CAF', 'CHL', 'CHN', 'CIV', 'CMR', 'COD', 'COG', 'COL', 'CRI', 'DOM', 'DZA', 'ECU', 'ESP', 'FIN', 'FJI', 'FRA', 'GAB', 'GBR', 'GHA', 'GRC', 'GTM', 'GUY', 'HND', 'HTI', 'IND', 'ITA', 'JPN', 'KEN', 'KOR', 'MDG', 'MEX', 'NER', 'NGA', 'NIC', 'NLD', 'NOR', 'NPL', 'PAK', 'PAN', 'PER', 'PHL', 'PNG', 'PRT', 'SDN', 'SEN', 'SGP', 'SLE', 'SUR', 'SWE', 'TCD', 'TGO', 'THA', 'TTO', 'TUR', 'URY', 'USA', 'ZAF'])\n",
      "torch.Size([67, 12])\n",
      "2013\r"
     ]
    },
    {
     "name": "stderr",
     "output_type": "stream",
     "text": [
      " 88%|████████▊ | 52/59 [04:58<01:00,  8.70s/it]"
     ]
    },
    {
     "name": "stdout",
     "output_type": "stream",
     "text": [
      "dict_keys(['AUS', 'AUT', 'BDI', 'BEL', 'BEN', 'BFA', 'BHS', 'BMU', 'BOL', 'BRA', 'CAF', 'CHL', 'CHN', 'CIV', 'CMR', 'COD', 'COG', 'COL', 'CRI', 'DOM', 'DZA', 'ECU', 'ESP', 'FIN', 'FJI', 'FRA', 'GAB', 'GBR', 'GHA', 'GRC', 'GTM', 'GUY', 'HND', 'HTI', 'IND', 'ITA', 'JPN', 'KEN', 'KOR', 'MDG', 'MEX', 'NER', 'NGA', 'NIC', 'NLD', 'NOR', 'NPL', 'PAK', 'PAN', 'PER', 'PHL', 'PNG', 'PRT', 'SDN', 'SEN', 'SGP', 'SLE', 'SUR', 'SWE', 'TCD', 'TGO', 'THA', 'TTO', 'TUR', 'URY', 'USA', 'ZAF'])\n",
      "torch.Size([67, 12])\n",
      "2014\r"
     ]
    },
    {
     "name": "stderr",
     "output_type": "stream",
     "text": [
      " 90%|████████▉ | 53/59 [05:07<00:52,  8.77s/it]"
     ]
    },
    {
     "name": "stdout",
     "output_type": "stream",
     "text": [
      "dict_keys(['AUS', 'AUT', 'BDI', 'BEL', 'BEN', 'BFA', 'BHS', 'BMU', 'BOL', 'BRA', 'CAF', 'CHL', 'CHN', 'CIV', 'CMR', 'COD', 'COG', 'COL', 'CRI', 'DOM', 'DZA', 'ECU', 'ESP', 'FIN', 'FJI', 'FRA', 'GAB', 'GBR', 'GHA', 'GRC', 'GTM', 'GUY', 'HND', 'HTI', 'IND', 'ITA', 'JPN', 'KEN', 'KOR', 'MDG', 'MEX', 'NER', 'NGA', 'NIC', 'NLD', 'NOR', 'NPL', 'PAK', 'PAN', 'PER', 'PHL', 'PNG', 'PRT', 'SDN', 'SEN', 'SGP', 'SLE', 'SUR', 'SWE', 'TCD', 'TGO', 'THA', 'TTO', 'TUR', 'URY', 'USA', 'ZAF'])\n",
      "torch.Size([67, 12])\n",
      "2015\r"
     ]
    },
    {
     "name": "stderr",
     "output_type": "stream",
     "text": [
      " 92%|█████████▏| 54/59 [05:16<00:44,  8.89s/it]"
     ]
    },
    {
     "name": "stdout",
     "output_type": "stream",
     "text": [
      "dict_keys(['AUS', 'AUT', 'BDI', 'BEL', 'BEN', 'BFA', 'BHS', 'BMU', 'BOL', 'BRA', 'CAF', 'CHL', 'CHN', 'CIV', 'CMR', 'COD', 'COG', 'COL', 'CRI', 'DOM', 'DZA', 'ECU', 'ESP', 'FIN', 'FJI', 'FRA', 'GAB', 'GBR', 'GHA', 'GRC', 'GTM', 'GUY', 'HND', 'HTI', 'IND', 'ITA', 'JPN', 'KEN', 'KOR', 'MDG', 'MEX', 'NER', 'NGA', 'NIC', 'NLD', 'NOR', 'NPL', 'PAK', 'PAN', 'PER', 'PHL', 'PNG', 'PRT', 'SDN', 'SEN', 'SGP', 'SLE', 'SUR', 'SWE', 'TCD', 'TGO', 'THA', 'TTO', 'TUR', 'URY', 'USA', 'ZAF'])\n",
      "torch.Size([67, 12])\n",
      "2016\r"
     ]
    },
    {
     "name": "stderr",
     "output_type": "stream",
     "text": [
      " 93%|█████████▎| 55/59 [05:25<00:35,  8.92s/it]"
     ]
    },
    {
     "name": "stdout",
     "output_type": "stream",
     "text": [
      "dict_keys(['AUS', 'AUT', 'BDI', 'BEL', 'BEN', 'BFA', 'BHS', 'BMU', 'BOL', 'BRA', 'CAF', 'CHL', 'CHN', 'CIV', 'CMR', 'COD', 'COG', 'COL', 'CRI', 'DOM', 'DZA', 'ECU', 'ESP', 'FIN', 'FJI', 'FRA', 'GAB', 'GBR', 'GHA', 'GRC', 'GTM', 'GUY', 'HND', 'HTI', 'IND', 'ITA', 'JPN', 'KEN', 'KOR', 'MDG', 'MEX', 'NER', 'NGA', 'NIC', 'NLD', 'NOR', 'NPL', 'PAK', 'PAN', 'PER', 'PHL', 'PNG', 'PRT', 'SDN', 'SEN', 'SGP', 'SLE', 'SUR', 'SWE', 'TCD', 'TGO', 'THA', 'TTO', 'TUR', 'URY', 'USA', 'ZAF'])\n",
      "torch.Size([67, 12])\n",
      "2017\r"
     ]
    },
    {
     "name": "stderr",
     "output_type": "stream",
     "text": [
      " 95%|█████████▍| 56/59 [05:34<00:26,  8.94s/it]"
     ]
    },
    {
     "name": "stdout",
     "output_type": "stream",
     "text": [
      "dict_keys(['AUS', 'AUT', 'BDI', 'BEL', 'BEN', 'BFA', 'BHS', 'BMU', 'BOL', 'BRA', 'CAF', 'CHL', 'CHN', 'CIV', 'CMR', 'COD', 'COG', 'COL', 'CRI', 'DOM', 'DZA', 'ECU', 'ESP', 'FIN', 'FJI', 'FRA', 'GAB', 'GBR', 'GHA', 'GRC', 'GTM', 'GUY', 'HND', 'HTI', 'IND', 'ITA', 'JPN', 'KEN', 'KOR', 'MDG', 'MEX', 'NER', 'NGA', 'NIC', 'NLD', 'NOR', 'NPL', 'PAK', 'PAN', 'PER', 'PHL', 'PNG', 'PRT', 'SDN', 'SEN', 'SGP', 'SLE', 'SUR', 'SWE', 'TCD', 'TGO', 'THA', 'TTO', 'TUR', 'URY', 'USA', 'ZAF'])\n",
      "torch.Size([67, 12])\n",
      "2018\r"
     ]
    },
    {
     "name": "stderr",
     "output_type": "stream",
     "text": [
      " 97%|█████████▋| 57/59 [05:44<00:18,  9.11s/it]"
     ]
    },
    {
     "name": "stdout",
     "output_type": "stream",
     "text": [
      "dict_keys(['AUS', 'AUT', 'BDI', 'BEL', 'BEN', 'BFA', 'BHS', 'BMU', 'BOL', 'BRA', 'CAF', 'CHL', 'CHN', 'CIV', 'CMR', 'COD', 'COG', 'COL', 'CRI', 'DOM', 'DZA', 'ECU', 'ESP', 'FIN', 'FJI', 'FRA', 'GAB', 'GBR', 'GHA', 'GRC', 'GTM', 'GUY', 'HND', 'HTI', 'IND', 'ITA', 'JPN', 'KEN', 'KOR', 'MDG', 'MEX', 'NER', 'NGA', 'NIC', 'NLD', 'NOR', 'NPL', 'PAK', 'PAN', 'PER', 'PHL', 'PNG', 'PRT', 'SDN', 'SEN', 'SGP', 'SLE', 'SUR', 'SWE', 'TCD', 'TGO', 'THA', 'TTO', 'TUR', 'URY', 'USA', 'ZAF'])\n",
      "torch.Size([67, 12])\n",
      "2019\r"
     ]
    },
    {
     "name": "stderr",
     "output_type": "stream",
     "text": [
      " 98%|█████████▊| 58/59 [05:53<00:09,  9.14s/it]"
     ]
    },
    {
     "name": "stdout",
     "output_type": "stream",
     "text": [
      "dict_keys(['AUS', 'AUT', 'BDI', 'BEL', 'BEN', 'BFA', 'BHS', 'BMU', 'BOL', 'BRA', 'CAF', 'CHL', 'CHN', 'CIV', 'CMR', 'COD', 'COG', 'COL', 'CRI', 'DOM', 'DZA', 'ECU', 'ESP', 'FIN', 'FJI', 'FRA', 'GAB', 'GBR', 'GHA', 'GRC', 'GTM', 'GUY', 'HND', 'HTI', 'IND', 'ITA', 'JPN', 'KEN', 'KOR', 'MDG', 'MEX', 'NER', 'NGA', 'NIC', 'NLD', 'NOR', 'NPL', 'PAK', 'PAN', 'PER', 'PHL', 'PNG', 'PRT', 'SDN', 'SEN', 'SGP', 'SLE', 'SUR', 'SWE', 'TCD', 'TGO', 'THA', 'TTO', 'TUR', 'URY', 'USA', 'ZAF'])\n",
      "torch.Size([67, 12])\n",
      "2020\r"
     ]
    },
    {
     "name": "stderr",
     "output_type": "stream",
     "text": [
      "100%|██████████| 59/59 [06:02<00:00,  6.14s/it]"
     ]
    },
    {
     "name": "stdout",
     "output_type": "stream",
     "text": [
      "dict_keys(['AUS', 'AUT', 'BDI', 'BEL', 'BEN', 'BFA', 'BHS', 'BMU', 'BOL', 'BRA', 'CAF', 'CHL', 'CHN', 'CIV', 'CMR', 'COD', 'COG', 'COL', 'CRI', 'DOM', 'DZA', 'ECU', 'ESP', 'FIN', 'FJI', 'FRA', 'GAB', 'GBR', 'GHA', 'GRC', 'GTM', 'GUY', 'HND', 'HTI', 'IND', 'ITA', 'JPN', 'KEN', 'KOR', 'MDG', 'MEX', 'NER', 'NGA', 'NIC', 'NLD', 'NOR', 'NPL', 'PAK', 'PAN', 'PER', 'PHL', 'PNG', 'PRT', 'SDN', 'SEN', 'SGP', 'SLE', 'SUR', 'SWE', 'TCD', 'TGO', 'THA', 'TTO', 'TUR', 'URY', 'USA', 'ZAF'])\n",
      "torch.Size([67, 12])\n"
     ]
    },
    {
     "name": "stderr",
     "output_type": "stream",
     "text": [
      "\n"
     ]
    }
   ],
   "source": [
    "train_graphs = []\n",
    "val_graphs = []\n",
    "test_graphs = []\n",
    "i = 0\n",
    "\n",
    "for year in tqdm(years):\n",
    "    print(str(year), end='\\r')\n",
    "    \n",
    "    trade = TradeNetwork(year = year)\n",
    "    trade.prepare_features()\n",
    "    trade.prepare_network()\n",
    "    trade.graph_create(node_features = ['prev_gdp_per_cap_growth', 'current_gdp_per_cap_growth',\n",
    "    'resource_0', 'resource_1', 'resource_2', 'resource_3', 'resource_4', 'resource_5', 'resource_6', 'resource_7',\n",
    "       'resource_8', 'resource_9'],\n",
    "        node_labels = 'future_gdp_per_cap_growth')\n",
    "    \n",
    "    if(year in val_years):\n",
    "        val_graphs.append(trade.pyg_graph)\n",
    "    elif(year in test_years):\n",
    "        test_graphs.append(trade.pyg_graph)\n",
    "    else: \n",
    "        train_graphs.append(trade.pyg_graph)\n",
    "        \n",
    "    trade.features[\"year\"] = year\n",
    "    \n",
    "    if(i == 0):\n",
    "        trade_df = trade.features\n",
    "    else: \n",
    "        trade_df = pd.concat([trade_df, trade.features])\n",
    "        \n",
    "    i = i+1\n",
    "    print(trade.node_attributes.size())"
   ]
  },
  {
   "cell_type": "code",
   "execution_count": 20,
   "metadata": {},
   "outputs": [],
   "source": [
    "import pickle as pkl\n",
    "with open(\"pygcn/train_graphs.pickle\", \"wb\") as f:\n",
    "    pkl.dump(train_graphs, f)\n",
    "\n",
    "with open(\"pygcn/val_graphs.pickle\", \"wb\") as f:\n",
    "    pkl.dump(val_graphs, f)\n",
    "\n",
    "with open(\"pygcn/test_graphs.pickle\", \"wb\") as f:\n",
    "    pkl.dump(test_graphs, f)"
   ]
  },
  {
   "cell_type": "code",
   "execution_count": 57,
   "metadata": {},
   "outputs": [],
   "source": [
    "import pickle as pkl\n",
    "with open(\"pygcn/train_graphs.pickle\", \"rb\") as f:\n",
    "    train_graphs = pkl.load(f)\n",
    "\n",
    "with open(\"pygcn/val_graphs.pickle\", \"rb\") as f:  \n",
    "    val_graphs = pkl.load(f)\n",
    "\n",
    "with open(\"pygcn/test_graphs.pickle\", \"rb\") as f:         \n",
    "    test_graphs = pkl.load(f)"
   ]
  },
  {
   "cell_type": "code",
   "execution_count": 21,
   "metadata": {},
   "outputs": [
    {
     "name": "stderr",
     "output_type": "stream",
     "text": [
      "/Users/sinclaireschuetze/anaconda3/lib/python3.11/site-packages/torch_geometric/deprecation.py:26: UserWarning: 'data.DataLoader' is deprecated, use 'loader.DataLoader' instead\n",
      "  warnings.warn(out)\n"
     ]
    }
   ],
   "source": [
    "from torch_geometric.data import DataLoader\n",
    "test_loader = DataLoader(test_graphs, batch_size=32)\n",
    "train_loader = DataLoader(train_graphs, batch_size=32)\n",
    "val_loader = DataLoader(val_graphs, batch_size=32)"
   ]
  },
  {
   "cell_type": "markdown",
   "metadata": {},
   "source": [
    "## sGNN with GCN Encoder and 3 Features"
   ]
  },
  {
   "cell_type": "code",
   "execution_count": 22,
   "metadata": {},
   "outputs": [],
   "source": [
    "def check_crisis_years(year_pairs, crisis_years):\n",
    "    result = []\n",
    "    for pair in year_pairs:\n",
    "        start, end = pair\n",
    "        # Check if any crisis year is between the pair or equals the later year\n",
    "        if any(start < year <= end for year in crisis_years):\n",
    "            result.append(0)\n",
    "        else:\n",
    "            result.append(1)\n",
    "    return result"
   ]
  },
  {
   "cell_type": "code",
   "execution_count": 23,
   "metadata": {},
   "outputs": [],
   "source": [
    "crisis_years = [1963, 1967, 1989, 2001, 1986, 1993, 1996, 1983, 1978, 1973]\n",
    "\n",
    "def get_year_pairs(year_range):\n",
    "    return [(year1, year2) for year1 in year_range for year2 in year_range if year2 >= year1]\n",
    "\n",
    "def get_loader_pairs(dataset):\n",
    "    return [(dataset[i], dataset[j]) for i in range(len(dataset)) for j in range(len(dataset)) if j >= i]\n",
    "\n",
    "train_pairs = get_year_pairs(train_years)\n",
    "val_pairs = get_year_pairs(val_years)\n",
    "\n",
    "train_y = check_crisis_years(train_pairs, crisis_years)\n",
    "val_y = check_crisis_years(val_pairs, crisis_years)\n",
    "\n",
    "train_loader_pairs = get_loader_pairs(train_loader.dataset)\n",
    "val_loader_pairs = get_loader_pairs(val_loader.dataset)"
   ]
  },
  {
   "cell_type": "code",
   "execution_count": 24,
   "metadata": {},
   "outputs": [],
   "source": [
    "train_torch_y = torch.tensor(np.array(train_y))\n",
    "val_torch_y = torch.tensor(np.array(val_y))"
   ]
  },
  {
   "cell_type": "code",
   "execution_count": 54,
   "metadata": {},
   "outputs": [
    {
     "name": "stderr",
     "output_type": "stream",
     "text": [
      "  5%|▌         | 1/20 [00:03<01:07,  3.54s/it]"
     ]
    },
    {
     "name": "stdout",
     "output_type": "stream",
     "text": [
      "Epoch: 1, Training Loss: 0.44086348218943483, Validation Loss: 0.6401006208780484, Validation Accuracy: 0.6410256410256411\n"
     ]
    },
    {
     "name": "stderr",
     "output_type": "stream",
     "text": [
      " 10%|█         | 2/20 [00:06<01:01,  3.43s/it]"
     ]
    },
    {
     "name": "stdout",
     "output_type": "stream",
     "text": [
      "Epoch: 2, Training Loss: 0.3994459580029211, Validation Loss: 0.6118001708617578, Validation Accuracy: 0.6666666666666666\n"
     ]
    },
    {
     "name": "stderr",
     "output_type": "stream",
     "text": [
      " 15%|█▌        | 3/20 [00:10<00:57,  3.41s/it]"
     ]
    },
    {
     "name": "stdout",
     "output_type": "stream",
     "text": [
      "Epoch: 3, Training Loss: 0.37545510312562347, Validation Loss: 0.5936419589397235, Validation Accuracy: 0.6282051282051282\n"
     ]
    },
    {
     "name": "stderr",
     "output_type": "stream",
     "text": [
      " 20%|██        | 4/20 [00:13<00:53,  3.37s/it]"
     ]
    },
    {
     "name": "stdout",
     "output_type": "stream",
     "text": [
      "Epoch: 4, Training Loss: 0.3501672435511825, Validation Loss: 0.555961224131095, Validation Accuracy: 0.7051282051282052\n"
     ]
    },
    {
     "name": "stderr",
     "output_type": "stream",
     "text": [
      " 25%|██▌       | 5/20 [00:16<00:50,  3.35s/it]"
     ]
    },
    {
     "name": "stdout",
     "output_type": "stream",
     "text": [
      "Epoch: 5, Training Loss: 0.3394151762127876, Validation Loss: 0.5661949408360016, Validation Accuracy: 0.6410256410256411\n"
     ]
    },
    {
     "name": "stderr",
     "output_type": "stream",
     "text": [
      " 30%|███       | 6/20 [00:20<00:47,  3.36s/it]"
     ]
    },
    {
     "name": "stdout",
     "output_type": "stream",
     "text": [
      "Epoch: 6, Training Loss: 0.3249470588661009, Validation Loss: 0.5534240620640608, Validation Accuracy: 0.717948717948718\n"
     ]
    },
    {
     "name": "stderr",
     "output_type": "stream",
     "text": [
      " 35%|███▌      | 7/20 [00:23<00:43,  3.35s/it]"
     ]
    },
    {
     "name": "stdout",
     "output_type": "stream",
     "text": [
      "Epoch: 7, Training Loss: 0.3091946910145462, Validation Loss: 0.5662156247939819, Validation Accuracy: 0.717948717948718\n"
     ]
    },
    {
     "name": "stderr",
     "output_type": "stream",
     "text": [
      " 40%|████      | 8/20 [00:26<00:40,  3.34s/it]"
     ]
    },
    {
     "name": "stdout",
     "output_type": "stream",
     "text": [
      "Epoch: 8, Training Loss: 0.30256826259115693, Validation Loss: 0.5506051589663212, Validation Accuracy: 0.7435897435897436\n"
     ]
    },
    {
     "name": "stderr",
     "output_type": "stream",
     "text": [
      " 45%|████▌     | 9/20 [00:30<00:36,  3.35s/it]"
     ]
    },
    {
     "name": "stdout",
     "output_type": "stream",
     "text": [
      "Epoch: 9, Training Loss: 0.29295719432574446, Validation Loss: 0.5705583842519002, Validation Accuracy: 0.7051282051282052\n"
     ]
    },
    {
     "name": "stderr",
     "output_type": "stream",
     "text": [
      " 50%|█████     | 10/20 [00:33<00:33,  3.37s/it]"
     ]
    },
    {
     "name": "stdout",
     "output_type": "stream",
     "text": [
      "Epoch: 10, Training Loss: 0.2829625475470738, Validation Loss: 0.5691195325209544, Validation Accuracy: 0.717948717948718\n"
     ]
    },
    {
     "name": "stderr",
     "output_type": "stream",
     "text": [
      " 55%|█████▌    | 11/20 [00:37<00:30,  3.36s/it]"
     ]
    },
    {
     "name": "stdout",
     "output_type": "stream",
     "text": [
      "Epoch: 11, Training Loss: 0.27744507041349203, Validation Loss: 0.5713646402343725, Validation Accuracy: 0.7307692307692307\n"
     ]
    },
    {
     "name": "stderr",
     "output_type": "stream",
     "text": [
      " 60%|██████    | 12/20 [00:40<00:27,  3.42s/it]"
     ]
    },
    {
     "name": "stdout",
     "output_type": "stream",
     "text": [
      "Epoch: 12, Training Loss: 0.2709233312837539, Validation Loss: 0.5533272977440785, Validation Accuracy: 0.7307692307692307\n"
     ]
    },
    {
     "name": "stderr",
     "output_type": "stream",
     "text": [
      " 65%|██████▌   | 13/20 [00:44<00:24,  3.49s/it]"
     ]
    },
    {
     "name": "stdout",
     "output_type": "stream",
     "text": [
      "Epoch: 13, Training Loss: 0.2665689394999576, Validation Loss: 0.5649385794233053, Validation Accuracy: 0.7307692307692307\n"
     ]
    },
    {
     "name": "stderr",
     "output_type": "stream",
     "text": [
      " 70%|███████   | 14/20 [00:47<00:21,  3.53s/it]"
     ]
    },
    {
     "name": "stdout",
     "output_type": "stream",
     "text": [
      "Epoch: 14, Training Loss: 0.2570987065953593, Validation Loss: 0.5584490765363742, Validation Accuracy: 0.7307692307692307\n"
     ]
    },
    {
     "name": "stderr",
     "output_type": "stream",
     "text": [
      " 75%|███████▌  | 15/20 [00:51<00:17,  3.54s/it]"
     ]
    },
    {
     "name": "stdout",
     "output_type": "stream",
     "text": [
      "Epoch: 15, Training Loss: 0.24026746713025596, Validation Loss: 0.5484165660081766, Validation Accuracy: 0.7435897435897436\n"
     ]
    },
    {
     "name": "stderr",
     "output_type": "stream",
     "text": [
      " 80%|████████  | 16/20 [00:55<00:14,  3.59s/it]"
     ]
    },
    {
     "name": "stdout",
     "output_type": "stream",
     "text": [
      "Epoch: 16, Training Loss: 0.23403385448199446, Validation Loss: 0.5538416743660585, Validation Accuracy: 0.7307692307692307\n"
     ]
    },
    {
     "name": "stderr",
     "output_type": "stream",
     "text": [
      " 85%|████████▌ | 17/20 [00:58<00:10,  3.50s/it]"
     ]
    },
    {
     "name": "stdout",
     "output_type": "stream",
     "text": [
      "Epoch: 17, Training Loss: 0.22871817259057875, Validation Loss: 0.5339837215649776, Validation Accuracy: 0.7307692307692307\n"
     ]
    },
    {
     "name": "stderr",
     "output_type": "stream",
     "text": [
      " 90%|█████████ | 18/20 [01:01<00:06,  3.46s/it]"
     ]
    },
    {
     "name": "stdout",
     "output_type": "stream",
     "text": [
      "Epoch: 18, Training Loss: 0.2248020224193091, Validation Loss: 0.5581071926997259, Validation Accuracy: 0.7307692307692307\n"
     ]
    },
    {
     "name": "stderr",
     "output_type": "stream",
     "text": [
      " 95%|█████████▌| 19/20 [01:05<00:03,  3.42s/it]"
     ]
    },
    {
     "name": "stdout",
     "output_type": "stream",
     "text": [
      "Epoch: 19, Training Loss: 0.2158514313640133, Validation Loss: 0.5717261985708506, Validation Accuracy: 0.7307692307692307\n"
     ]
    },
    {
     "name": "stderr",
     "output_type": "stream",
     "text": [
      "100%|██████████| 20/20 [01:08<00:00,  3.43s/it]"
     ]
    },
    {
     "name": "stdout",
     "output_type": "stream",
     "text": [
      "Epoch: 20, Training Loss: 0.21619260298308507, Validation Loss: 0.5648312173210658, Validation Accuracy: 0.7307692307692307\n"
     ]
    },
    {
     "name": "stderr",
     "output_type": "stream",
     "text": [
      "\n"
     ]
    }
   ],
   "source": [
    "import torch\n",
    "import torch.nn as nn\n",
    "import torch.optim as optim\n",
    "from torch_geometric.nn import GCNConv, global_sort_pool\n",
    "from torch_geometric.nn.aggr import SortAggregation\n",
    "from torch.nn import Linear, LayerNorm, ReLU, Sigmoid\n",
    "from tqdm import tqdm\n",
    "\n",
    "class GNN(torch.nn.Module):\n",
    "    def __init__(self, num_features):\n",
    "        super(GNN, self).__init__()\n",
    "        self.conv1 = GCNConv(num_features, 128)\n",
    "        self.conv2 = GCNConv(128, 64)\n",
    "\n",
    "    def forward(self, data):\n",
    "        x, edge_index = data.x, data.edge_index\n",
    "        x = self.conv1(x, edge_index).relu()\n",
    "        x = self.conv2(x, edge_index).relu()\n",
    "        return x\n",
    "\n",
    "class SiameseGNN(torch.nn.Module):\n",
    "    def __init__(self, num_features):\n",
    "        super(SiameseGNN, self).__init__()\n",
    "        self.gnn = GNN(num_features)\n",
    "        self.sort_aggr = SortAggregation(k=50)\n",
    "        self.fc1 = Linear(3350, 128)  # Adjust input size according to pooling output\n",
    "        self.norm1 = LayerNorm(128)\n",
    "        self.relu1 = ReLU()\n",
    "        self.fc2 = Linear(128, 64)\n",
    "        self.norm2 = LayerNorm(64)\n",
    "        self.relu2 = ReLU()\n",
    "        self.fc3 = Linear(64, 1)\n",
    "        self.sigmoid = Sigmoid()\n",
    "\n",
    "    def forward(self, data1, data2):\n",
    "        out1 = self.gnn(data1)\n",
    "        out2 = self.gnn(data2)\n",
    "        out = torch.cdist(out1, out2, p=2)\n",
    "        out = self.sort_aggr(out, data1.batch)\n",
    "        out = out.view(out.size(0), -1)  # Flatten the pooled output\n",
    "        out = self.fc1(out)\n",
    "        out = self.norm1(out)\n",
    "        out = self.relu1(out)\n",
    "        out = self.fc2(out)\n",
    "        out = self.norm2(out)\n",
    "        out = self.relu2(out)\n",
    "        out = self.fc3(out)\n",
    "        out = self.sigmoid(out)\n",
    "        return out\n",
    "\n",
    "# DataLoader that loads pairs of graphs\n",
    "train_loader = train_loader_pairs\n",
    "val_loader = val_loader_pairs\n",
    "\n",
    "model = SiameseGNN(num_features=train_loader[0][0].num_node_features)\n",
    "optimizer = optim.Adam(model.parameters(), lr=1e-5)\n",
    "criterion = nn.BCELoss()\n",
    "\n",
    "for epoch in tqdm(range(20)):\n",
    "    model.train()\n",
    "    train_losses = []\n",
    "    for i in range(len(train_loader)):\n",
    "        optimizer.zero_grad()\n",
    "        out = model(train_loader[i][0], train_loader[i][1])\n",
    "        loss = criterion(out.squeeze(), train_torch_y[i].to(torch.float))\n",
    "        loss.backward()\n",
    "        optimizer.step()\n",
    "        train_losses.append(loss.item())\n",
    "\n",
    "    # Validation\n",
    "    model.eval()\n",
    "    with torch.no_grad():\n",
    "        val_losses = []\n",
    "        correct = 0\n",
    "        total = 0\n",
    "        for i in range(len(val_loader)):\n",
    "            out = model(val_loader[i][0], val_loader[i][1])\n",
    "            val_loss = criterion(out.squeeze(), val_torch_y[i].to(torch.float))\n",
    "            val_losses.append(val_loss.item())\n",
    "\n",
    "            predictions = torch.round(out.squeeze())\n",
    "            correct += (predictions == val_torch_y[i]).sum().item()\n",
    "            total += 1\n",
    "\n",
    "        val_loss = sum(val_losses) / len(val_losses)\n",
    "        val_accuracy = correct / total\n",
    "\n",
    "    print(f'Epoch: {epoch+1}, Training Loss: {sum(train_losses)/len(train_losses)}, Validation Loss: {val_loss}, Validation Accuracy: {val_accuracy}')\n"
   ]
  },
  {
   "cell_type": "code",
   "execution_count": null,
   "metadata": {},
   "outputs": [],
   "source": []
  }
 ],
 "metadata": {
  "kernelspec": {
   "display_name": "base",
   "language": "python",
   "name": "python3"
  },
  "language_info": {
   "codemirror_mode": {
    "name": "ipython",
    "version": 3
   },
   "file_extension": ".py",
   "mimetype": "text/x-python",
   "name": "python",
   "nbconvert_exporter": "python",
   "pygments_lexer": "ipython3",
   "version": "3.11.5"
  }
 },
 "nbformat": 4,
 "nbformat_minor": 2
}
