{
 "cells": [
  {
   "cell_type": "code",
   "execution_count": 24,
   "metadata": {},
   "outputs": [],
   "source": [
    "import pandas as pd\n",
    "import numpy as np\n",
    "import pickle as pkl\n",
    "import datetime as datetime\n",
    "from tqdm import tqdm\n",
    "import networkx as nx\n",
    "import random\n",
    "\n",
    "import torch\n",
    "import torch.nn as nn\n",
    "import torch.optim as optim\n",
    "from tqdm import tqdm\n",
    "from torch.optim.lr_scheduler import StepLR\n",
    "from src.utils.CreateFeatures import CreateFeatures\n",
    "from src.pygcn.SiameseGNN import SiameseGNN\n",
    "from src.pygcn.GraphSAGE import SiameseGNN_GraphSAGE\n",
    "from src.pygcn.graph_isomorphism import SiameseGNN_GIN\n",
    "from torch_geometric.data import DataLoader\n",
    "from sklearn.metrics import f1_score, fbeta_score\n",
    "from src.utils.functions import dist_labels_to_changepoint_labels, dist_labels_to_changepoint_labels_adjusted\n",
    "from sklearn.model_selection import train_test_split\n",
    "\n",
    "import torch\n",
    "import torch.nn as nn\n",
    "import torch\n",
    "import torch_geometric.data as data\n",
    "from src.synthetic_experiments.sample import sample_pairs\n",
    "from src.utils.misc import collate\n",
    "import itertools\n",
    "from src.pygcn.GAT import SiameseGNN_GAT"
   ]
  },
  {
   "cell_type": "markdown",
   "metadata": {},
   "source": [
    "## All Events"
   ]
  },
  {
   "cell_type": "code",
   "execution_count": 25,
   "metadata": {},
   "outputs": [],
   "source": [
    "years = range(1962,2019)"
   ]
  },
  {
   "cell_type": "code",
   "execution_count": 26,
   "metadata": {},
   "outputs": [],
   "source": [
    "all_nodes = ['ABW', 'AFG', 'AGO', 'ALB', 'AND', 'ARE', 'ARG', 'ARM', 'ASM',\n",
    "       'ATG', 'AUS', 'AUT', 'AZE', 'BDI', 'BEL', 'BEN', 'BFA', 'BGD',\n",
    "       'BGR', 'BHR', 'BHS', 'BIH', 'BLR', 'BLZ', 'BMU', 'BOL', 'BRA',\n",
    "       'BRB', 'BRN', 'BTN', 'BWA', 'CAF', 'CAN', 'CHE', 'CHL', 'CHN',\n",
    "       'CIV', 'CMR', 'COD', 'COG', 'COL', 'COM', 'CPV', 'CRI', 'CUB',\n",
    "       'CUW', 'CYM', 'CYP', 'CZE', 'DEU', 'DMA', 'DNK', 'DOM', 'DZA',\n",
    "       'ECU', 'EGY', 'ESP', 'EST', 'ETH', 'FIN', 'FJI', 'FRA', 'FSM',\n",
    "       'GAB', 'GBR', 'GEO', 'GHA', 'GIN', 'GMB', 'GNB', 'GNQ', 'GRC',\n",
    "       'GRD', 'GRL', 'GTM', 'GUM', 'GUY', 'HKG', 'HND', 'HRV', 'HTI',\n",
    "       'HUN', 'IDN', 'IND', 'IRL', 'IRN', 'IRQ', 'ISL', 'ISR', 'ITA',\n",
    "       'JAM', 'JOR', 'JPN', 'KAZ', 'KEN', 'KGZ', 'KHM', 'KNA', 'KOR',\n",
    "       'KWT', 'LAO', 'LBN', 'LBR', 'LBY', 'LCA', 'LKA', 'LSO', 'LTU',\n",
    "       'LUX', 'LVA', 'MAC', 'MAR', 'MDA', 'MDG', 'MDV', 'MEX', 'MHL',\n",
    "       'MKD', 'MLI', 'MLT', 'MMR', 'MNE', 'MNG', 'MNP', 'MOZ', 'MRT',\n",
    "       'MUS', 'MWI', 'MYS', 'NAM', 'NER', 'NGA', 'NIC', 'NLD', 'NOR',\n",
    "       'NPL', 'NRU', 'NZL', 'OMN', 'PAK', 'PAN', 'PER', 'PHL', 'PLW',\n",
    "       'PNG', 'POL', 'PRT', 'PRY', 'PSE', 'PYF', 'QAT', 'ROU', 'RUS',\n",
    "       'RWA', 'SAU', 'SDN', 'SEN', 'SGP', 'SLB', 'SLE', 'SLV', 'SMR',\n",
    "       'SRB', 'SSD', 'STP', 'SUR', 'SVK', 'SVN', 'SWE', 'SWZ', 'SXM',\n",
    "       'SYC', 'SYR', 'TCD', 'TGO', 'THA', 'TJK', 'TKM', 'TLS', 'TON',\n",
    "       'TTO', 'TUN', 'TUR', 'TUV', 'TZA', 'UGA', 'UKR', 'URY', 'USA',\n",
    "       'UZB', 'VCT', 'VEN', 'VNM', 'VUT', 'WSM', 'YEM', 'ZAF', 'ZMB',\n",
    "       'ZWE']"
   ]
  },
  {
   "cell_type": "code",
   "execution_count": 28,
   "metadata": {},
   "outputs": [],
   "source": [
    "with open(\"src/pygcn/graphs_nogdp.pkl\", \"rb\") as f:         \n",
    "    all_graphs = pkl.load(f)"
   ]
  },
  {
   "cell_type": "code",
   "execution_count": 29,
   "metadata": {},
   "outputs": [],
   "source": [
    "crisis_years = [1962, 1967, 1973, 1978, 1981, 1989, 1993, 1996, 2002, 2007, 2012, 2014, 2016]\n",
    "phases = []\n",
    "p = -1\n",
    "for i in range(1962,2019):\n",
    "    if i in crisis_years:\n",
    "        p += 1\n",
    "    phases.append(p)"
   ]
  },
  {
   "cell_type": "code",
   "execution_count": null,
   "metadata": {},
   "outputs": [],
   "source": [
    "# labels = dist_labels_to_changepoint_labels(phases)\n",
    "# graph_pairs = sample_pairs(all_graphs,labels)"
   ]
  },
  {
   "cell_type": "code",
   "execution_count": null,
   "metadata": {},
   "outputs": [],
   "source": [
    "# with open('graph_pairs_nogdp.pkl', 'wb') as f:\n",
    "#     pkl.dump(graph_pairs, f)"
   ]
  },
  {
   "cell_type": "code",
   "execution_count": null,
   "metadata": {},
   "outputs": [],
   "source": [
    "# with open('graph_pairs.pkl', 'rb') as f:\n",
    "#     graph_pairs = pkl.load(f)"
   ]
  },
  {
   "cell_type": "code",
   "execution_count": null,
   "metadata": {},
   "outputs": [],
   "source": [
    "# with open('test_data.pkl', 'rb') as f:\n",
    "#     test_data = pkl.load(f)\n",
    "\n",
    "# with open('val_data.pkl', 'rb') as f:\n",
    "#     val_data = pkl.load(f)\n",
    "\n",
    "# with open('train_data.pkl', 'rb') as f:\n",
    "#     train_data = pkl.load(f)"
   ]
  },
  {
   "cell_type": "code",
   "execution_count": 30,
   "metadata": {},
   "outputs": [],
   "source": [
    "with open('test_data_indices_nogdp.pkl', 'rb') as f:\n",
    "    test_indices = pkl.load(f)\n",
    "\n",
    "with open('val_data_indices_nogdp.pkl', 'rb') as f:\n",
    "    val_indices = pkl.load(f)\n",
    "\n",
    "with open('train_data_indices_nogdp.pkl', 'rb') as f:\n",
    "    train_indices = pkl.load(f)"
   ]
  },
  {
   "cell_type": "code",
   "execution_count": null,
   "metadata": {},
   "outputs": [],
   "source": [
    "# train_indices, test_indices = train_test_split(np.arange(len(graph_pairs)), test_size=0.40, random_state=42)\n",
    "# test_indices, val_indices = train_test_split(test_indices, test_size=0.5, random_state=42)"
   ]
  },
  {
   "cell_type": "code",
   "execution_count": null,
   "metadata": {},
   "outputs": [],
   "source": [
    "# graph_pairs_train = [graph_pairs[i] for i in train_indices]\n",
    "# graph_pairs_test = [graph_pairs[i] for i in test_indices]\n",
    "# graph_pairs_val = [graph_pairs[i] for i in val_indices]"
   ]
  },
  {
   "cell_type": "code",
   "execution_count": null,
   "metadata": {},
   "outputs": [],
   "source": [
    "# import random\n",
    "# positive_samples = [item for item in graph_pairs_train if item[2] == 1]\n",
    "# negative_samples = [item for item in graph_pairs_train if item[2] == 0]\n",
    "\n",
    "# # Calculate the difference in count\n",
    "# diff = len(negative_samples) - len(positive_samples)\n",
    "\n",
    "# # Upsample positive samples\n",
    "# if diff > 0:\n",
    "#     positive_samples_upsampled = random.sample(positive_samples, k=abs(diff))\n",
    "#     balanced_data = negative_samples + positive_samples+ positive_samples_upsampled\n",
    "# # Downsample negative samples\n",
    "# elif diff < 0:\n",
    "#     negative_samples_downsampled = random.sample(negative_samples, k=abs(diff))\n",
    "#     balanced_data = negative_samples_downsampled + negative_samples+ positive_samples\n",
    "# else:\n",
    "#     balanced_data = graph_pairs_train\n",
    "\n",
    "# random.shuffle(balanced_data)"
   ]
  },
  {
   "cell_type": "code",
   "execution_count": null,
   "metadata": {},
   "outputs": [],
   "source": [
    "# with open('train_data_nogdp.pkl', 'wb') as f:\n",
    "#     pkl.dump(balanced_data, f)\n",
    "\n",
    "# with open('val_data_nogdp.pkl', 'wb') as f:\n",
    "#     pkl.dump(graph_pairs_val, f)\n",
    "    \n",
    "# with open('test_data_nogdp.pkl', 'wb') as f:\n",
    "#     pkl.dump(graph_pairs_test, f)"
   ]
  },
  {
   "cell_type": "code",
   "execution_count": null,
   "metadata": {},
   "outputs": [],
   "source": [
    "# with open('train_data_indices_nogdp.pkl', 'wb') as f:\n",
    "#     pkl.dump(train_indices, f)\n",
    "\n",
    "# with open('val_data_indices_nogdp.pkl', 'wb') as f:\n",
    "#     pkl.dump(val_indices, f)\n",
    "    \n",
    "# with open('test_data_indices_nogdp.pkl', 'wb') as f:\n",
    "#     pkl.dump(test_indices, f)"
   ]
  },
  {
   "cell_type": "code",
   "execution_count": 31,
   "metadata": {},
   "outputs": [],
   "source": [
    "with open('train_data_nogdp.pkl', 'rb') as f:\n",
    "    balanced_data = pkl.load(f)\n",
    "\n",
    "with open('val_data_nogdp.pkl', 'rb') as f:\n",
    "    graph_pairs_val = pkl.load(f)\n",
    "    \n",
    "with open('test_data_nogdp.pkl', 'rb') as f:\n",
    "    graph_pairs_test = pkl.load(f)"
   ]
  },
  {
   "cell_type": "markdown",
   "metadata": {},
   "source": [
    "## sGNN with GCN Encoder and 3 Features"
   ]
  },
  {
   "cell_type": "code",
   "execution_count": 32,
   "metadata": {},
   "outputs": [],
   "source": [
    "import torch\n",
    "import torch.optim as optim\n",
    "import torch.nn as nn\n",
    "from torch.optim.lr_scheduler import StepLR\n",
    "from sklearn.model_selection import KFold\n",
    "from tqdm import tqdm\n",
    "from sklearn.metrics import f1_score, fbeta_score\n",
    "import numpy as np\n",
    "\n",
    "def run_model_cv(model, type, data_pairs, num_folds=5, num_epochs=20):\n",
    "    \n",
    "    kf = KFold(n_splits=num_folds, shuffle=True, random_state=42)\n",
    "    fold_scores = []\n",
    "\n",
    "    val_acc = 0\n",
    "    val_f1 = 0\n",
    "    val_f2 = 0\n",
    "    val_f05 = 0\n",
    "\n",
    "    for fold, (train_index, val_index) in enumerate(kf.split(data_pairs)):\n",
    "        print(f\"Fold {fold + 1}/{num_folds}\")\n",
    "        if type == 'sage':\n",
    "            model = SiameseGNN_GraphSAGE(50, 10, 0.1, 16)\n",
    "        elif type == 'gin':\n",
    "            model = SiameseGNN_GIN(50, 10, 0.1, 16)\n",
    "        elif type == 'gat':\n",
    "            model = SiameseGNN_GAT(50, 10, 0.1, 16)\n",
    "        else:\n",
    "            model = SiameseGNN(50, 10, 0.1, 16)\n",
    "        torch.manual_seed(42)\n",
    "        optimizer = optim.Adam(model.parameters(), lr=1e-4, weight_decay=0.0001)\n",
    "        scheduler = StepLR(optimizer, step_size=10, gamma=0.1)\n",
    "        criterion = nn.BCELoss()  # Changed to BCEWithLogitsLoss for numerical stability\n",
    "\n",
    "        # Prepare data for current fold\n",
    "        training_data_pairs = [data_pairs[i] for i in train_index]\n",
    "        validation_data_pairs = [data_pairs[i] for i in val_index]\n",
    "\n",
    "        for epoch in tqdm(range(num_epochs)):\n",
    "            model.train()\n",
    "            train_losses = []\n",
    "            for (graph1, graph2, labels) in training_data_pairs:\n",
    "                optimizer.zero_grad()\n",
    "                out = model(graph1, graph2)\n",
    "\n",
    "                loss = criterion(out, labels)\n",
    "                loss.backward()\n",
    "                optimizer.step()\n",
    "                train_losses.append(loss.item())\n",
    "\n",
    "            scheduler.step()\n",
    "\n",
    "            model.eval()\n",
    "            with torch.no_grad():\n",
    "                val_losses = []\n",
    "                val_pred = []\n",
    "                val_truth = []\n",
    "\n",
    "                correct = 0\n",
    "                total = 0\n",
    "                for (graph1, graph2, labels) in validation_data_pairs:\n",
    "                    out = model(graph1, graph2)\n",
    "\n",
    "                    val_loss = criterion(out, labels)\n",
    "                    val_losses.append(val_loss.item())\n",
    "\n",
    "                    predictions = torch.round(out)\n",
    "\n",
    "                    val_pred.extend(predictions.cpu().numpy())\n",
    "                    val_truth.extend(labels.cpu().numpy())\n",
    "\n",
    "                    correct += (predictions == labels).sum().item()\n",
    "                    total += labels.size(0)\n",
    "\n",
    "                val_loss = sum(val_losses) / len(val_losses)\n",
    "                val_accuracy = correct / total\n",
    "\n",
    "            val_f1 = f1_score(val_truth, val_pred)\n",
    "            val_f2 = fbeta_score(y_true=val_truth, y_pred=val_pred, beta=2)\n",
    "            val_f05 = fbeta_score(y_true=val_truth, y_pred=val_pred, beta=1 / 2)\n",
    "\n",
    "            print(f'Fold: {fold + 1}, Epoch: {epoch + 1}, Training Loss: {sum(train_losses) / len(train_losses)}, Validation Loss: {val_loss}, Validation Accuracy: {val_accuracy}, Validation F1 Score: {val_f1}, Validation F2 Score: {val_f2}, Validation F0.5 Score: {val_f05}')\n",
    "\n",
    "            if epoch ==19:\n",
    "                val_acc += val_accuracy\n",
    "                val_f1 += val_f1\n",
    "                val_f2 += val_f2\n",
    "                val_f05 += val_f05\n",
    "\n",
    "        model_name = f\"models/real_data/sage-fold{fold}.pt\"\n",
    "        torch.save(model.state_dict(), model_name)\n",
    "\n",
    "    fold_scores.append((val_acc / 5, val_f1 / 5, val_f2 / 5, val_f05 / 5))\n",
    "\n",
    "    return fold_scores"
   ]
  },
  {
   "cell_type": "code",
   "execution_count": 33,
   "metadata": {},
   "outputs": [],
   "source": [
    "train_data = balanced_data + graph_pairs_val"
   ]
  },
  {
   "cell_type": "code",
   "execution_count": 35,
   "metadata": {},
   "outputs": [
    {
     "name": "stdout",
     "output_type": "stream",
     "text": [
      "Fold 1/5\n"
     ]
    },
    {
     "name": "stderr",
     "output_type": "stream",
     "text": [
      "  5%|▌         | 1/20 [00:15<04:59, 15.78s/it]"
     ]
    },
    {
     "name": "stdout",
     "output_type": "stream",
     "text": [
      "Fold: 1, Epoch: 1, Training Loss: 0.6909637743122525, Validation Loss: 0.7123753621242941, Validation Accuracy: 0.50625, Validation F1 Score: 0.6721991701244814, Validation F2 Score: 0.8367768595041323, Validation F0.5 Score: 0.5617198335644937\n"
     ]
    },
    {
     "name": "stderr",
     "output_type": "stream",
     "text": [
      " 10%|█         | 2/20 [00:30<04:37, 15.44s/it]"
     ]
    },
    {
     "name": "stdout",
     "output_type": "stream",
     "text": [
      "Fold: 1, Epoch: 2, Training Loss: 0.6913682036218598, Validation Loss: 0.7089795511215925, Validation Accuracy: 0.50625, Validation F1 Score: 0.6721991701244814, Validation F2 Score: 0.8367768595041323, Validation F0.5 Score: 0.5617198335644937\n"
     ]
    },
    {
     "name": "stderr",
     "output_type": "stream",
     "text": [
      " 15%|█▌        | 3/20 [00:46<04:20, 15.32s/it]"
     ]
    },
    {
     "name": "stdout",
     "output_type": "stream",
     "text": [
      "Fold: 1, Epoch: 3, Training Loss: 0.6892619836479893, Validation Loss: 0.708486351557076, Validation Accuracy: 0.50625, Validation F1 Score: 0.6721991701244814, Validation F2 Score: 0.8367768595041323, Validation F0.5 Score: 0.5617198335644937\n"
     ]
    },
    {
     "name": "stderr",
     "output_type": "stream",
     "text": [
      " 20%|██        | 4/20 [01:01<04:04, 15.25s/it]"
     ]
    },
    {
     "name": "stdout",
     "output_type": "stream",
     "text": [
      "Fold: 1, Epoch: 4, Training Loss: 0.6876277111260495, Validation Loss: 0.7105388727970421, Validation Accuracy: 0.50625, Validation F1 Score: 0.6721991701244814, Validation F2 Score: 0.8367768595041323, Validation F0.5 Score: 0.5617198335644937\n"
     ]
    },
    {
     "name": "stderr",
     "output_type": "stream",
     "text": [
      " 25%|██▌       | 5/20 [01:16<03:49, 15.32s/it]"
     ]
    },
    {
     "name": "stdout",
     "output_type": "stream",
     "text": [
      "Fold: 1, Epoch: 5, Training Loss: 0.6851363604578852, Validation Loss: 0.7068885502405464, Validation Accuracy: 0.525, Validation F1 Score: 0.6779661016949152, Validation F2 Score: 0.8350730688935282, Validation F0.5 Score: 0.5706134094151213\n"
     ]
    },
    {
     "name": "stderr",
     "output_type": "stream",
     "text": [
      " 30%|███       | 6/20 [01:32<03:37, 15.54s/it]"
     ]
    },
    {
     "name": "stdout",
     "output_type": "stream",
     "text": [
      "Fold: 1, Epoch: 6, Training Loss: 0.6764818785426011, Validation Loss: 0.7084421939216554, Validation Accuracy: 0.525, Validation F1 Score: 0.6666666666666666, Validation F2 Score: 0.8067940552016986, Validation F0.5 Score: 0.5680119581464873\n"
     ]
    },
    {
     "name": "stderr",
     "output_type": "stream",
     "text": [
      " 35%|███▌      | 7/20 [01:48<03:24, 15.77s/it]"
     ]
    },
    {
     "name": "stdout",
     "output_type": "stream",
     "text": [
      "Fold: 1, Epoch: 7, Training Loss: 0.6739491087422476, Validation Loss: 0.7070606613531709, Validation Accuracy: 0.521875, Validation F1 Score: 0.6622516556291391, Validation F2 Score: 0.7987220447284346, Validation F0.5 Score: 0.5656108597285068\n"
     ]
    },
    {
     "name": "stderr",
     "output_type": "stream",
     "text": [
      " 40%|████      | 8/20 [02:04<03:10, 15.84s/it]"
     ]
    },
    {
     "name": "stdout",
     "output_type": "stream",
     "text": [
      "Fold: 1, Epoch: 8, Training Loss: 0.6720079077542015, Validation Loss: 0.7042781210504472, Validation Accuracy: 0.51875, Validation F1 Score: 0.65625, Validation F2 Score: 0.7869379014989293, Validation F0.5 Score: 0.5627871362940275\n"
     ]
    },
    {
     "name": "stderr",
     "output_type": "stream",
     "text": [
      " 45%|████▌     | 9/20 [02:20<02:54, 15.90s/it]"
     ]
    },
    {
     "name": "stdout",
     "output_type": "stream",
     "text": [
      "Fold: 1, Epoch: 9, Training Loss: 0.6698806072383838, Validation Loss: 0.7073280753567814, Validation Accuracy: 0.528125, Validation F1 Score: 0.6636971046770601, Validation F2 Score: 0.7967914438502673, Validation F0.5 Score: 0.5687022900763359\n"
     ]
    },
    {
     "name": "stderr",
     "output_type": "stream",
     "text": [
      " 50%|█████     | 10/20 [02:39<02:46, 16.63s/it]"
     ]
    },
    {
     "name": "stdout",
     "output_type": "stream",
     "text": [
      "Fold: 1, Epoch: 10, Training Loss: 0.6667142940399041, Validation Loss: 0.7034418028779328, Validation Accuracy: 0.525, Validation F1 Score: 0.6607142857142857, Validation F2 Score: 0.7922912205567452, Validation F0.5 Score: 0.5666156202143952\n"
     ]
    },
    {
     "name": "stderr",
     "output_type": "stream",
     "text": [
      " 55%|█████▌    | 11/20 [03:01<02:44, 18.29s/it]"
     ]
    },
    {
     "name": "stdout",
     "output_type": "stream",
     "text": [
      "Fold: 1, Epoch: 11, Training Loss: 0.6739467638880482, Validation Loss: 0.6753772334195673, Validation Accuracy: 0.60625, Validation F1 Score: 0.6648936170212766, Validation F2 Score: 0.7250580046403712, Validation F0.5 Score: 0.6139489194499018\n"
     ]
    },
    {
     "name": "stderr",
     "output_type": "stream",
     "text": [
      " 60%|██████    | 12/20 [03:23<02:35, 19.49s/it]"
     ]
    },
    {
     "name": "stdout",
     "output_type": "stream",
     "text": [
      "Fold: 1, Epoch: 12, Training Loss: 0.6577177734630982, Validation Loss: 0.6734222660772502, Validation Accuracy: 0.59375, Validation F1 Score: 0.632768361581921, Validation F2 Score: 0.6666666666666666, Validation F0.5 Score: 0.6021505376344086\n"
     ]
    },
    {
     "name": "stderr",
     "output_type": "stream",
     "text": [
      " 65%|██████▌   | 13/20 [03:45<02:22, 20.32s/it]"
     ]
    },
    {
     "name": "stdout",
     "output_type": "stream",
     "text": [
      "Fold: 1, Epoch: 13, Training Loss: 0.6547668775467663, Validation Loss: 0.6722144064493477, Validation Accuracy: 0.603125, Validation F1 Score: 0.6361031518624641, Validation F2 Score: 0.6646706586826348, Validation F0.5 Score: 0.6098901098901099\n"
     ]
    },
    {
     "name": "stderr",
     "output_type": "stream",
     "text": [
      " 70%|███████   | 14/20 [04:05<02:00, 20.08s/it]"
     ]
    },
    {
     "name": "stdout",
     "output_type": "stream",
     "text": [
      "Fold: 1, Epoch: 14, Training Loss: 0.6597097725914003, Validation Loss: 0.6726411830633878, Validation Accuracy: 0.60625, Validation F1 Score: 0.64, Validation F2 Score: 0.6698564593301436, Validation F0.5 Score: 0.612691466083151\n"
     ]
    },
    {
     "name": "stderr",
     "output_type": "stream",
     "text": [
      " 75%|███████▌  | 15/20 [04:21<01:34, 18.91s/it]"
     ]
    },
    {
     "name": "stdout",
     "output_type": "stream",
     "text": [
      "Fold: 1, Epoch: 15, Training Loss: 0.6537592894745097, Validation Loss: 0.6711463388986886, Validation Accuracy: 0.60625, Validation F1 Score: 0.64, Validation F2 Score: 0.6698564593301436, Validation F0.5 Score: 0.612691466083151\n"
     ]
    },
    {
     "name": "stderr",
     "output_type": "stream",
     "text": [
      " 80%|████████  | 16/20 [04:37<01:12, 18.17s/it]"
     ]
    },
    {
     "name": "stdout",
     "output_type": "stream",
     "text": [
      "Fold: 1, Epoch: 16, Training Loss: 0.6585798078803433, Validation Loss: 0.670084579847753, Validation Accuracy: 0.596875, Validation F1 Score: 0.6194690265486725, Validation F2 Score: 0.6363636363636364, Validation F0.5 Score: 0.603448275862069\n"
     ]
    },
    {
     "name": "stderr",
     "output_type": "stream",
     "text": [
      " 85%|████████▌ | 17/20 [04:54<00:52, 17.62s/it]"
     ]
    },
    {
     "name": "stdout",
     "output_type": "stream",
     "text": [
      "Fold: 1, Epoch: 17, Training Loss: 0.6558511731766609, Validation Loss: 0.6692430801689625, Validation Accuracy: 0.596875, Validation F1 Score: 0.6239067055393586, Validation F2 Score: 0.6453558504221955, Validation F0.5 Score: 0.6038374717832957\n"
     ]
    },
    {
     "name": "stderr",
     "output_type": "stream",
     "text": [
      " 90%|█████████ | 18/20 [05:10<00:34, 17.09s/it]"
     ]
    },
    {
     "name": "stdout",
     "output_type": "stream",
     "text": [
      "Fold: 1, Epoch: 18, Training Loss: 0.657125563270246, Validation Loss: 0.6685922770760954, Validation Accuracy: 0.6, Validation F1 Score: 0.6235294117647059, Validation F2 Score: 0.6416464891041163, Validation F0.5 Score: 0.6064073226544623\n"
     ]
    },
    {
     "name": "stderr",
     "output_type": "stream",
     "text": [
      " 95%|█████████▌| 19/20 [05:26<00:16, 16.74s/it]"
     ]
    },
    {
     "name": "stdout",
     "output_type": "stream",
     "text": [
      "Fold: 1, Epoch: 19, Training Loss: 0.6580203196214844, Validation Loss: 0.6677171589806676, Validation Accuracy: 0.603125, Validation F1 Score: 0.6208955223880597, Validation F2 Score: 0.633373934226553, Validation F0.5 Score: 0.6088992974238876\n"
     ]
    },
    {
     "name": "stderr",
     "output_type": "stream",
     "text": [
      "100%|██████████| 20/20 [05:41<00:00, 17.10s/it]\n"
     ]
    },
    {
     "name": "stdout",
     "output_type": "stream",
     "text": [
      "Fold: 1, Epoch: 20, Training Loss: 0.6547573768887026, Validation Loss: 0.6673020939342678, Validation Accuracy: 0.603125, Validation F1 Score: 0.6163141993957704, Validation F2 Score: 0.6242350061199511, Validation F0.5 Score: 0.6085918854415274\n",
      "Fold 2/5\n"
     ]
    },
    {
     "name": "stderr",
     "output_type": "stream",
     "text": [
      "  5%|▌         | 1/20 [00:16<05:05, 16.09s/it]"
     ]
    },
    {
     "name": "stdout",
     "output_type": "stream",
     "text": [
      "Fold: 2, Epoch: 1, Training Loss: 0.6948182064290147, Validation Loss: 0.6784852731937899, Validation Accuracy: 0.5893416927899686, Validation F1 Score: 0.7416173570019724, Validation F2 Score: 0.8776844070961718, Validation F0.5 Score: 0.6420765027322405\n"
     ]
    },
    {
     "name": "stderr",
     "output_type": "stream",
     "text": [
      " 10%|█         | 2/20 [00:32<04:47, 16.00s/it]"
     ]
    },
    {
     "name": "stdout",
     "output_type": "stream",
     "text": [
      "Fold: 2, Epoch: 2, Training Loss: 0.6953260036259773, Validation Loss: 0.6773107128457216, Validation Accuracy: 0.5893416927899686, Validation F1 Score: 0.7416173570019724, Validation F2 Score: 0.8776844070961718, Validation F0.5 Score: 0.6420765027322405\n"
     ]
    },
    {
     "name": "stderr",
     "output_type": "stream",
     "text": [
      " 15%|█▌        | 3/20 [00:48<04:33, 16.07s/it]"
     ]
    },
    {
     "name": "stdout",
     "output_type": "stream",
     "text": [
      "Fold: 2, Epoch: 3, Training Loss: 0.6950421885951198, Validation Loss: 0.6773832942998521, Validation Accuracy: 0.5893416927899686, Validation F1 Score: 0.7416173570019724, Validation F2 Score: 0.8776844070961718, Validation F0.5 Score: 0.6420765027322405\n"
     ]
    },
    {
     "name": "stderr",
     "output_type": "stream",
     "text": [
      " 20%|██        | 4/20 [01:04<04:17, 16.07s/it]"
     ]
    },
    {
     "name": "stdout",
     "output_type": "stream",
     "text": [
      "Fold: 2, Epoch: 4, Training Loss: 0.6945602694058101, Validation Loss: 0.6771194118317392, Validation Accuracy: 0.5893416927899686, Validation F1 Score: 0.7416173570019724, Validation F2 Score: 0.8776844070961718, Validation F0.5 Score: 0.6420765027322405\n"
     ]
    },
    {
     "name": "stderr",
     "output_type": "stream",
     "text": [
      " 25%|██▌       | 5/20 [01:20<04:01, 16.11s/it]"
     ]
    },
    {
     "name": "stdout",
     "output_type": "stream",
     "text": [
      "Fold: 2, Epoch: 5, Training Loss: 0.6935327260542775, Validation Loss: 0.6773886316248616, Validation Accuracy: 0.5893416927899686, Validation F1 Score: 0.7416173570019724, Validation F2 Score: 0.8776844070961718, Validation F0.5 Score: 0.6420765027322405\n"
     ]
    },
    {
     "name": "stderr",
     "output_type": "stream",
     "text": [
      " 30%|███       | 6/20 [01:36<03:45, 16.10s/it]"
     ]
    },
    {
     "name": "stdout",
     "output_type": "stream",
     "text": [
      "Fold: 2, Epoch: 6, Training Loss: 0.6926117800088627, Validation Loss: 0.6775244930321146, Validation Accuracy: 0.5893416927899686, Validation F1 Score: 0.7416173570019724, Validation F2 Score: 0.8776844070961718, Validation F0.5 Score: 0.6420765027322405\n"
     ]
    },
    {
     "name": "stderr",
     "output_type": "stream",
     "text": [
      " 35%|███▌      | 7/20 [01:52<03:28, 16.06s/it]"
     ]
    },
    {
     "name": "stdout",
     "output_type": "stream",
     "text": [
      "Fold: 2, Epoch: 7, Training Loss: 0.6905023678028687, Validation Loss: 0.6776314089103926, Validation Accuracy: 0.5893416927899686, Validation F1 Score: 0.7416173570019724, Validation F2 Score: 0.8776844070961718, Validation F0.5 Score: 0.6420765027322405\n"
     ]
    },
    {
     "name": "stderr",
     "output_type": "stream",
     "text": [
      " 40%|████      | 8/20 [02:08<03:12, 16.05s/it]"
     ]
    },
    {
     "name": "stdout",
     "output_type": "stream",
     "text": [
      "Fold: 2, Epoch: 8, Training Loss: 0.6919743919755298, Validation Loss: 0.677594003819373, Validation Accuracy: 0.5893416927899686, Validation F1 Score: 0.7416173570019724, Validation F2 Score: 0.8776844070961718, Validation F0.5 Score: 0.6420765027322405\n"
     ]
    },
    {
     "name": "stderr",
     "output_type": "stream",
     "text": [
      " 45%|████▌     | 9/20 [02:24<02:56, 16.08s/it]"
     ]
    },
    {
     "name": "stdout",
     "output_type": "stream",
     "text": [
      "Fold: 2, Epoch: 9, Training Loss: 0.6904342510827183, Validation Loss: 0.6779871457796486, Validation Accuracy: 0.5924764890282131, Validation F1 Score: 0.7420634920634921, Validation F2 Score: 0.8754681647940075, Validation F0.5 Score: 0.6439393939393939\n"
     ]
    },
    {
     "name": "stderr",
     "output_type": "stream",
     "text": [
      " 50%|█████     | 10/20 [02:40<02:40, 16.05s/it]"
     ]
    },
    {
     "name": "stdout",
     "output_type": "stream",
     "text": [
      "Fold: 2, Epoch: 10, Training Loss: 0.6916520898941446, Validation Loss: 0.6784483730606151, Validation Accuracy: 0.5893416927899686, Validation F1 Score: 0.7395626242544732, Validation F2 Score: 0.8716026241799437, Validation F0.5 Score: 0.6422651933701657\n"
     ]
    },
    {
     "name": "stderr",
     "output_type": "stream",
     "text": [
      " 55%|█████▌    | 11/20 [02:56<02:24, 16.06s/it]"
     ]
    },
    {
     "name": "stdout",
     "output_type": "stream",
     "text": [
      "Fold: 2, Epoch: 11, Training Loss: 0.6948410225222609, Validation Loss: 0.6797306806689893, Validation Accuracy: 0.5862068965517241, Validation F1 Score: 0.7317073170731707, Validation F2 Score: 0.8522727272727273, Validation F0.5 Score: 0.6410256410256411\n"
     ]
    },
    {
     "name": "stderr",
     "output_type": "stream",
     "text": [
      " 60%|██████    | 12/20 [03:12<02:08, 16.09s/it]"
     ]
    },
    {
     "name": "stdout",
     "output_type": "stream",
     "text": [
      "Fold: 2, Epoch: 12, Training Loss: 0.6937345245338177, Validation Loss: 0.681736653875034, Validation Accuracy: 0.5768025078369906, Validation F1 Score: 0.7204968944099379, Validation F2 Score: 0.830945558739255, Validation F0.5 Score: 0.6359649122807017\n"
     ]
    },
    {
     "name": "stderr",
     "output_type": "stream",
     "text": [
      " 65%|██████▌   | 13/20 [03:28<01:52, 16.08s/it]"
     ]
    },
    {
     "name": "stdout",
     "output_type": "stream",
     "text": [
      "Fold: 2, Epoch: 13, Training Loss: 0.690740310034905, Validation Loss: 0.6835364273349319, Validation Accuracy: 0.5830721003134797, Validation F1 Score: 0.7114967462039046, Validation F2 Score: 0.8, Validation F0.5 Score: 0.640625\n"
     ]
    },
    {
     "name": "stderr",
     "output_type": "stream",
     "text": [
      " 70%|███████   | 14/20 [03:45<01:37, 16.22s/it]"
     ]
    },
    {
     "name": "stdout",
     "output_type": "stream",
     "text": [
      "Fold: 2, Epoch: 14, Training Loss: 0.690880394906109, Validation Loss: 0.6853567253459584, Validation Accuracy: 0.5705329153605015, Validation F1 Score: 0.6921348314606741, Validation F2 Score: 0.7631318136769079, Validation F0.5 Score: 0.6332236842105263\n"
     ]
    },
    {
     "name": "stderr",
     "output_type": "stream",
     "text": [
      " 75%|███████▌  | 15/20 [04:01<01:21, 16.25s/it]"
     ]
    },
    {
     "name": "stdout",
     "output_type": "stream",
     "text": [
      "Fold: 2, Epoch: 15, Training Loss: 0.6904463732998728, Validation Loss: 0.6863186682653277, Validation Accuracy: 0.5768025078369906, Validation F1 Score: 0.6924829157175398, Validation F2 Score: 0.7577268195413759, Validation F0.5 Score: 0.6375838926174496\n"
     ]
    },
    {
     "name": "stderr",
     "output_type": "stream",
     "text": [
      " 80%|████████  | 16/20 [04:18<01:05, 16.32s/it]"
     ]
    },
    {
     "name": "stdout",
     "output_type": "stream",
     "text": [
      "Fold: 2, Epoch: 16, Training Loss: 0.6892069847021798, Validation Loss: 0.6863073814998973, Validation Accuracy: 0.5736677115987461, Validation F1 Score: 0.6880733944954128, Validation F2 Score: 0.75, Validation F0.5 Score: 0.635593220338983\n"
     ]
    },
    {
     "name": "stderr",
     "output_type": "stream",
     "text": [
      " 85%|████████▌ | 17/20 [04:34<00:48, 16.25s/it]"
     ]
    },
    {
     "name": "stdout",
     "output_type": "stream",
     "text": [
      "Fold: 2, Epoch: 17, Training Loss: 0.6890378370355981, Validation Loss: 0.6866644379860929, Validation Accuracy: 0.5705329153605015, Validation F1 Score: 0.6850574712643678, Validation F2 Score: 0.7457457457457457, Validation F0.5 Score: 0.6335034013605442\n"
     ]
    },
    {
     "name": "stderr",
     "output_type": "stream",
     "text": [
      " 90%|█████████ | 18/20 [04:50<00:32, 16.24s/it]"
     ]
    },
    {
     "name": "stdout",
     "output_type": "stream",
     "text": [
      "Fold: 2, Epoch: 18, Training Loss: 0.6888829836550409, Validation Loss: 0.6872614069044777, Validation Accuracy: 0.5705329153605015, Validation F1 Score: 0.6836027713625866, Validation F2 Score: 0.7422266800401204, Validation F0.5 Score: 0.6335616438356164\n"
     ]
    },
    {
     "name": "stderr",
     "output_type": "stream",
     "text": [
      " 95%|█████████▌| 19/20 [05:06<00:16, 16.22s/it]"
     ]
    },
    {
     "name": "stdout",
     "output_type": "stream",
     "text": [
      "Fold: 2, Epoch: 19, Training Loss: 0.6897751304350892, Validation Loss: 0.6878764696629444, Validation Accuracy: 0.5705329153605015, Validation F1 Score: 0.6836027713625866, Validation F2 Score: 0.7422266800401204, Validation F0.5 Score: 0.6335616438356164\n"
     ]
    },
    {
     "name": "stderr",
     "output_type": "stream",
     "text": [
      "100%|██████████| 20/20 [05:22<00:00, 16.14s/it]\n"
     ]
    },
    {
     "name": "stdout",
     "output_type": "stream",
     "text": [
      "Fold: 2, Epoch: 20, Training Loss: 0.688651482575371, Validation Loss: 0.6876419683608889, Validation Accuracy: 0.567398119122257, Validation F1 Score: 0.6805555555555556, Validation F2 Score: 0.7379518072289156, Validation F0.5 Score: 0.6314432989690721\n",
      "Fold 3/5\n"
     ]
    },
    {
     "name": "stderr",
     "output_type": "stream",
     "text": [
      "  5%|▌         | 1/20 [00:16<05:06, 16.13s/it]"
     ]
    },
    {
     "name": "stdout",
     "output_type": "stream",
     "text": [
      "Fold: 3, Epoch: 1, Training Loss: 0.691986585769601, Validation Loss: 0.7079362489026169, Validation Accuracy: 0.5203761755485894, Validation F1 Score: 0.6845360824742268, Validation F2 Score: 0.844354018311292, Validation F0.5 Score: 0.5755894590846047\n"
     ]
    },
    {
     "name": "stderr",
     "output_type": "stream",
     "text": [
      " 10%|█         | 2/20 [00:32<04:49, 16.06s/it]"
     ]
    },
    {
     "name": "stdout",
     "output_type": "stream",
     "text": [
      "Fold: 3, Epoch: 2, Training Loss: 0.693833382337842, Validation Loss: 0.7026235407983248, Validation Accuracy: 0.5203761755485894, Validation F1 Score: 0.6845360824742268, Validation F2 Score: 0.844354018311292, Validation F0.5 Score: 0.5755894590846047\n"
     ]
    },
    {
     "name": "stderr",
     "output_type": "stream",
     "text": [
      " 15%|█▌        | 3/20 [00:48<04:33, 16.09s/it]"
     ]
    },
    {
     "name": "stdout",
     "output_type": "stream",
     "text": [
      "Fold: 3, Epoch: 3, Training Loss: 0.6926503934567108, Validation Loss: 0.7001984005437749, Validation Accuracy: 0.5203761755485894, Validation F1 Score: 0.6845360824742268, Validation F2 Score: 0.844354018311292, Validation F0.5 Score: 0.5755894590846047\n"
     ]
    },
    {
     "name": "stderr",
     "output_type": "stream",
     "text": [
      " 20%|██        | 4/20 [01:04<04:18, 16.14s/it]"
     ]
    },
    {
     "name": "stdout",
     "output_type": "stream",
     "text": [
      "Fold: 3, Epoch: 4, Training Loss: 0.692584621108129, Validation Loss: 0.6997371476645754, Validation Accuracy: 0.5203761755485894, Validation F1 Score: 0.6845360824742268, Validation F2 Score: 0.844354018311292, Validation F0.5 Score: 0.5755894590846047\n"
     ]
    },
    {
     "name": "stderr",
     "output_type": "stream",
     "text": [
      " 25%|██▌       | 5/20 [01:20<04:02, 16.15s/it]"
     ]
    },
    {
     "name": "stdout",
     "output_type": "stream",
     "text": [
      "Fold: 3, Epoch: 5, Training Loss: 0.6926575216027845, Validation Loss: 0.6971465683656053, Validation Accuracy: 0.5203761755485894, Validation F1 Score: 0.6845360824742268, Validation F2 Score: 0.844354018311292, Validation F0.5 Score: 0.5755894590846047\n"
     ]
    },
    {
     "name": "stderr",
     "output_type": "stream",
     "text": [
      " 30%|███       | 6/20 [01:36<03:45, 16.11s/it]"
     ]
    },
    {
     "name": "stdout",
     "output_type": "stream",
     "text": [
      "Fold: 3, Epoch: 6, Training Loss: 0.6921830519438723, Validation Loss: 0.6959387110692207, Validation Accuracy: 0.5203761755485894, Validation F1 Score: 0.6845360824742268, Validation F2 Score: 0.844354018311292, Validation F0.5 Score: 0.5755894590846047\n"
     ]
    },
    {
     "name": "stderr",
     "output_type": "stream",
     "text": [
      " 35%|███▌      | 7/20 [01:52<03:29, 16.09s/it]"
     ]
    },
    {
     "name": "stdout",
     "output_type": "stream",
     "text": [
      "Fold: 3, Epoch: 7, Training Loss: 0.6898145858393858, Validation Loss: 0.6982843537689376, Validation Accuracy: 0.5203761755485894, Validation F1 Score: 0.6845360824742268, Validation F2 Score: 0.844354018311292, Validation F0.5 Score: 0.5755894590846047\n"
     ]
    },
    {
     "name": "stderr",
     "output_type": "stream",
     "text": [
      " 40%|████      | 8/20 [02:08<03:13, 16.14s/it]"
     ]
    },
    {
     "name": "stdout",
     "output_type": "stream",
     "text": [
      "Fold: 3, Epoch: 8, Training Loss: 0.6913872050557551, Validation Loss: 0.69826016829679, Validation Accuracy: 0.5203761755485894, Validation F1 Score: 0.6845360824742268, Validation F2 Score: 0.844354018311292, Validation F0.5 Score: 0.5755894590846047\n"
     ]
    },
    {
     "name": "stderr",
     "output_type": "stream",
     "text": [
      " 45%|████▌     | 9/20 [02:25<02:58, 16.21s/it]"
     ]
    },
    {
     "name": "stdout",
     "output_type": "stream",
     "text": [
      "Fold: 3, Epoch: 9, Training Loss: 0.6879057432863986, Validation Loss: 0.6937766997231212, Validation Accuracy: 0.5141065830721003, Validation F1 Score: 0.6777546777546778, Validation F2 Score: 0.832482124616956, Validation F0.5 Score: 0.5715287517531557\n"
     ]
    },
    {
     "name": "stderr",
     "output_type": "stream",
     "text": [
      " 50%|█████     | 10/20 [02:41<02:42, 16.25s/it]"
     ]
    },
    {
     "name": "stdout",
     "output_type": "stream",
     "text": [
      "Fold: 3, Epoch: 10, Training Loss: 0.6835061924338061, Validation Loss: 0.6837177926843817, Validation Accuracy: 0.5297805642633229, Validation F1 Score: 0.6835443037974683, Validation F2 Score: 0.8333333333333334, Validation F0.5 Score: 0.5793991416309013\n"
     ]
    },
    {
     "name": "stderr",
     "output_type": "stream",
     "text": [
      " 55%|█████▌    | 11/20 [02:57<02:25, 16.18s/it]"
     ]
    },
    {
     "name": "stdout",
     "output_type": "stream",
     "text": [
      "Fold: 3, Epoch: 11, Training Loss: 0.6841147922405342, Validation Loss: 0.6747846528654188, Validation Accuracy: 0.5862068965517241, Validation F1 Score: 0.6796116504854369, Validation F2 Score: 0.7692307692307693, Validation F0.5 Score: 0.6086956521739131\n"
     ]
    },
    {
     "name": "stderr",
     "output_type": "stream",
     "text": [
      " 60%|██████    | 12/20 [03:13<02:09, 16.15s/it]"
     ]
    },
    {
     "name": "stdout",
     "output_type": "stream",
     "text": [
      "Fold: 3, Epoch: 12, Training Loss: 0.6813515253429219, Validation Loss: 0.6714904213026399, Validation Accuracy: 0.6018808777429467, Validation F1 Score: 0.683291770573566, Validation F2 Score: 0.7619577308120133, Validation F0.5 Score: 0.6193490054249547\n"
     ]
    },
    {
     "name": "stderr",
     "output_type": "stream",
     "text": [
      " 65%|██████▌   | 13/20 [03:29<01:52, 16.13s/it]"
     ]
    },
    {
     "name": "stdout",
     "output_type": "stream",
     "text": [
      "Fold: 3, Epoch: 13, Training Loss: 0.6758613554453047, Validation Loss: 0.6700446285237339, Validation Accuracy: 0.6081504702194357, Validation F1 Score: 0.6684350132625995, Validation F2 Score: 0.72, Validation F0.5 Score: 0.6237623762376238\n"
     ]
    },
    {
     "name": "stderr",
     "output_type": "stream",
     "text": [
      " 70%|███████   | 14/20 [03:45<01:36, 16.10s/it]"
     ]
    },
    {
     "name": "stdout",
     "output_type": "stream",
     "text": [
      "Fold: 3, Epoch: 14, Training Loss: 0.6803229082676239, Validation Loss: 0.6699174874254903, Validation Accuracy: 0.6050156739811913, Validation F1 Score: 0.6612903225806451, Validation F2 Score: 0.7068965517241379, Validation F0.5 Score: 0.6212121212121212\n"
     ]
    },
    {
     "name": "stderr",
     "output_type": "stream",
     "text": [
      " 75%|███████▌  | 15/20 [04:02<01:20, 16.11s/it]"
     ]
    },
    {
     "name": "stdout",
     "output_type": "stream",
     "text": [
      "Fold: 3, Epoch: 15, Training Loss: 0.6790766885435572, Validation Loss: 0.6695162653923035, Validation Accuracy: 0.6081504702194357, Validation F1 Score: 0.6612466124661247, Validation F2 Score: 0.7035755478662054, Validation F0.5 Score: 0.623721881390593\n"
     ]
    },
    {
     "name": "stderr",
     "output_type": "stream",
     "text": [
      " 80%|████████  | 16/20 [04:18<01:05, 16.31s/it]"
     ]
    },
    {
     "name": "stdout",
     "output_type": "stream",
     "text": [
      "Fold: 3, Epoch: 16, Training Loss: 0.6782349611551574, Validation Loss: 0.6684021512542773, Validation Accuracy: 0.6175548589341693, Validation F1 Score: 0.6666666666666666, Validation F2 Score: 0.7060185185185185, Validation F0.5 Score: 0.6314699792960663\n"
     ]
    },
    {
     "name": "stderr",
     "output_type": "stream",
     "text": [
      " 85%|████████▌ | 17/20 [04:34<00:48, 16.21s/it]"
     ]
    },
    {
     "name": "stdout",
     "output_type": "stream",
     "text": [
      "Fold: 3, Epoch: 17, Training Loss: 0.6776606850821989, Validation Loss: 0.6670951698454196, Validation Accuracy: 0.6206896551724138, Validation F1 Score: 0.6684931506849315, Validation F2 Score: 0.7068366164542295, Validation F0.5 Score: 0.6340956340956341\n"
     ]
    },
    {
     "name": "stderr",
     "output_type": "stream",
     "text": [
      " 90%|█████████ | 18/20 [04:50<00:32, 16.13s/it]"
     ]
    },
    {
     "name": "stdout",
     "output_type": "stream",
     "text": [
      "Fold: 3, Epoch: 18, Training Loss: 0.675783604453482, Validation Loss: 0.6664825768493186, Validation Accuracy: 0.6175548589341693, Validation F1 Score: 0.6648351648351648, Validation F2 Score: 0.7018561484918794, Validation F0.5 Score: 0.6315240083507306\n"
     ]
    },
    {
     "name": "stderr",
     "output_type": "stream",
     "text": [
      " 95%|█████████▌| 19/20 [05:08<00:16, 16.52s/it]"
     ]
    },
    {
     "name": "stdout",
     "output_type": "stream",
     "text": [
      "Fold: 3, Epoch: 19, Training Loss: 0.6738337870911872, Validation Loss: 0.6652680572858051, Validation Accuracy: 0.6269592476489029, Validation F1 Score: 0.6685236768802229, Validation F2 Score: 0.7001166861143524, Validation F0.5 Score: 0.6396588486140725\n"
     ]
    },
    {
     "name": "stderr",
     "output_type": "stream",
     "text": [
      "100%|██████████| 20/20 [05:23<00:00, 16.17s/it]\n"
     ]
    },
    {
     "name": "stdout",
     "output_type": "stream",
     "text": [
      "Fold: 3, Epoch: 20, Training Loss: 0.6790119020987416, Validation Loss: 0.6652122004465624, Validation Accuracy: 0.64576802507837, Validation F1 Score: 0.6743515850144092, Validation F2 Score: 0.6923076923076923, Validation F0.5 Score: 0.6573033707865169\n",
      "Fold 4/5\n"
     ]
    },
    {
     "name": "stderr",
     "output_type": "stream",
     "text": [
      "  5%|▌         | 1/20 [00:15<04:49, 15.21s/it]"
     ]
    },
    {
     "name": "stdout",
     "output_type": "stream",
     "text": [
      "Fold: 4, Epoch: 1, Training Loss: 0.6909643753067815, Validation Loss: 0.7267387017934673, Validation Accuracy: 0.5109717868338558, Validation F1 Score: 0.6763485477178424, Validation F2 Score: 0.839340885684861, Validation F0.5 Score: 0.56636553161918\n"
     ]
    },
    {
     "name": "stderr",
     "output_type": "stream",
     "text": [
      " 10%|█         | 2/20 [00:30<04:34, 15.24s/it]"
     ]
    },
    {
     "name": "stdout",
     "output_type": "stream",
     "text": [
      "Fold: 4, Epoch: 2, Training Loss: 0.6877729493888356, Validation Loss: 0.7213145076854849, Validation Accuracy: 0.5109717868338558, Validation F1 Score: 0.6763485477178424, Validation F2 Score: 0.839340885684861, Validation F0.5 Score: 0.56636553161918\n"
     ]
    },
    {
     "name": "stderr",
     "output_type": "stream",
     "text": [
      " 15%|█▌        | 3/20 [00:48<04:38, 16.41s/it]"
     ]
    },
    {
     "name": "stdout",
     "output_type": "stream",
     "text": [
      "Fold: 4, Epoch: 3, Training Loss: 0.690283593435071, Validation Loss: 0.715921623299488, Validation Accuracy: 0.5109717868338558, Validation F1 Score: 0.6763485477178424, Validation F2 Score: 0.839340885684861, Validation F0.5 Score: 0.56636553161918\n"
     ]
    },
    {
     "name": "stderr",
     "output_type": "stream",
     "text": [
      " 20%|██        | 4/20 [01:04<04:23, 16.47s/it]"
     ]
    },
    {
     "name": "stdout",
     "output_type": "stream",
     "text": [
      "Fold: 4, Epoch: 4, Training Loss: 0.6905662621617223, Validation Loss: 0.7140160382354521, Validation Accuracy: 0.5109717868338558, Validation F1 Score: 0.6763485477178424, Validation F2 Score: 0.839340885684861, Validation F0.5 Score: 0.56636553161918\n"
     ]
    },
    {
     "name": "stderr",
     "output_type": "stream",
     "text": [
      " 25%|██▌       | 5/20 [01:20<04:04, 16.29s/it]"
     ]
    },
    {
     "name": "stdout",
     "output_type": "stream",
     "text": [
      "Fold: 4, Epoch: 5, Training Loss: 0.6897069246580382, Validation Loss: 0.7121457368789422, Validation Accuracy: 0.5109717868338558, Validation F1 Score: 0.6763485477178424, Validation F2 Score: 0.839340885684861, Validation F0.5 Score: 0.56636553161918\n"
     ]
    },
    {
     "name": "stderr",
     "output_type": "stream",
     "text": [
      " 30%|███       | 6/20 [01:37<03:50, 16.49s/it]"
     ]
    },
    {
     "name": "stdout",
     "output_type": "stream",
     "text": [
      "Fold: 4, Epoch: 6, Training Loss: 0.6910386172560107, Validation Loss: 0.7091802946265588, Validation Accuracy: 0.5141065830721003, Validation F1 Score: 0.6777546777546778, Validation F2 Score: 0.8402061855670103, Validation F0.5 Score: 0.5679442508710801\n"
     ]
    },
    {
     "name": "stderr",
     "output_type": "stream",
     "text": [
      " 35%|███▌      | 7/20 [01:56<03:45, 17.33s/it]"
     ]
    },
    {
     "name": "stdout",
     "output_type": "stream",
     "text": [
      "Fold: 4, Epoch: 7, Training Loss: 0.6871193071175293, Validation Loss: 0.7129187701637842, Validation Accuracy: 0.5141065830721003, Validation F1 Score: 0.6777546777546778, Validation F2 Score: 0.8402061855670103, Validation F0.5 Score: 0.5679442508710801\n"
     ]
    },
    {
     "name": "stderr",
     "output_type": "stream",
     "text": [
      " 40%|████      | 8/20 [02:13<03:25, 17.14s/it]"
     ]
    },
    {
     "name": "stdout",
     "output_type": "stream",
     "text": [
      "Fold: 4, Epoch: 8, Training Loss: 0.6872405912975081, Validation Loss: 0.7068810236865076, Validation Accuracy: 0.5203761755485894, Validation F1 Score: 0.6805845511482255, Validation F2 Score: 0.8419421487603306, Validation F0.5 Score: 0.5711282410651717\n"
     ]
    },
    {
     "name": "stderr",
     "output_type": "stream",
     "text": [
      " 45%|████▌     | 9/20 [02:29<03:04, 16.78s/it]"
     ]
    },
    {
     "name": "stdout",
     "output_type": "stream",
     "text": [
      "Fold: 4, Epoch: 9, Training Loss: 0.6831702340274652, Validation Loss: 0.7120440011861556, Validation Accuracy: 0.5078369905956113, Validation F1 Score: 0.6623655913978495, Validation F2 Score: 0.8071278825995807, Validation F0.5 Score: 0.5616338439095551\n"
     ]
    },
    {
     "name": "stderr",
     "output_type": "stream",
     "text": [
      " 50%|█████     | 10/20 [02:49<02:56, 17.67s/it]"
     ]
    },
    {
     "name": "stdout",
     "output_type": "stream",
     "text": [
      "Fold: 4, Epoch: 10, Training Loss: 0.6776175288222409, Validation Loss: 0.7116976810099563, Validation Accuracy: 0.542319749216301, Validation F1 Score: 0.663594470046083, Validation F2 Score: 0.7800650054171181, Validation F0.5 Score: 0.5773857257417803\n"
     ]
    },
    {
     "name": "stderr",
     "output_type": "stream",
     "text": [
      " 55%|█████▌    | 11/20 [03:06<02:37, 17.49s/it]"
     ]
    },
    {
     "name": "stdout",
     "output_type": "stream",
     "text": [
      "Fold: 4, Epoch: 11, Training Loss: 0.6916124994108802, Validation Loss: 0.6935937048686336, Validation Accuracy: 0.5454545454545454, Validation F1 Score: 0.6329113924050633, Validation F2 Score: 0.7070135746606335, Validation F0.5 Score: 0.5728689275893676\n"
     ]
    },
    {
     "name": "stderr",
     "output_type": "stream",
     "text": [
      " 60%|██████    | 12/20 [03:22<02:17, 17.20s/it]"
     ]
    },
    {
     "name": "stdout",
     "output_type": "stream",
     "text": [
      "Fold: 4, Epoch: 12, Training Loss: 0.67208330822159, Validation Loss: 0.6886064575570504, Validation Accuracy: 0.554858934169279, Validation F1 Score: 0.6223404255319149, Validation F2 Score: 0.6763005780346821, Validation F0.5 Score: 0.5763546798029556\n"
     ]
    },
    {
     "name": "stderr",
     "output_type": "stream",
     "text": [
      " 65%|██████▌   | 13/20 [03:38<01:57, 16.83s/it]"
     ]
    },
    {
     "name": "stdout",
     "output_type": "stream",
     "text": [
      "Fold: 4, Epoch: 13, Training Loss: 0.6712862105227674, Validation Loss: 0.687898818228312, Validation Accuracy: 0.554858934169279, Validation F1 Score: 0.6162162162162163, Validation F2 Score: 0.6635622817229336, Validation F0.5 Score: 0.5751765893037336\n"
     ]
    },
    {
     "name": "stderr",
     "output_type": "stream",
     "text": [
      " 70%|███████   | 14/20 [03:54<01:39, 16.66s/it]"
     ]
    },
    {
     "name": "stdout",
     "output_type": "stream",
     "text": [
      "Fold: 4, Epoch: 14, Training Loss: 0.6694407466807772, Validation Loss: 0.6883882671874892, Validation Accuracy: 0.5517241379310345, Validation F1 Score: 0.6145552560646901, Validation F2 Score: 0.6627906976744186, Validation F0.5 Score: 0.5728643216080402\n"
     ]
    },
    {
     "name": "stderr",
     "output_type": "stream",
     "text": [
      " 75%|███████▌  | 15/20 [04:11<01:23, 16.61s/it]"
     ]
    },
    {
     "name": "stdout",
     "output_type": "stream",
     "text": [
      "Fold: 4, Epoch: 15, Training Loss: 0.6684549386462105, Validation Loss: 0.6883823624972639, Validation Accuracy: 0.5579937304075235, Validation F1 Score: 0.6094182825484764, Validation F2 Score: 0.6470588235294118, Validation F0.5 Score: 0.5759162303664922\n"
     ]
    },
    {
     "name": "stderr",
     "output_type": "stream",
     "text": [
      " 80%|████████  | 16/20 [04:26<01:04, 16.19s/it]"
     ]
    },
    {
     "name": "stdout",
     "output_type": "stream",
     "text": [
      "Fold: 4, Epoch: 16, Training Loss: 0.6686166279373826, Validation Loss: 0.6883823748292595, Validation Accuracy: 0.5611285266457681, Validation F1 Score: 0.6111111111111112, Validation F2 Score: 0.6478209658421673, Validation F0.5 Score: 0.5783385909568874\n"
     ]
    },
    {
     "name": "stderr",
     "output_type": "stream",
     "text": [
      " 85%|████████▌ | 17/20 [04:41<00:47, 15.90s/it]"
     ]
    },
    {
     "name": "stdout",
     "output_type": "stream",
     "text": [
      "Fold: 4, Epoch: 17, Training Loss: 0.6680558332261762, Validation Loss: 0.6879334925297286, Validation Accuracy: 0.5642633228840125, Validation F1 Score: 0.6170798898071626, Validation F2 Score: 0.6572769953051644, Validation F0.5 Score: 0.5815160955347871\n"
     ]
    },
    {
     "name": "stderr",
     "output_type": "stream",
     "text": [
      " 90%|█████████ | 18/20 [04:57<00:31, 15.69s/it]"
     ]
    },
    {
     "name": "stdout",
     "output_type": "stream",
     "text": [
      "Fold: 4, Epoch: 18, Training Loss: 0.6656670593011165, Validation Loss: 0.688649166060092, Validation Accuracy: 0.5642633228840125, Validation F1 Score: 0.6170798898071626, Validation F2 Score: 0.6572769953051644, Validation F0.5 Score: 0.5815160955347871\n"
     ]
    },
    {
     "name": "stderr",
     "output_type": "stream",
     "text": [
      " 95%|█████████▌| 19/20 [05:12<00:15, 15.56s/it]"
     ]
    },
    {
     "name": "stdout",
     "output_type": "stream",
     "text": [
      "Fold: 4, Epoch: 19, Training Loss: 0.6711694561324273, Validation Loss: 0.6868138240422574, Validation Accuracy: 0.5799373040752351, Validation F1 Score: 0.6193181818181818, Validation F2 Score: 0.6480380499405469, Validation F0.5 Score: 0.5930359085963003\n"
     ]
    },
    {
     "name": "stderr",
     "output_type": "stream",
     "text": [
      "100%|██████████| 20/20 [05:27<00:00, 16.39s/it]\n"
     ]
    },
    {
     "name": "stdout",
     "output_type": "stream",
     "text": [
      "Fold: 4, Epoch: 20, Training Loss: 0.6625961306838197, Validation Loss: 0.6872005898003294, Validation Accuracy: 0.5736677115987461, Validation F1 Score: 0.6091954022988506, Validation F2 Score: 0.6332138590203107, Validation F0.5 Score: 0.5869324473975637\n",
      "Fold 5/5\n"
     ]
    },
    {
     "name": "stderr",
     "output_type": "stream",
     "text": [
      "  5%|▌         | 1/20 [00:15<04:53, 15.46s/it]"
     ]
    },
    {
     "name": "stdout",
     "output_type": "stream",
     "text": [
      "Fold: 5, Epoch: 1, Training Loss: 0.6912723912236834, Validation Loss: 0.712107922589891, Validation Accuracy: 0.5297805642633229, Validation F1 Score: 0.6926229508196722, Validation F2 Score: 0.8492462311557789, Validation F0.5 Score: 0.5847750865051903\n"
     ]
    },
    {
     "name": "stderr",
     "output_type": "stream",
     "text": [
      " 10%|█         | 2/20 [00:30<04:35, 15.30s/it]"
     ]
    },
    {
     "name": "stdout",
     "output_type": "stream",
     "text": [
      "Fold: 5, Epoch: 2, Training Loss: 0.6945368481877267, Validation Loss: 0.7018819329880622, Validation Accuracy: 0.5297805642633229, Validation F1 Score: 0.6926229508196722, Validation F2 Score: 0.8492462311557789, Validation F0.5 Score: 0.5847750865051903\n"
     ]
    },
    {
     "name": "stderr",
     "output_type": "stream",
     "text": [
      " 15%|█▌        | 3/20 [00:45<04:19, 15.26s/it]"
     ]
    },
    {
     "name": "stdout",
     "output_type": "stream",
     "text": [
      "Fold: 5, Epoch: 3, Training Loss: 0.6964192527901314, Validation Loss: 0.6915804771794047, Validation Accuracy: 0.5297805642633229, Validation F1 Score: 0.6926229508196722, Validation F2 Score: 0.8492462311557789, Validation F0.5 Score: 0.5847750865051903\n"
     ]
    },
    {
     "name": "stderr",
     "output_type": "stream",
     "text": [
      " 20%|██        | 4/20 [01:01<04:04, 15.27s/it]"
     ]
    },
    {
     "name": "stdout",
     "output_type": "stream",
     "text": [
      "Fold: 5, Epoch: 4, Training Loss: 0.6909095476918978, Validation Loss: 0.6919784562714795, Validation Accuracy: 0.5297805642633229, Validation F1 Score: 0.6926229508196722, Validation F2 Score: 0.8492462311557789, Validation F0.5 Score: 0.5847750865051903\n"
     ]
    },
    {
     "name": "stderr",
     "output_type": "stream",
     "text": [
      " 25%|██▌       | 5/20 [01:16<03:48, 15.24s/it]"
     ]
    },
    {
     "name": "stdout",
     "output_type": "stream",
     "text": [
      "Fold: 5, Epoch: 5, Training Loss: 0.692108122790896, Validation Loss: 0.691984183735982, Validation Accuracy: 0.5297805642633229, Validation F1 Score: 0.6926229508196722, Validation F2 Score: 0.8492462311557789, Validation F0.5 Score: 0.5847750865051903\n"
     ]
    },
    {
     "name": "stderr",
     "output_type": "stream",
     "text": [
      " 30%|███       | 6/20 [01:31<03:33, 15.26s/it]"
     ]
    },
    {
     "name": "stdout",
     "output_type": "stream",
     "text": [
      "Fold: 5, Epoch: 6, Training Loss: 0.6924713198897796, Validation Loss: 0.6921466306832891, Validation Accuracy: 0.5297805642633229, Validation F1 Score: 0.6926229508196722, Validation F2 Score: 0.8492462311557789, Validation F0.5 Score: 0.5847750865051903\n"
     ]
    },
    {
     "name": "stderr",
     "output_type": "stream",
     "text": [
      " 35%|███▌      | 7/20 [01:46<03:17, 15.23s/it]"
     ]
    },
    {
     "name": "stdout",
     "output_type": "stream",
     "text": [
      "Fold: 5, Epoch: 7, Training Loss: 0.6917209973910309, Validation Loss: 0.6921526744821602, Validation Accuracy: 0.5297805642633229, Validation F1 Score: 0.6926229508196722, Validation F2 Score: 0.8492462311557789, Validation F0.5 Score: 0.5847750865051903\n"
     ]
    },
    {
     "name": "stderr",
     "output_type": "stream",
     "text": [
      " 40%|████      | 8/20 [02:02<03:02, 15.25s/it]"
     ]
    },
    {
     "name": "stdout",
     "output_type": "stream",
     "text": [
      "Fold: 5, Epoch: 8, Training Loss: 0.6930418099475821, Validation Loss: 0.6918188610047008, Validation Accuracy: 0.5297805642633229, Validation F1 Score: 0.6926229508196722, Validation F2 Score: 0.8492462311557789, Validation F0.5 Score: 0.5847750865051903\n"
     ]
    },
    {
     "name": "stderr",
     "output_type": "stream",
     "text": [
      " 45%|████▌     | 9/20 [02:17<02:48, 15.29s/it]"
     ]
    },
    {
     "name": "stdout",
     "output_type": "stream",
     "text": [
      "Fold: 5, Epoch: 9, Training Loss: 0.6929976003377253, Validation Loss: 0.6915567337906099, Validation Accuracy: 0.5297805642633229, Validation F1 Score: 0.6926229508196722, Validation F2 Score: 0.8492462311557789, Validation F0.5 Score: 0.5847750865051903\n"
     ]
    },
    {
     "name": "stderr",
     "output_type": "stream",
     "text": [
      " 50%|█████     | 10/20 [02:32<02:32, 15.29s/it]"
     ]
    },
    {
     "name": "stdout",
     "output_type": "stream",
     "text": [
      "Fold: 5, Epoch: 10, Training Loss: 0.6901444833355204, Validation Loss: 0.6921098981531436, Validation Accuracy: 0.5297805642633229, Validation F1 Score: 0.6926229508196722, Validation F2 Score: 0.8492462311557789, Validation F0.5 Score: 0.5847750865051903\n"
     ]
    },
    {
     "name": "stderr",
     "output_type": "stream",
     "text": [
      " 55%|█████▌    | 11/20 [02:47<02:17, 15.26s/it]"
     ]
    },
    {
     "name": "stdout",
     "output_type": "stream",
     "text": [
      "Fold: 5, Epoch: 11, Training Loss: 0.6926379929134038, Validation Loss: 0.6918194000623816, Validation Accuracy: 0.5297805642633229, Validation F1 Score: 0.6926229508196722, Validation F2 Score: 0.8492462311557789, Validation F0.5 Score: 0.5847750865051903\n"
     ]
    },
    {
     "name": "stderr",
     "output_type": "stream",
     "text": [
      " 60%|██████    | 12/20 [03:03<02:02, 15.25s/it]"
     ]
    },
    {
     "name": "stdout",
     "output_type": "stream",
     "text": [
      "Fold: 5, Epoch: 12, Training Loss: 0.6916083671566837, Validation Loss: 0.6915982090941043, Validation Accuracy: 0.5297805642633229, Validation F1 Score: 0.6926229508196722, Validation F2 Score: 0.8492462311557789, Validation F0.5 Score: 0.5847750865051903\n"
     ]
    },
    {
     "name": "stderr",
     "output_type": "stream",
     "text": [
      " 65%|██████▌   | 13/20 [03:19<01:49, 15.64s/it]"
     ]
    },
    {
     "name": "stdout",
     "output_type": "stream",
     "text": [
      "Fold: 5, Epoch: 13, Training Loss: 0.6925147303679816, Validation Loss: 0.6913420331889185, Validation Accuracy: 0.5297805642633229, Validation F1 Score: 0.6926229508196722, Validation F2 Score: 0.8492462311557789, Validation F0.5 Score: 0.5847750865051903\n"
     ]
    },
    {
     "name": "stderr",
     "output_type": "stream",
     "text": [
      " 70%|███████   | 14/20 [03:34<01:32, 15.50s/it]"
     ]
    },
    {
     "name": "stdout",
     "output_type": "stream",
     "text": [
      "Fold: 5, Epoch: 14, Training Loss: 0.6913168712248537, Validation Loss: 0.691102229689356, Validation Accuracy: 0.5297805642633229, Validation F1 Score: 0.6926229508196722, Validation F2 Score: 0.8492462311557789, Validation F0.5 Score: 0.5847750865051903\n"
     ]
    },
    {
     "name": "stderr",
     "output_type": "stream",
     "text": [
      " 75%|███████▌  | 15/20 [03:51<01:19, 15.95s/it]"
     ]
    },
    {
     "name": "stdout",
     "output_type": "stream",
     "text": [
      "Fold: 5, Epoch: 15, Training Loss: 0.6921878135475034, Validation Loss: 0.6908603904762985, Validation Accuracy: 0.5297805642633229, Validation F1 Score: 0.6926229508196722, Validation F2 Score: 0.8492462311557789, Validation F0.5 Score: 0.5847750865051903\n"
     ]
    },
    {
     "name": "stderr",
     "output_type": "stream",
     "text": [
      " 80%|████████  | 16/20 [04:08<01:04, 16.08s/it]"
     ]
    },
    {
     "name": "stdout",
     "output_type": "stream",
     "text": [
      "Fold: 5, Epoch: 16, Training Loss: 0.6918730595285479, Validation Loss: 0.690584966194667, Validation Accuracy: 0.5297805642633229, Validation F1 Score: 0.6926229508196722, Validation F2 Score: 0.8492462311557789, Validation F0.5 Score: 0.5847750865051903\n"
     ]
    },
    {
     "name": "stderr",
     "output_type": "stream",
     "text": [
      " 85%|████████▌ | 17/20 [04:29<00:52, 17.56s/it]"
     ]
    },
    {
     "name": "stdout",
     "output_type": "stream",
     "text": [
      "Fold: 5, Epoch: 17, Training Loss: 0.6897087504178542, Validation Loss: 0.6903959664057788, Validation Accuracy: 0.5297805642633229, Validation F1 Score: 0.6926229508196722, Validation F2 Score: 0.8492462311557789, Validation F0.5 Score: 0.5847750865051903\n"
     ]
    },
    {
     "name": "stderr",
     "output_type": "stream",
     "text": [
      " 90%|█████████ | 18/20 [04:47<00:35, 17.67s/it]"
     ]
    },
    {
     "name": "stdout",
     "output_type": "stream",
     "text": [
      "Fold: 5, Epoch: 18, Training Loss: 0.6907781040005695, Validation Loss: 0.6901662187142805, Validation Accuracy: 0.5297805642633229, Validation F1 Score: 0.6926229508196722, Validation F2 Score: 0.8492462311557789, Validation F0.5 Score: 0.5847750865051903\n"
     ]
    },
    {
     "name": "stderr",
     "output_type": "stream",
     "text": [
      " 95%|█████████▌| 19/20 [05:03<00:17, 17.19s/it]"
     ]
    },
    {
     "name": "stdout",
     "output_type": "stream",
     "text": [
      "Fold: 5, Epoch: 19, Training Loss: 0.6895989090460954, Validation Loss: 0.6897865898183146, Validation Accuracy: 0.5297805642633229, Validation F1 Score: 0.6926229508196722, Validation F2 Score: 0.8492462311557789, Validation F0.5 Score: 0.5847750865051903\n"
     ]
    },
    {
     "name": "stderr",
     "output_type": "stream",
     "text": [
      "100%|██████████| 20/20 [05:19<00:00, 15.98s/it]"
     ]
    },
    {
     "name": "stdout",
     "output_type": "stream",
     "text": [
      "Fold: 5, Epoch: 20, Training Loss: 0.6893918666413918, Validation Loss: 0.6893667713228064, Validation Accuracy: 0.5297805642633229, Validation F1 Score: 0.6926229508196722, Validation F2 Score: 0.8492462311557789, Validation F0.5 Score: 0.5847750865051903\n"
     ]
    },
    {
     "name": "stderr",
     "output_type": "stream",
     "text": [
      "\n"
     ]
    }
   ],
   "source": [
    "input_dim = train_data[0][0].x.shape[1]\n",
    "\n",
    "# Define hyperparameter grids\n",
    "learning_rates = [1e-4]\n",
    "dropout_rates = [0.1]\n",
    "sort_k_values = [50]\n",
    "hidden_units_values = [16]\n",
    "\n",
    "# Create combinations of hyperparameters\n",
    "hyperparameter_combinations = list(itertools.product(learning_rates, dropout_rates, sort_k_values, hidden_units_values))\n",
    "\n",
    "for lr, dropout_rate, sort_k, hidden_units in hyperparameter_combinations:\n",
    "    model = SiameseGNN(sort_k, input_dim, dropout = dropout_rate, nhidden=hidden_units)\n",
    "    fold_scores = run_model_cv(model, \"gcn\", train_data)"
   ]
  },
  {
   "cell_type": "code",
   "execution_count": null,
   "metadata": {},
   "outputs": [],
   "source": [
    "input_dim = balanced_data[0][0].x.shape[1]\n",
    "\n",
    "# Define hyperparameter grids\n",
    "learning_rates = [1e-4]\n",
    "dropout_rates = [0.1]\n",
    "sort_k_values = [50]\n",
    "hidden_units_values = [16]\n",
    "\n",
    "# Create combinations of hyperparameters\n",
    "hyperparameter_combinations = list(itertools.product(learning_rates, dropout_rates, sort_k_values, hidden_units_values))\n",
    "\n",
    "for lr, dropout_rate, sort_k, hidden_units in hyperparameter_combinations:\n",
    "    model = SiameseGNN_GraphSAGE(sort_k, input_dim, dropout = dropout_rate, nhidden=hidden_units)\n",
    "    fold_scores = run_model_cv(model, \"sage\", train_data)"
   ]
  },
  {
   "cell_type": "code",
   "execution_count": null,
   "metadata": {},
   "outputs": [],
   "source": [
    "input_dim = balanced_data[0][0].x.shape[1]\n",
    "\n",
    "# Define hyperparameter grids\n",
    "learning_rates = [1e-4]\n",
    "dropout_rates = [0.1]\n",
    "sort_k_values = [50]\n",
    "hidden_units_values = [16]\n",
    "\n",
    "# Create combinations of hyperparameters\n",
    "hyperparameter_combinations = list(itertools.product(learning_rates, dropout_rates, sort_k_values, hidden_units_values))\n",
    "\n",
    "for lr, dropout_rate, sort_k, hidden_units in hyperparameter_combinations:\n",
    "    model = SiameseGNN_GIN(sort_k, input_dim, dropout = dropout_rate, nhidden=hidden_units)\n",
    "    fold_scores = run_model_cv(model, \"gin\", train_data)"
   ]
  },
  {
   "cell_type": "code",
   "execution_count": null,
   "metadata": {},
   "outputs": [],
   "source": [
    "input_dim = train_data[0][0].x.shape[1]\n",
    "\n",
    "# Define hyperparameter grids\n",
    "learning_rates = [1e-4]\n",
    "dropout_rates = [0.1]\n",
    "sort_k_values = [50]\n",
    "hidden_units_values = [16]\n",
    "\n",
    "# Create combinations of hyperparameters\n",
    "hyperparameter_combinations = list(itertools.product(learning_rates, dropout_rates, sort_k_values, hidden_units_values))\n",
    "\n",
    "for lr, dropout_rate, sort_k, hidden_units in hyperparameter_combinations:\n",
    "    model = SiameseGNN_GAT(sort_k, input_dim, dropout = dropout_rate, nhidden=hidden_units)\n",
    "    fold_scores = run_model_cv(model, \"gat\", train_data)\n",
    "\n",
    "fold_scores"
   ]
  },
  {
   "cell_type": "markdown",
   "metadata": {},
   "source": [
    "## sGNN with Feature Subset"
   ]
  },
  {
   "cell_type": "code",
   "execution_count": null,
   "metadata": {},
   "outputs": [],
   "source": [
    "with open(\"feature_dicts/mis_features_not_norm.pkl\", \"rb\") as f:\n",
    "    feat_dict = pkl.load(f)"
   ]
  },
  {
   "cell_type": "code",
   "execution_count": null,
   "metadata": {},
   "outputs": [],
   "source": [
    "def add_features(years, graphs, feat_dict, dim):\n",
    "\n",
    "    zeros = torch.zeros(dim)\n",
    "\n",
    "    for i in range(len(years)):\n",
    "        new_x = torch.empty(0, dim)\n",
    "        year = years[i]\n",
    "\n",
    "        feat_dict_year = feat_dict[year].combined_features\n",
    "\n",
    "        for j, country in enumerate(all_nodes):\n",
    "            if j == 0:\n",
    "                new_x = torch.stack([zeros])\n",
    "\n",
    "            elif country in feat_dict_year[\"country_code\"].values:\n",
    "                tensor_before = graphs[i].x[j]\n",
    "                country_row = feat_dict_year[feat_dict_year[\"country_code\"] == country]\n",
    "                country_row = country_row.drop(columns = [\"country_code\", \"current_gdp_growth\"])\n",
    "                row_values = country_row.values.tolist()\n",
    "                row_tensor = torch.tensor(row_values)[0]\n",
    "                combined_values = torch.cat((tensor_before, row_tensor))\n",
    "\n",
    "                new_x = torch.cat((new_x, combined_values.unsqueeze(0)), dim=0)\n",
    "\n",
    "            else:\n",
    "                new_x = torch.cat((new_x, zeros.unsqueeze(0)), dim=0)\n",
    "\n",
    "        graphs[i].x = new_x\n",
    "\n",
    "    return graphs"
   ]
  },
  {
   "cell_type": "code",
   "execution_count": null,
   "metadata": {},
   "outputs": [],
   "source": [
    "with open(\"src/pygcn/all_graphs.pkl\", \"rb\") as f:         \n",
    "    all_graphs = pkl.load(f)"
   ]
  },
  {
   "cell_type": "code",
   "execution_count": null,
   "metadata": {},
   "outputs": [],
   "source": [
    "feat_dict[1962].combined_features"
   ]
  },
  {
   "cell_type": "code",
   "execution_count": null,
   "metadata": {},
   "outputs": [],
   "source": [
    "all_graphs = add_features(years, all_graphs, feat_dict, 27)"
   ]
  },
  {
   "cell_type": "code",
   "execution_count": null,
   "metadata": {},
   "outputs": [],
   "source": [
    "labels = dist_labels_to_changepoint_labels(phases)\n",
    "graph_pairs = sample_pairs(all_graphs,labels)"
   ]
  },
  {
   "cell_type": "code",
   "execution_count": null,
   "metadata": {},
   "outputs": [],
   "source": [
    "graph_pairs_train = [graph_pairs[i] for i in train_indices]\n",
    "graph_pairs_test = [graph_pairs[i] for i in test_indices]\n",
    "graph_pairs_val = [graph_pairs[i] for i in val_indices]"
   ]
  },
  {
   "cell_type": "code",
   "execution_count": null,
   "metadata": {},
   "outputs": [],
   "source": [
    "import random\n",
    "positive_samples = [item for item in graph_pairs_train if item[2] == 1]\n",
    "negative_samples = [item for item in graph_pairs_train if item[2] == 0]\n",
    "\n",
    "# Calculate the difference in count\n",
    "diff = len(negative_samples) - len(positive_samples)\n",
    "\n",
    "# Upsample positive samples\n",
    "if diff > 0:\n",
    "    positive_samples_upsampled = random.sample(positive_samples, k=abs(diff))\n",
    "    balanced_data = negative_samples + positive_samples+ positive_samples_upsampled\n",
    "# Downsample negative samples\n",
    "elif diff < 0:\n",
    "    negative_samples_downsampled = random.sample(negative_samples, k=len(negative_samples))\n",
    "    balanced_data = negative_samples_downsampled + negative_samples+ positive_samples\n",
    "else:\n",
    "    balanced_data = graph_pairs_train\n",
    "\n",
    "random.shuffle(balanced_data)"
   ]
  },
  {
   "cell_type": "code",
   "execution_count": null,
   "metadata": {},
   "outputs": [],
   "source": [
    "train_data = balanced_data + graph_pairs_val"
   ]
  },
  {
   "cell_type": "code",
   "execution_count": null,
   "metadata": {},
   "outputs": [],
   "source": [
    "input_dim = train_data[0][0].x.shape[1]\n",
    "\n",
    "# Define hyperparameter grids\n",
    "learning_rates = [1e-4]\n",
    "dropout_rates = [0.1]\n",
    "sort_k_values = [50]\n",
    "hidden_units_values = [16]\n",
    "\n",
    "# Create combinations of hyperparameters\n",
    "hyperparameter_combinations = list(itertools.product(learning_rates, dropout_rates, sort_k_values, hidden_units_values))\n",
    "\n",
    "for lr, dropout_rate, sort_k, hidden_units in hyperparameter_combinations:\n",
    "    model = SiameseGNN(sort_k, input_dim, dropout = dropout_rate, nhidden=hidden_units)\n",
    "    fold_scores = run_model_cv(model, \"gcn\", train_data)"
   ]
  },
  {
   "cell_type": "code",
   "execution_count": null,
   "metadata": {},
   "outputs": [],
   "source": [
    "input_dim = train_data[0][0].x.shape[1]\n",
    "\n",
    "# Define hyperparameter grids\n",
    "learning_rates = [1e-4]\n",
    "dropout_rates = [0.1]\n",
    "sort_k_values = [50]\n",
    "hidden_units_values = [16]\n",
    "\n",
    "# Create combinations of hyperparameters\n",
    "hyperparameter_combinations = list(itertools.product(learning_rates, dropout_rates, sort_k_values, hidden_units_values))\n",
    "\n",
    "for lr, dropout_rate, sort_k, hidden_units in hyperparameter_combinations:\n",
    "    model = SiameseGNN_GraphSAGE(sort_k, input_dim, dropout = dropout_rate, nhidden=hidden_units)\n",
    "    fold_scores = run_model_cv(model, \"sage\", train_data)"
   ]
  },
  {
   "cell_type": "code",
   "execution_count": null,
   "metadata": {},
   "outputs": [],
   "source": [
    "input_dim = train_data[0][0].x.shape[1]\n",
    "\n",
    "# Define hyperparameter grids\n",
    "learning_rates = [1e-4]\n",
    "dropout_rates = [0.1]\n",
    "sort_k_values = [50]\n",
    "hidden_units_values = [16]\n",
    "\n",
    "# Create combinations of hyperparameters\n",
    "hyperparameter_combinations = list(itertools.product(learning_rates, dropout_rates, sort_k_values, hidden_units_values))\n",
    "\n",
    "for lr, dropout_rate, sort_k, hidden_units in hyperparameter_combinations:\n",
    "    model = SiameseGNN_GIN(sort_k, input_dim, dropout = dropout_rate, nhidden=hidden_units)\n",
    "    fold_scores = run_model_cv(model, \"gin\", train_data)"
   ]
  },
  {
   "cell_type": "code",
   "execution_count": null,
   "metadata": {},
   "outputs": [],
   "source": [
    "input_dim = train_data[0][0].x.shape[1]\n",
    "\n",
    "# Define hyperparameter grids\n",
    "learning_rates = [1e-4]\n",
    "dropout_rates = [0.1]\n",
    "sort_k_values = [50]\n",
    "hidden_units_values = [16]\n",
    "\n",
    "# Create combinations of hyperparameters\n",
    "hyperparameter_combinations = list(itertools.product(learning_rates, dropout_rates, sort_k_values, hidden_units_values))\n",
    "\n",
    "for lr, dropout_rate, sort_k, hidden_units in hyperparameter_combinations:\n",
    "    model = SiameseGNN_GAT(sort_k, input_dim, dropout = dropout_rate, nhidden=hidden_units)\n",
    "    fold_scores = run_model_cv(model, \"gat\", train_data)"
   ]
  },
  {
   "cell_type": "markdown",
   "metadata": {},
   "source": [
    "## Random Feature Subset"
   ]
  },
  {
   "cell_type": "code",
   "execution_count": null,
   "metadata": {},
   "outputs": [],
   "source": [
    "years = range(1962,2019)"
   ]
  },
  {
   "cell_type": "code",
   "execution_count": null,
   "metadata": {},
   "outputs": [],
   "source": [
    "with open(\"feature_dicts/random_dict_not_norm.pkl\", \"rb\") as f:\n",
    "    feat_dict_random = pkl.load(f)"
   ]
  },
  {
   "cell_type": "code",
   "execution_count": null,
   "metadata": {},
   "outputs": [],
   "source": [
    "with open(\"src/pygcn/all_graphs.pkl\", \"rb\") as f:         \n",
    "    all_graphs = pkl.load(f)"
   ]
  },
  {
   "cell_type": "code",
   "execution_count": null,
   "metadata": {},
   "outputs": [],
   "source": [
    "all_graphs = add_features(years, all_graphs, feat_dict_random, 27)"
   ]
  },
  {
   "cell_type": "code",
   "execution_count": null,
   "metadata": {},
   "outputs": [],
   "source": [
    "labels = dist_labels_to_changepoint_labels(phases)\n",
    "graph_pairs = sample_pairs(all_graphs,labels)"
   ]
  },
  {
   "cell_type": "code",
   "execution_count": null,
   "metadata": {},
   "outputs": [],
   "source": [
    "graph_pairs_train = [graph_pairs[i] for i in train_indices]\n",
    "graph_pairs_test = [graph_pairs[i] for i in test_indices]\n",
    "graph_pairs_val = [graph_pairs[i] for i in val_indices]"
   ]
  },
  {
   "cell_type": "code",
   "execution_count": null,
   "metadata": {},
   "outputs": [],
   "source": [
    "import random\n",
    "positive_samples = [item for item in graph_pairs_train if item[2] == 1]\n",
    "negative_samples = [item for item in graph_pairs_train if item[2] == 0]\n",
    "\n",
    "# Calculate the difference in count\n",
    "diff = len(negative_samples) - len(positive_samples)\n",
    "\n",
    "# Upsample positive samples\n",
    "if diff > 0:\n",
    "    positive_samples_upsampled = random.sample(positive_samples, k=abs(diff))\n",
    "    balanced_data = negative_samples + positive_samples+ positive_samples_upsampled\n",
    "# Downsample negative samples\n",
    "elif diff < 0:\n",
    "    negative_samples_downsampled = random.sample(negative_samples, k=len(negative_samples))\n",
    "    balanced_data = negative_samples_downsampled + negative_samples+ positive_samples\n",
    "else:\n",
    "    balanced_data = graph_pairs_train\n",
    "\n",
    "random.shuffle(balanced_data)"
   ]
  },
  {
   "cell_type": "code",
   "execution_count": null,
   "metadata": {},
   "outputs": [],
   "source": [
    "train_data = balanced_data + graph_pairs_val"
   ]
  },
  {
   "cell_type": "code",
   "execution_count": null,
   "metadata": {},
   "outputs": [],
   "source": [
    "input_dim = train_data[0][0].x.shape[1]\n",
    "\n",
    "# Define hyperparameter grids\n",
    "learning_rates = [1e-4]\n",
    "dropout_rates = [0.1]\n",
    "sort_k_values = [50]\n",
    "hidden_units_values = [16]\n",
    "\n",
    "# Create combinations of hyperparameters\n",
    "hyperparameter_combinations = list(itertools.product(learning_rates, dropout_rates, sort_k_values, hidden_units_values))\n",
    "\n",
    "for lr, dropout_rate, sort_k, hidden_units in hyperparameter_combinations:\n",
    "    model = SiameseGNN(sort_k, input_dim, dropout = dropout_rate, nhidden=hidden_units)\n",
    "    fold_scores = run_model_cv(model, \"gcn\", train_data)"
   ]
  },
  {
   "cell_type": "code",
   "execution_count": null,
   "metadata": {},
   "outputs": [],
   "source": [
    "input_dim = train_data[0][0].x.shape[1]\n",
    "\n",
    "# Define hyperparameter grids\n",
    "learning_rates = [1e-4]\n",
    "dropout_rates = [0.1]\n",
    "sort_k_values = [50]\n",
    "hidden_units_values = [16]\n",
    "\n",
    "# Create combinations of hyperparameters\n",
    "hyperparameter_combinations = list(itertools.product(learning_rates, dropout_rates, sort_k_values, hidden_units_values))\n",
    "\n",
    "for lr, dropout_rate, sort_k, hidden_units in hyperparameter_combinations:\n",
    "    model = SiameseGNN_GraphSAGE(sort_k, input_dim, dropout = dropout_rate, nhidden=hidden_units)\n",
    "    fold_scores = run_model_cv(model, \"sage\", train_data)"
   ]
  },
  {
   "cell_type": "code",
   "execution_count": null,
   "metadata": {},
   "outputs": [],
   "source": [
    "input_dim = train_data[0][0].x.shape[1]\n",
    "\n",
    "# Define hyperparameter grids\n",
    "learning_rates = [1e-4]\n",
    "dropout_rates = [0.1]\n",
    "sort_k_values = [50]\n",
    "hidden_units_values = [16]\n",
    "\n",
    "# Create combinations of hyperparameters\n",
    "hyperparameter_combinations = list(itertools.product(learning_rates, dropout_rates, sort_k_values, hidden_units_values))\n",
    "\n",
    "for lr, dropout_rate, sort_k, hidden_units in hyperparameter_combinations:\n",
    "    model = SiameseGNN_GAT(sort_k, input_dim, dropout = dropout_rate, nhidden=hidden_units)\n",
    "    fold_scores = run_model_cv(model, \"gin\", train_data)"
   ]
  },
  {
   "cell_type": "code",
   "execution_count": null,
   "metadata": {},
   "outputs": [],
   "source": [
    "input_dim = train_data[0][0].x.shape[1]\n",
    "\n",
    "# Define hyperparameter grids\n",
    "learning_rates = [1e-4]\n",
    "dropout_rates = [0.1]\n",
    "sort_k_values = [50]\n",
    "hidden_units_values = [16]\n",
    "\n",
    "# Create combinations of hyperparameters\n",
    "hyperparameter_combinations = list(itertools.product(learning_rates, dropout_rates, sort_k_values, hidden_units_values))\n",
    "\n",
    "for lr, dropout_rate, sort_k, hidden_units in hyperparameter_combinations:\n",
    "    model = SiameseGNN_GIN(sort_k, input_dim, dropout = dropout_rate, nhidden=hidden_units)\n",
    "    fold_scores = run_model_cv(model, \"gat\", train_data)"
   ]
  },
  {
   "cell_type": "markdown",
   "metadata": {},
   "source": [
    "## Log Transformed Features"
   ]
  },
  {
   "cell_type": "code",
   "execution_count": null,
   "metadata": {},
   "outputs": [],
   "source": []
  }
 ],
 "metadata": {
  "kernelspec": {
   "display_name": "base",
   "language": "python",
   "name": "python3"
  },
  "language_info": {
   "codemirror_mode": {
    "name": "ipython",
    "version": 3
   },
   "file_extension": ".py",
   "mimetype": "text/x-python",
   "name": "python",
   "nbconvert_exporter": "python",
   "pygments_lexer": "ipython3",
   "version": "3.11.5"
  }
 },
 "nbformat": 4,
 "nbformat_minor": 2
}
