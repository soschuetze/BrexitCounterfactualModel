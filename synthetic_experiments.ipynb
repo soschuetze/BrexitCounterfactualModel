{
 "cells": [
  {
   "cell_type": "markdown",
   "metadata": {},
   "source": [
    "# Synthetic Experiments using Stochastic Block Models"
   ]
  },
  {
   "cell_type": "code",
   "execution_count": 6,
   "metadata": {},
   "outputs": [],
   "source": [
    "import pickle as pkl\n",
    "from torch_geometric.loader import DataLoader\n",
    "import networkx as nx\n",
    "\n",
    "import torch.nn as nn\n",
    "import torch.optim as optim\n",
    "from tqdm import tqdm\n",
    "from torch.optim.lr_scheduler import StepLR\n",
    "from src.utils.CreateFeatures import CreateFeatures\n",
    "from src.pygcn.SiameseGNN import SiameseGNN\n",
    "from torch_geometric.utils import to_networkx\n",
    "\n",
    "import torch\n",
    "import torch.optim as optim\n",
    "from torch.optim.lr_scheduler import StepLR\n",
    "import torch.nn as nn\n",
    "from tqdm import tqdm\n",
    "from sklearn.metrics import f1_score\n",
    "\n",
    "from torch_geometric.utils import to_networkx\n",
    "import networkx as nx\n",
    "import numpy as np\n",
    "import itertools\n",
    "\n",
    "\n",
    "from sklearn.model_selection import train_test_split\n",
    "import os\n",
    "import pickle\n",
    "import json\n",
    "\n",
    "from src.utils.sample import sample_pairs\n",
    "from src.utils.misc import collate"
   ]
  },
  {
   "cell_type": "code",
   "execution_count": 29,
   "metadata": {},
   "outputs": [],
   "source": [
    "def run_model(model, training_data_pairs, validation_data_pairs):\n",
    "    torch.manual_seed(42)\n",
    "    optimizer = optim.Adam(model.parameters(), lr=1e-4, weight_decay=0.0001)\n",
    "    scheduler = StepLR(optimizer, step_size=10, gamma=0.1)\n",
    "    criterion = nn.BCELoss()  # Changed to BCEWithLogitsLoss for numerical stability\n",
    "\n",
    "    for epoch in tqdm(range(15)):\n",
    "        model.train()\n",
    "        train_losses = []\n",
    "        for (graph1, graph2, labels) in training_data_pairs:\n",
    "            optimizer.zero_grad()\n",
    "            out = model(graph1, graph2)\n",
    "    \n",
    "            loss = criterion(out, labels)\n",
    "            loss.backward()\n",
    "            optimizer.step()\n",
    "            train_losses.append(loss.item())\n",
    "\n",
    "        scheduler.step()\n",
    "\n",
    "        model.eval()\n",
    "        with torch.no_grad():\n",
    "            val_losses = []\n",
    "\n",
    "            val_pred = []\n",
    "            val_truth = []\n",
    "\n",
    "            correct = 0\n",
    "            total = 0\n",
    "            for (graph1, graph2, labels) in validation_data_pairs:\n",
    "                out = model(graph1, graph2)\n",
    "\n",
    "                val_loss = criterion(out, labels)\n",
    "                val_losses.append(val_loss.item())\n",
    "\n",
    "                predictions = torch.round(out)\n",
    "\n",
    "                val_pred.extend(predictions.cpu().numpy())\n",
    "                val_truth.extend(labels.cpu().numpy())\n",
    "\n",
    "                correct += (predictions == labels).sum().item()\n",
    "                total += labels.size(0)\n",
    "\n",
    "            val_loss = sum(val_losses) / len(val_losses)\n",
    "            val_accuracy = correct / total\n",
    "\n",
    "        val_f1 = f1_score(val_truth, val_pred)\n",
    "        print(f'Epoch: {epoch+1}, Training Loss: {sum(train_losses)/len(train_losses)}, Validation Loss: {val_loss}, Validation Accuracy: {val_accuracy}, Validation F1 Score: {val_f1}')\n",
    "    return val_accuracy, val_f1\n"
   ]
  },
  {
   "cell_type": "markdown",
   "metadata": {},
   "source": [
    "## Clique Data"
   ]
  },
  {
   "cell_type": "code",
   "execution_count": 8,
   "metadata": {},
   "outputs": [],
   "source": [
    "# Assuming root_dir is the path to your root directory\n",
    "root_dir = 'results/synthetic/'\n",
    "\n",
    "clique_data = {}\n",
    "cp_times = {}\n",
    "label_data = {}\n",
    "\n",
    "# Walk through all directories and files in root_dir\n",
    "for dirpath, dirnames, filenames in os.walk(root_dir):\n",
    "    # If there's a data.p file in this directory, read it\n",
    "    args_file = os.path.join(dirpath, 'args.json')\n",
    "    if os.path.isfile(args_file):\n",
    "        with open(args_file, 'rb') as f:\n",
    "            arg_data = json.load(f)\n",
    "            clique_size = arg_data['size_clique']\n",
    "\n",
    "    data_file = os.path.join(dirpath, 'data.p')\n",
    "    if os.path.isfile(data_file):\n",
    "        with open(data_file, 'rb') as f:\n",
    "            data = pickle.load(f)\n",
    "            clique_data[clique_size] = data\n",
    "\n",
    "    # If there's a time.json file in this directory, read it\n",
    "    time_file = os.path.join(dirpath, 'time.json')\n",
    "    if os.path.isfile(time_file):\n",
    "        with open(time_file, 'r') as f:\n",
    "            time_data = json.load(f)\n",
    "            cp_times[clique_size] = time_data\n",
    "\n",
    "    label_file = os.path.join(dirpath, 'labels.p')\n",
    "    if os.path.isfile(label_file):\n",
    "        with open(label_file, 'rb') as f:\n",
    "            data = pickle.load(f)\n",
    "            label_data[clique_size] = data"
   ]
  },
  {
   "cell_type": "code",
   "execution_count": 9,
   "metadata": {},
   "outputs": [],
   "source": [
    "sizes = [20, 30, 40, 50, 60, 70, 80]"
   ]
  },
  {
   "cell_type": "code",
   "execution_count": 32,
   "metadata": {},
   "outputs": [
    {
     "name": "stdout",
     "output_type": "stream",
     "text": [
      "2000 positive and 2000 negative examples\n",
      "1000 positive and 1000 negative examples\n"
     ]
    },
    {
     "name": "stderr",
     "output_type": "stream",
     "text": [
      "  7%|▋         | 1/15 [01:28<20:32, 88.04s/it]"
     ]
    },
    {
     "name": "stdout",
     "output_type": "stream",
     "text": [
      "Epoch: 1, Training Loss: 0.647731952217789, Validation Loss: 0.6886533017415739, Validation Accuracy: 0.5974235104669887, Validation F1 Score: 0.0\n"
     ]
    },
    {
     "name": "stderr",
     "output_type": "stream",
     "text": [
      " 13%|█▎        | 2/15 [02:58<19:21, 89.36s/it]"
     ]
    },
    {
     "name": "stdout",
     "output_type": "stream",
     "text": [
      "Epoch: 2, Training Loss: 0.6454680341196767, Validation Loss: 0.6876043608103205, Validation Accuracy: 0.5974235104669887, Validation F1 Score: 0.0\n"
     ]
    },
    {
     "name": "stderr",
     "output_type": "stream",
     "text": [
      " 20%|██        | 3/15 [04:31<18:14, 91.18s/it]"
     ]
    },
    {
     "name": "stdout",
     "output_type": "stream",
     "text": [
      "Epoch: 3, Training Loss: 0.6448804191472487, Validation Loss: 0.6870263611084981, Validation Accuracy: 0.5974235104669887, Validation F1 Score: 0.0\n"
     ]
    },
    {
     "name": "stderr",
     "output_type": "stream",
     "text": [
      " 27%|██▋       | 4/15 [06:04<16:50, 91.83s/it]"
     ]
    },
    {
     "name": "stdout",
     "output_type": "stream",
     "text": [
      "Epoch: 4, Training Loss: 0.6440190984859493, Validation Loss: 0.6861053992320758, Validation Accuracy: 0.5974235104669887, Validation F1 Score: 0.0\n"
     ]
    },
    {
     "name": "stderr",
     "output_type": "stream",
     "text": [
      " 33%|███▎      | 5/15 [07:24<14:37, 87.71s/it]"
     ]
    },
    {
     "name": "stdout",
     "output_type": "stream",
     "text": [
      "Epoch: 5, Training Loss: 0.6419429828689052, Validation Loss: 0.6849633040695471, Validation Accuracy: 0.5974235104669887, Validation F1 Score: 0.0\n"
     ]
    },
    {
     "name": "stderr",
     "output_type": "stream",
     "text": [
      " 40%|████      | 6/15 [08:47<12:52, 85.83s/it]"
     ]
    },
    {
     "name": "stdout",
     "output_type": "stream",
     "text": [
      "Epoch: 6, Training Loss: 0.6399803441473422, Validation Loss: 0.6853680559486487, Validation Accuracy: 0.5974235104669887, Validation F1 Score: 0.0\n"
     ]
    },
    {
     "name": "stderr",
     "output_type": "stream",
     "text": [
      " 47%|████▋     | 7/15 [10:06<11:10, 83.81s/it]"
     ]
    },
    {
     "name": "stdout",
     "output_type": "stream",
     "text": [
      "Epoch: 7, Training Loss: 0.6356920116458151, Validation Loss: 0.68742011985989, Validation Accuracy: 0.5974235104669887, Validation F1 Score: 0.0\n"
     ]
    },
    {
     "name": "stderr",
     "output_type": "stream",
     "text": [
      " 53%|█████▎    | 8/15 [11:27<09:40, 82.96s/it]"
     ]
    },
    {
     "name": "stdout",
     "output_type": "stream",
     "text": [
      "Epoch: 8, Training Loss: 0.6271155064978806, Validation Loss: 0.7063259374104356, Validation Accuracy: 0.5974235104669887, Validation F1 Score: 0.0\n"
     ]
    },
    {
     "name": "stderr",
     "output_type": "stream",
     "text": [
      " 60%|██████    | 9/15 [12:47<08:11, 81.92s/it]"
     ]
    },
    {
     "name": "stdout",
     "output_type": "stream",
     "text": [
      "Epoch: 9, Training Loss: 0.6169355451762984, Validation Loss: 0.7105375071882529, Validation Accuracy: 0.5595813204508857, Validation F1 Score: 0.30051150895140666\n"
     ]
    },
    {
     "name": "stderr",
     "output_type": "stream",
     "text": [
      " 67%|██████▋   | 10/15 [14:08<06:48, 81.70s/it]"
     ]
    },
    {
     "name": "stdout",
     "output_type": "stream",
     "text": [
      "Epoch: 10, Training Loss: 0.6046531528999302, Validation Loss: 0.7223830493212035, Validation Accuracy: 0.5567632850241546, Validation F1 Score: 0.3617391304347826\n"
     ]
    },
    {
     "name": "stderr",
     "output_type": "stream",
     "text": [
      " 73%|███████▎  | 11/15 [15:27<05:23, 80.95s/it]"
     ]
    },
    {
     "name": "stdout",
     "output_type": "stream",
     "text": [
      "Epoch: 11, Training Loss: 0.5674816127218463, Validation Loss: 0.7427864130556392, Validation Accuracy: 0.5527375201288245, Validation F1 Score: 0.3476218438050499\n"
     ]
    },
    {
     "name": "stderr",
     "output_type": "stream",
     "text": [
      " 80%|████████  | 12/15 [17:01<04:14, 84.77s/it]"
     ]
    },
    {
     "name": "stdout",
     "output_type": "stream",
     "text": [
      "Epoch: 12, Training Loss: 0.5520068805304184, Validation Loss: 0.7580232564209932, Validation Accuracy: 0.5527375201288245, Validation F1 Score: 0.34531526222746023\n"
     ]
    },
    {
     "name": "stderr",
     "output_type": "stream",
     "text": [
      " 87%|████████▋ | 13/15 [18:21<02:46, 83.22s/it]"
     ]
    },
    {
     "name": "stdout",
     "output_type": "stream",
     "text": [
      "Epoch: 13, Training Loss: 0.5392585766061889, Validation Loss: 0.7678513076162377, Validation Accuracy: 0.5511272141706924, Validation F1 Score: 0.37604924454392835\n"
     ]
    },
    {
     "name": "stderr",
     "output_type": "stream",
     "text": [
      " 93%|█████████▎| 14/15 [19:39<01:21, 81.84s/it]"
     ]
    },
    {
     "name": "stdout",
     "output_type": "stream",
     "text": [
      "Epoch: 14, Training Loss: 0.5327558289524238, Validation Loss: 0.772593283764838, Validation Accuracy: 0.5547504025764896, Validation F1 Score: 0.38555555555555554\n"
     ]
    },
    {
     "name": "stderr",
     "output_type": "stream",
     "text": [
      "100%|██████████| 15/15 [20:56<00:00, 83.74s/it]"
     ]
    },
    {
     "name": "stdout",
     "output_type": "stream",
     "text": [
      "Epoch: 15, Training Loss: 0.5245130821251475, Validation Loss: 0.7823904906002124, Validation Accuracy: 0.5583735909822867, Validation F1 Score: 0.35960303561004087\n"
     ]
    },
    {
     "name": "stderr",
     "output_type": "stream",
     "text": [
      "\n"
     ]
    }
   ],
   "source": [
    "for s in [20]:\n",
    "    for j, i in enumerate(clique_data[s]):\n",
    "        edge_index = i.edge_index.to(torch.int64)\n",
    "        networkx_graph = to_networkx(i)\n",
    "        adjacency = nx.adjacency_matrix(networkx_graph)\n",
    "        \n",
    "        attributes = np.eye(adjacency.shape[0])\n",
    "        clique_data[s][j].x = attributes\n",
    "    \n",
    "    train = clique_data[s][:1000]\n",
    "    train_labels = label_data[s][:1000]\n",
    "\n",
    "    val = clique_data[s][1000:2000]\n",
    "    val_labels = label_data[s][1000:2000]\n",
    "\n",
    "    test = clique_data[s][2000:]\n",
    "    test_labels = label_data[s][2000:]\n",
    "\n",
    "    graph_pairs_train = sample_pairs(train,train_labels,nsamples=4000)\n",
    "    graph_pairs_val = sample_pairs(train,val_labels,nsamples=2000)\n",
    "\n",
    "    input_dim = graph_pairs_train[0][0].x.shape[1]\n",
    "\n",
    "    # Define hyperparameter grids\n",
    "    learning_rates = [0.01]\n",
    "    dropout_rates = [0.05]\n",
    "    sort_k_values = [30]\n",
    "    hidden_units_values = [64]\n",
    "\n",
    "    # Create combinations of hyperparameters\n",
    "    hyperparameter_combinations = list(itertools.product(learning_rates, dropout_rates, sort_k_values, hidden_units_values))\n",
    "\n",
    "    for lr, dropout_rate, sort_k, hidden_units in hyperparameter_combinations:\n",
    "        model = SiameseGNN(sort_k, input_dim, dropout = dropout_rate, nhidden=hidden_units)\n",
    "        val_accuracy, val_f1 = run_model(model, graph_pairs_train, graph_pairs_val)\n",
    "\n",
    "    model_name = f\"models/sgnn-topk{sort_k}-64hidden-{s}clique.pt\"\n",
    "    torch.save(model.state_dict(), model_name)\n",
    "\n",
    "    time_test = [t-2000 for t in cp_times[s] if t>=2000]\n",
    "\n",
    "    with open(f'results/test_synthetic/{s}-data.p', 'wb') as f:\n",
    "        pickle.dump(test, f)\n",
    "\n",
    "    with open(f'results/test_synthetic/{s}-labels.p', 'wb') as f:\n",
    "        pickle.dump(test_labels, f)\n",
    "\n",
    "    with open(f'results/test_synthetic/{s}-time.json', 'w') as f:\n",
    "        json.dump(time_test, f)"
   ]
  },
  {
   "cell_type": "code",
   "execution_count": 38,
   "metadata": {},
   "outputs": [
    {
     "data": {
      "image/png": "[encoded data removed]",
      "text/plain": [
       "<Figure size 640x480 with 1 Axes>"
      ]
     },
     "metadata": {},
     "output_type": "display_data"
    }
   ],
   "source": [
    "import matplotlib.pyplot as plt\n",
    "\n",
    "# Assuming these are your four lists\n",
    "x = [20, 30, 40, 50, 60, 70, 80]\n",
    "ncpd = [0.01, 0.00, 0.01, 0.18, 0.01, 0.01, 0.03]\n",
    "frob = [0.01, 0.01, 0.01, 0.05, 0.01, 0.01, 0.01]\n",
    "cusum = [0.02, 0.03, 0.03, 0.02, 0.07, 0.67, 0.40]\n",
    "cusum_2 = [0.04, 0.01, 0.01, 0.01, 0.14, 0.04, 1.0]\n",
    "\n",
    "sgnn_30 = [0.07, 0.44, 0.38, 0.48, 0.32, 0.42, 0.63]\n",
    "sgnn_50 = [0.37, 0.69, 0.52, 0.48, 0.44, 0.69, 0.74]\n",
    "sgnn_100 = [0.44, 0.51, 0.24, 0.61, 0.5, 0.53, 0.95]\n",
    "\n",
    "# Create a line chart\n",
    "plt.plot(x, ncpd, label='NCPD')\n",
    "plt.plot(x, frob, label='Frobenius')\n",
    "plt.plot(x, cusum, label='CUSUM')\n",
    "plt.plot(x, cusum_2, label='CUSUM 2')\n",
    "plt.plot(x, sgnn_30, label='sGNN-30k')\n",
    "plt.plot(x, sgnn_50, label='sGNN-50k')\n",
    "plt.plot(x, sgnn_100, label='sGNN-100k')\n",
    "\n",
    "plt.scatter(x, ncpd)\n",
    "plt.scatter(x, frob)\n",
    "plt.scatter(x, cusum)\n",
    "plt.scatter(x, cusum_2)\n",
    "plt.scatter(x, sgnn_30)\n",
    "plt.scatter(x, sgnn_50)\n",
    "plt.scatter(x, sgnn_100)\n",
    "# Add a legend\n",
    "plt.legend(bbox_to_anchor=(1.30, 0.5), loc='center right')\n",
    "\n",
    "plt.xlabel('Cluster Size')\n",
    "plt.ylabel('F1 Score')\n",
    "# Show the plot\n",
    "plt.show()"
   ]
  },
  {
   "cell_type": "code",
   "execution_count": null,
   "metadata": {},
   "outputs": [],
   "source": []
  }
 ],
 "metadata": {
  "kernelspec": {
   "display_name": ".env",
   "language": "python",
   "name": "python3"
  },
  "language_info": {
   "codemirror_mode": {
    "name": "ipython",
    "version": 3
   },
   "file_extension": ".py",
   "mimetype": "text/x-python",
   "name": "python",
   "nbconvert_exporter": "python",
   "pygments_lexer": "ipython3",
   "version": "3.11.5"
  }
 },
 "nbformat": 4,
 "nbformat_minor": 2
}
