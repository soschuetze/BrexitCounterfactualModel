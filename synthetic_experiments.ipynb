{
 "cells": [
  {
   "cell_type": "markdown",
   "metadata": {},
   "source": [
    "# Synthetic Experiments using Stochastic Block Models"
   ]
  },
  {
   "cell_type": "code",
   "execution_count": 9,
   "metadata": {},
   "outputs": [],
   "source": [
    "import pickle as pkl\n",
    "from torch_geometric.data import DataLoader\n",
    "from itertools import combinations\n",
    "import random\n",
    "import networkx as nx\n",
    "from sklearn.model_selection import train_test_split\n",
    "from sklearn.metrics import f1_score\n",
    "\n",
    "import torch\n",
    "import torch.nn as nn\n",
    "import torch.optim as optim\n",
    "from tqdm import tqdm\n",
    "from torch.optim.lr_scheduler import StepLR\n",
    "from src.utils.CreateFeatures import CreateFeatures\n",
    "from src.pygcn.GCN_synthetic import SiameseGNN\n",
    "from torch_geometric.data import DataLoader\n",
    "from torch_geometric.utils import to_networkx\n",
    "\n",
    "import torch\n",
    "import torch.nn as nn\n",
    "import torch\n",
    "import torch_geometric.data as data\n",
    "\n",
    "from src.utils.graphs import laplacian_embeddings, random_walk_embeddings, degree_matrix, identity\n",
    "from torch_geometric.utils import to_networkx\n",
    "import networkx as nx\n",
    "import numpy as np\n",
    "import itertools\n",
    "\n",
    "from src.utils.sample import sample_pairs"
   ]
  },
  {
   "cell_type": "code",
   "execution_count": 10,
   "metadata": {},
   "outputs": [],
   "source": [
    "from sklearn.metrics import precision_score, recall_score\n",
    "\n",
    "def adjusted_f1_score(y_true, y_pred, beta=1.0):\n",
    "    \"\"\"\n",
    "    Calculate the adjusted F1 score.\n",
    "    \n",
    "    Parameters:\n",
    "    y_true (list or array): True labels.\n",
    "    y_pred (list or array): Predicted labels.\n",
    "    beta (float): Weight factor.\n",
    "    \n",
    "    Returns:\n",
    "    float: Adjusted F1 score.\n",
    "    \"\"\"\n",
    "    precision = precision_score(y_true, y_pred)\n",
    "    recall = recall_score(y_true, y_pred)\n",
    "    \n",
    "    if precision == 0 and recall == 0:\n",
    "        return 0.0\n",
    "    \n",
    "    adjusted_f1 = (1 + beta**2) * (precision * recall) / (beta**2 * precision + recall)\n",
    "    return adjusted_f1\n"
   ]
  },
  {
   "cell_type": "code",
   "execution_count": 11,
   "metadata": {},
   "outputs": [],
   "source": [
    "def run_model(model, train_data, val_data, lr):\n",
    "    torch.manual_seed(42)\n",
    "    optimizer = optim.Adam(model.parameters(), lr=lr)\n",
    "    scheduler = StepLR(optimizer, step_size=10, gamma=0.1)\n",
    "    criterion = nn.BCELoss()  # Changed to BCEWithLogitsLoss for numerical stability\n",
    "\n",
    "    for epoch in tqdm(range(50)):\n",
    "        model.train()\n",
    "        train_losses = []\n",
    "        for data1, data2, label in train_data:\n",
    "\n",
    "            optimizer.zero_grad()\n",
    "            out = model(data1, data2)\n",
    "\n",
    "            label = torch.tensor(label).view(1).float()\n",
    "            loss = criterion(out.squeeze(0), label)\n",
    "            loss.backward()\n",
    "            optimizer.step()\n",
    "            train_losses.append(loss.item())\n",
    "\n",
    "        scheduler.step()\n",
    "\n",
    "        model.eval()\n",
    "        with torch.no_grad():\n",
    "            val_losses = []\n",
    "\n",
    "            val_pred = []\n",
    "            val_truth = []\n",
    "\n",
    "            correct = 0\n",
    "            total = 0\n",
    "            for data1, data2, label in val_data:\n",
    "                out = model(data1, data2)\n",
    "                label = torch.tensor(label).view(1).float()\n",
    "                val_loss = criterion(out.squeeze(0), label)\n",
    "                val_losses.append(val_loss.item())\n",
    "\n",
    "                predictions = torch.round(out.squeeze())\n",
    "\n",
    "                val_pred.append(predictions)\n",
    "                val_truth.append(label)\n",
    "\n",
    "                correct += (predictions == label).sum().item()\n",
    "                total += 1\n",
    "\n",
    "            val_loss = sum(val_losses) / len(val_losses)\n",
    "            val_accuracy = correct / total\n",
    "\n",
    "        val_f1 = f1_score(val_truth, val_pred)\n",
    "        print(f'Epoch: {epoch+1}, Training Loss: {sum(train_losses)/len(train_losses)}, Validation Loss: {val_loss}, Validation Accuracy: {val_accuracy}, Validation F1 Score: {val_f1}')\n",
    "    return val_accuracy, val_f1"
   ]
  },
  {
   "cell_type": "markdown",
   "metadata": {},
   "source": [
    "## Clique Data"
   ]
  },
  {
   "cell_type": "code",
   "execution_count": 12,
   "metadata": {},
   "outputs": [],
   "source": [
    "import os\n",
    "import glob\n",
    "import pickle\n",
    "import json\n",
    "\n",
    "# Assuming root_dir is the path to your root directory\n",
    "root_dir = 'results/synthetic/'\n",
    "\n",
    "clique_data = {}\n",
    "cp_times = {}\n",
    "label_data = {}\n",
    "\n",
    "# Walk through all directories and files in root_dir\n",
    "for dirpath, dirnames, filenames in os.walk(root_dir):\n",
    "    # If there's a data.p file in this directory, read it\n",
    "    args_file = os.path.join(dirpath, 'args.json')\n",
    "    if os.path.isfile(args_file):\n",
    "        with open(args_file, 'rb') as f:\n",
    "            arg_data = json.load(f)\n",
    "            clique_size = arg_data['size_clique']\n",
    "\n",
    "    data_file = os.path.join(dirpath, 'data.p')\n",
    "    if os.path.isfile(data_file):\n",
    "        with open(data_file, 'rb') as f:\n",
    "            data = pickle.load(f)\n",
    "            clique_data[clique_size] = data\n",
    "\n",
    "    # If there's a time.json file in this directory, read it\n",
    "    time_file = os.path.join(dirpath, 'time.json')\n",
    "    if os.path.isfile(time_file):\n",
    "        with open(time_file, 'r') as f:\n",
    "            time_data = json.load(f)\n",
    "            cp_times[clique_size] = time_data\n",
    "\n",
    "    label_file = os.path.join(dirpath, 'labels.p')\n",
    "    if os.path.isfile(label_file):\n",
    "        with open(label_file, 'rb') as f:\n",
    "            data = pickle.load(f)\n",
    "            label_data[clique_size] = data"
   ]
  },
  {
   "cell_type": "code",
   "execution_count": 13,
   "metadata": {},
   "outputs": [],
   "source": [
    "sizes = [20, 30, 40, 50, 60, 70, 80]"
   ]
  },
  {
   "cell_type": "code",
   "execution_count": 14,
   "metadata": {},
   "outputs": [],
   "source": [
    "ex_data = clique_data[30]"
   ]
  },
  {
   "cell_type": "code",
   "execution_count": 15,
   "metadata": {},
   "outputs": [],
   "source": [
    "for j, i in enumerate(ex_data):\n",
    "    edge_index = i.edge_index.to(torch.int64)\n",
    "    networkx_graph = to_networkx(i)\n",
    "    adjacency = nx.adjacency_matrix(networkx_graph)\n",
    "    \n",
    "    attributes = np.eye(adjacency.shape[0])\n",
    "    ex_data[j].x = attributes\n",
    "    break"
   ]
  },
  {
   "cell_type": "code",
   "execution_count": 16,
   "metadata": {},
   "outputs": [
    {
     "name": "stdout",
     "output_type": "stream",
     "text": [
      "1000 positive and 1000 negative examples\n",
      "1000 positive and 1000 negative examples\n",
      "Running with lr=0.001, dropout_rate=0.1, sort_k=30, hidden_units=16\n"
     ]
    },
    {
     "name": "stderr",
     "output_type": "stream",
     "text": [
      "  2%|▏         | 1/50 [00:58<48:09, 58.98s/it]"
     ]
    },
    {
     "name": "stdout",
     "output_type": "stream",
     "text": [
      "Epoch: 1, Training Loss: 0.6555357049437615, Validation Loss: 0.666357993455398, Validation Accuracy: 0.6191926884996192, Validation F1 Score: 0.0\n"
     ]
    },
    {
     "name": "stderr",
     "output_type": "stream",
     "text": [
      "  4%|▍         | 2/50 [01:56<46:23, 57.98s/it]"
     ]
    },
    {
     "name": "stdout",
     "output_type": "stream",
     "text": [
      "Epoch: 2, Training Loss: 0.6531924906071535, Validation Loss: 0.6662919792344528, Validation Accuracy: 0.6191926884996192, Validation F1 Score: 0.0\n"
     ]
    },
    {
     "name": "stderr",
     "output_type": "stream",
     "text": [
      "  6%|▌         | 3/50 [02:52<44:52, 57.29s/it]"
     ]
    },
    {
     "name": "stdout",
     "output_type": "stream",
     "text": [
      "Epoch: 3, Training Loss: 0.6526095377682463, Validation Loss: 0.6661951029495892, Validation Accuracy: 0.6191926884996192, Validation F1 Score: 0.0\n"
     ]
    },
    {
     "name": "stderr",
     "output_type": "stream",
     "text": [
      "  8%|▊         | 4/50 [03:47<43:15, 56.43s/it]"
     ]
    },
    {
     "name": "stdout",
     "output_type": "stream",
     "text": [
      "Epoch: 4, Training Loss: 0.651518123993203, Validation Loss: 0.6663965426005213, Validation Accuracy: 0.6191926884996192, Validation F1 Score: 0.0\n"
     ]
    },
    {
     "name": "stderr",
     "output_type": "stream",
     "text": [
      " 10%|█         | 5/50 [04:43<42:00, 56.00s/it]"
     ]
    },
    {
     "name": "stdout",
     "output_type": "stream",
     "text": [
      "Epoch: 5, Training Loss: 0.6515535243304632, Validation Loss: 0.6658942049818918, Validation Accuracy: 0.6191926884996192, Validation F1 Score: 0.0\n"
     ]
    },
    {
     "name": "stderr",
     "output_type": "stream",
     "text": [
      " 12%|█▏        | 6/50 [05:40<41:28, 56.56s/it]"
     ]
    },
    {
     "name": "stdout",
     "output_type": "stream",
     "text": [
      "Epoch: 6, Training Loss: 0.6508514600233751, Validation Loss: 0.6656589728566589, Validation Accuracy: 0.6191926884996192, Validation F1 Score: 0.0\n"
     ]
    },
    {
     "name": "stderr",
     "output_type": "stream",
     "text": [
      " 14%|█▍        | 7/50 [06:46<42:35, 59.43s/it]"
     ]
    },
    {
     "name": "stdout",
     "output_type": "stream",
     "text": [
      "Epoch: 7, Training Loss: 0.6510979001859061, Validation Loss: 0.6658825341155306, Validation Accuracy: 0.6191926884996192, Validation F1 Score: 0.0\n"
     ]
    },
    {
     "name": "stderr",
     "output_type": "stream",
     "text": [
      " 16%|█▌        | 8/50 [08:18<49:00, 70.01s/it]"
     ]
    },
    {
     "name": "stdout",
     "output_type": "stream",
     "text": [
      "Epoch: 8, Training Loss: 0.6508192752485003, Validation Loss: 0.665708847360945, Validation Accuracy: 0.6191926884996192, Validation F1 Score: 0.0\n"
     ]
    },
    {
     "name": "stderr",
     "output_type": "stream",
     "text": [
      " 18%|█▊        | 9/50 [09:52<52:58, 77.52s/it]"
     ]
    },
    {
     "name": "stdout",
     "output_type": "stream",
     "text": [
      "Epoch: 9, Training Loss: 0.6507820510238167, Validation Loss: 0.6654149184382243, Validation Accuracy: 0.6191926884996192, Validation F1 Score: 0.0\n"
     ]
    },
    {
     "name": "stderr",
     "output_type": "stream",
     "text": [
      " 20%|██        | 10/50 [11:24<54:36, 81.91s/it]"
     ]
    },
    {
     "name": "stdout",
     "output_type": "stream",
     "text": [
      "Epoch: 10, Training Loss: 0.6503161609246355, Validation Loss: 0.6655837437031565, Validation Accuracy: 0.6191926884996192, Validation F1 Score: 0.0\n"
     ]
    },
    {
     "name": "stderr",
     "output_type": "stream",
     "text": [
      " 22%|██▏       | 11/50 [12:57<55:23, 85.23s/it]"
     ]
    },
    {
     "name": "stdout",
     "output_type": "stream",
     "text": [
      "Epoch: 11, Training Loss: 0.6475597103485811, Validation Loss: 0.6658904826423183, Validation Accuracy: 0.6191926884996192, Validation F1 Score: 0.0\n"
     ]
    },
    {
     "name": "stderr",
     "output_type": "stream",
     "text": [
      " 24%|██▍       | 12/50 [14:25<54:31, 86.09s/it]"
     ]
    },
    {
     "name": "stdout",
     "output_type": "stream",
     "text": [
      "Epoch: 12, Training Loss: 0.6451930132893807, Validation Loss: 0.6659370110017693, Validation Accuracy: 0.6191926884996192, Validation F1 Score: 0.0\n"
     ]
    },
    {
     "name": "stderr",
     "output_type": "stream",
     "text": [
      " 26%|██▌       | 13/50 [15:57<54:15, 87.99s/it]"
     ]
    },
    {
     "name": "stdout",
     "output_type": "stream",
     "text": [
      "Epoch: 13, Training Loss: 0.6420862164071298, Validation Loss: 0.6667842077941089, Validation Accuracy: 0.6191926884996192, Validation F1 Score: 0.0\n"
     ]
    },
    {
     "name": "stderr",
     "output_type": "stream",
     "text": [
      " 28%|██▊       | 14/50 [17:30<53:38, 89.42s/it]"
     ]
    },
    {
     "name": "stdout",
     "output_type": "stream",
     "text": [
      "Epoch: 14, Training Loss: 0.6381986517226734, Validation Loss: 0.6692891835610284, Validation Accuracy: 0.6191926884996192, Validation F1 Score: 0.0\n"
     ]
    },
    {
     "name": "stderr",
     "output_type": "stream",
     "text": [
      " 30%|███       | 15/50 [19:03<52:45, 90.44s/it]"
     ]
    },
    {
     "name": "stdout",
     "output_type": "stream",
     "text": [
      "Epoch: 15, Training Loss: 0.6325616595671132, Validation Loss: 0.6735404612041119, Validation Accuracy: 0.6191926884996192, Validation F1 Score: 0.0\n"
     ]
    },
    {
     "name": "stderr",
     "output_type": "stream",
     "text": [
      " 32%|███▏      | 16/50 [20:31<50:55, 89.86s/it]"
     ]
    },
    {
     "name": "stdout",
     "output_type": "stream",
     "text": [
      "Epoch: 16, Training Loss: 0.6268420768353483, Validation Loss: 0.6793497871247213, Validation Accuracy: 0.6191926884996192, Validation F1 Score: 0.0\n"
     ]
    },
    {
     "name": "stderr",
     "output_type": "stream",
     "text": [
      " 34%|███▍      | 17/50 [21:48<47:12, 85.84s/it]"
     ]
    },
    {
     "name": "stdout",
     "output_type": "stream",
     "text": [
      "Epoch: 17, Training Loss: 0.6210331555887936, Validation Loss: 0.6856931726485831, Validation Accuracy: 0.6191926884996192, Validation F1 Score: 0.0\n"
     ]
    },
    {
     "name": "stderr",
     "output_type": "stream",
     "text": [
      " 36%|███▌      | 18/50 [23:13<45:40, 85.65s/it]"
     ]
    },
    {
     "name": "stdout",
     "output_type": "stream",
     "text": [
      "Epoch: 18, Training Loss: 0.6141097583520105, Validation Loss: 0.6942842229775182, Validation Accuracy: 0.6191926884996192, Validation F1 Score: 0.0\n"
     ]
    },
    {
     "name": "stderr",
     "output_type": "stream",
     "text": [
      " 38%|███▊      | 19/50 [24:39<44:21, 85.86s/it]"
     ]
    },
    {
     "name": "stdout",
     "output_type": "stream",
     "text": [
      "Epoch: 19, Training Loss: 0.6089207398316833, Validation Loss: 0.7001137818888635, Validation Accuracy: 0.6191926884996192, Validation F1 Score: 0.0\n"
     ]
    },
    {
     "name": "stderr",
     "output_type": "stream",
     "text": [
      " 40%|████      | 20/50 [26:05<42:52, 85.77s/it]"
     ]
    },
    {
     "name": "stdout",
     "output_type": "stream",
     "text": [
      "Epoch: 20, Training Loss: 0.6021637632460674, Validation Loss: 0.708187126777981, Validation Accuracy: 0.6191926884996192, Validation F1 Score: 0.0\n"
     ]
    },
    {
     "name": "stderr",
     "output_type": "stream",
     "text": [
      " 42%|████▏     | 21/50 [27:38<42:33, 88.04s/it]"
     ]
    },
    {
     "name": "stdout",
     "output_type": "stream",
     "text": [
      "Epoch: 21, Training Loss: 0.5962029560890927, Validation Loss: 0.7090113552149615, Validation Accuracy: 0.6191926884996192, Validation F1 Score: 0.0\n"
     ]
    },
    {
     "name": "stderr",
     "output_type": "stream",
     "text": [
      " 44%|████▍     | 22/50 [29:12<41:56, 89.87s/it]"
     ]
    },
    {
     "name": "stdout",
     "output_type": "stream",
     "text": [
      "Epoch: 22, Training Loss: 0.593668007915252, Validation Loss: 0.7106614517415424, Validation Accuracy: 0.6191926884996192, Validation F1 Score: 0.0\n"
     ]
    },
    {
     "name": "stderr",
     "output_type": "stream",
     "text": [
      " 46%|████▌     | 23/50 [30:47<41:03, 91.25s/it]"
     ]
    },
    {
     "name": "stdout",
     "output_type": "stream",
     "text": [
      "Epoch: 23, Training Loss: 0.5943430939378729, Validation Loss: 0.7123385825834925, Validation Accuracy: 0.6191926884996192, Validation F1 Score: 0.0\n"
     ]
    },
    {
     "name": "stderr",
     "output_type": "stream",
     "text": [
      " 48%|████▊     | 24/50 [32:17<39:21, 90.84s/it]"
     ]
    },
    {
     "name": "stdout",
     "output_type": "stream",
     "text": [
      "Epoch: 24, Training Loss: 0.5914489166377126, Validation Loss: 0.7137827626220252, Validation Accuracy: 0.6191926884996192, Validation F1 Score: 0.0\n"
     ]
    },
    {
     "name": "stderr",
     "output_type": "stream",
     "text": [
      " 50%|█████     | 25/50 [33:52<38:23, 92.16s/it]"
     ]
    },
    {
     "name": "stdout",
     "output_type": "stream",
     "text": [
      "Epoch: 25, Training Loss: 0.5904079348552719, Validation Loss: 0.7157573400821426, Validation Accuracy: 0.6191926884996192, Validation F1 Score: 0.0\n"
     ]
    },
    {
     "name": "stderr",
     "output_type": "stream",
     "text": [
      " 52%|█████▏    | 26/50 [35:27<37:10, 92.95s/it]"
     ]
    },
    {
     "name": "stdout",
     "output_type": "stream",
     "text": [
      "Epoch: 26, Training Loss: 0.5913854621122284, Validation Loss: 0.7168540677108205, Validation Accuracy: 0.6191926884996192, Validation F1 Score: 0.0\n"
     ]
    },
    {
     "name": "stderr",
     "output_type": "stream",
     "text": [
      " 54%|█████▍    | 27/50 [36:52<34:43, 90.60s/it]"
     ]
    },
    {
     "name": "stdout",
     "output_type": "stream",
     "text": [
      "Epoch: 27, Training Loss: 0.5906329630129893, Validation Loss: 0.7181343209631145, Validation Accuracy: 0.6191926884996192, Validation F1 Score: 0.0\n"
     ]
    },
    {
     "name": "stderr",
     "output_type": "stream",
     "text": [
      " 56%|█████▌    | 28/50 [38:26<33:34, 91.56s/it]"
     ]
    },
    {
     "name": "stdout",
     "output_type": "stream",
     "text": [
      "Epoch: 28, Training Loss: 0.5896493380243903, Validation Loss: 0.7195018378355216, Validation Accuracy: 0.6195734958111195, Validation F1 Score: 0.001998001998001998\n"
     ]
    },
    {
     "name": "stderr",
     "output_type": "stream",
     "text": [
      " 58%|█████▊    | 29/50 [39:57<31:58, 91.37s/it]"
     ]
    },
    {
     "name": "stdout",
     "output_type": "stream",
     "text": [
      "Epoch: 29, Training Loss: 0.5865347231378806, Validation Loss: 0.721378472675509, Validation Accuracy: 0.6195734958111195, Validation F1 Score: 0.001998001998001998\n"
     ]
    },
    {
     "name": "stderr",
     "output_type": "stream",
     "text": [
      " 60%|██████    | 30/50 [41:31<30:45, 92.30s/it]"
     ]
    },
    {
     "name": "stdout",
     "output_type": "stream",
     "text": [
      "Epoch: 30, Training Loss: 0.5877170415360784, Validation Loss: 0.7225449387230949, Validation Accuracy: 0.6161462300076161, Validation F1 Score: 0.017543859649122806\n"
     ]
    },
    {
     "name": "stderr",
     "output_type": "stream",
     "text": [
      " 62%|██████▏   | 31/50 [43:06<29:28, 93.07s/it]"
     ]
    },
    {
     "name": "stdout",
     "output_type": "stream",
     "text": [
      "Epoch: 31, Training Loss: 0.5862555563197742, Validation Loss: 0.7226710448726751, Validation Accuracy: 0.6146230007616146, Validation F1 Score: 0.03065134099616858\n"
     ]
    },
    {
     "name": "stderr",
     "output_type": "stream",
     "text": [
      " 64%|██████▍   | 32/50 [44:39<27:55, 93.10s/it]"
     ]
    },
    {
     "name": "stdout",
     "output_type": "stream",
     "text": [
      "Epoch: 32, Training Loss: 0.5857316208875302, Validation Loss: 0.7227716563242542, Validation Accuracy: 0.6092916984006093, Validation F1 Score: 0.05\n"
     ]
    },
    {
     "name": "stderr",
     "output_type": "stream",
     "text": [
      " 66%|██████▌   | 33/50 [46:12<26:24, 93.21s/it]"
     ]
    },
    {
     "name": "stdout",
     "output_type": "stream",
     "text": [
      "Epoch: 33, Training Loss: 0.5862206122537587, Validation Loss: 0.7228961300363045, Validation Accuracy: 0.6009139375476009, Validation F1 Score: 0.07092198581560284\n"
     ]
    },
    {
     "name": "stderr",
     "output_type": "stream",
     "text": [
      " 68%|██████▊   | 34/50 [47:48<25:02, 93.89s/it]"
     ]
    },
    {
     "name": "stdout",
     "output_type": "stream",
     "text": [
      "Epoch: 34, Training Loss: 0.5852023804475608, Validation Loss: 0.723043679504429, Validation Accuracy: 0.5936785986290937, Validation F1 Score: 0.10561609388097234\n"
     ]
    },
    {
     "name": "stderr",
     "output_type": "stream",
     "text": [
      " 70%|███████   | 35/50 [49:13<22:47, 91.14s/it]"
     ]
    },
    {
     "name": "stdout",
     "output_type": "stream",
     "text": [
      "Epoch: 35, Training Loss: 0.5862169436031048, Validation Loss: 0.7231314830504704, Validation Accuracy: 0.5788271134805788, Validation F1 Score: 0.13996889580093314\n"
     ]
    },
    {
     "name": "stderr",
     "output_type": "stream",
     "text": [
      " 72%|███████▏  | 36/50 [50:35<20:38, 88.47s/it]"
     ]
    },
    {
     "name": "stdout",
     "output_type": "stream",
     "text": [
      "Epoch: 36, Training Loss: 0.5857636362582098, Validation Loss: 0.7232582265254386, Validation Accuracy: 0.5742574257425742, Validation F1 Score: 0.191027496382055\n"
     ]
    },
    {
     "name": "stderr",
     "output_type": "stream",
     "text": [
      " 74%|███████▍  | 37/50 [51:52<18:26, 85.09s/it]"
     ]
    },
    {
     "name": "stdout",
     "output_type": "stream",
     "text": [
      "Epoch: 37, Training Loss: 0.5861531708876684, Validation Loss: 0.7233492696128633, Validation Accuracy: 0.5632140137090632, Validation F1 Score: 0.21919673247106874\n"
     ]
    },
    {
     "name": "stderr",
     "output_type": "stream",
     "text": [
      " 74%|███████▍  | 37/50 [52:20<18:23, 84.89s/it]\n"
     ]
    },
    {
     "ename": "KeyboardInterrupt",
     "evalue": "",
     "output_type": "error",
     "traceback": [
      "\u001b[0;31m---------------------------------------------------------------------------\u001b[0m",
      "\u001b[0;31mKeyboardInterrupt\u001b[0m                         Traceback (most recent call last)",
      "Cell \u001b[0;32mIn[16], line 44\u001b[0m\n\u001b[1;32m     42\u001b[0m \u001b[38;5;28mprint\u001b[39m(\u001b[38;5;124mf\u001b[39m\u001b[38;5;124m\"\u001b[39m\u001b[38;5;124mRunning with lr=\u001b[39m\u001b[38;5;132;01m{\u001b[39;00mlr\u001b[38;5;132;01m}\u001b[39;00m\u001b[38;5;124m, dropout_rate=\u001b[39m\u001b[38;5;132;01m{\u001b[39;00mdropout_rate\u001b[38;5;132;01m}\u001b[39;00m\u001b[38;5;124m, sort_k=\u001b[39m\u001b[38;5;132;01m{\u001b[39;00msort_k\u001b[38;5;132;01m}\u001b[39;00m\u001b[38;5;124m, hidden_units=\u001b[39m\u001b[38;5;132;01m{\u001b[39;00mhidden_units\u001b[38;5;132;01m}\u001b[39;00m\u001b[38;5;124m\"\u001b[39m)\n\u001b[1;32m     43\u001b[0m model \u001b[38;5;241m=\u001b[39m SiameseGNN(hidden_units, sort_k, dropout_rate)\n\u001b[0;32m---> 44\u001b[0m val_accuracy, val_f1 \u001b[38;5;241m=\u001b[39m \u001b[43mrun_model\u001b[49m\u001b[43m(\u001b[49m\u001b[43mmodel\u001b[49m\u001b[43m,\u001b[49m\u001b[43m \u001b[49m\u001b[43mgraph_pairs_train\u001b[49m\u001b[43m,\u001b[49m\u001b[43m \u001b[49m\u001b[43mgraph_pairs_val\u001b[49m\u001b[43m,\u001b[49m\u001b[43m \u001b[49m\u001b[43mlr\u001b[49m\u001b[43m)\u001b[49m\n\u001b[1;32m     46\u001b[0m \u001b[38;5;66;03m# Update the best hyperparameters based on validation F1 score\u001b[39;00m\n\u001b[1;32m     47\u001b[0m \u001b[38;5;28;01mif\u001b[39;00m val_f1 \u001b[38;5;241m>\u001b[39m best_val_score:\n",
      "Cell \u001b[0;32mIn[11], line 12\u001b[0m, in \u001b[0;36mrun_model\u001b[0;34m(model, train_data, val_data, lr)\u001b[0m\n\u001b[1;32m      9\u001b[0m train_losses \u001b[38;5;241m=\u001b[39m []\n\u001b[1;32m     10\u001b[0m \u001b[38;5;28;01mfor\u001b[39;00m data1, data2, label \u001b[38;5;129;01min\u001b[39;00m train_data:\n\u001b[0;32m---> 12\u001b[0m     \u001b[43moptimizer\u001b[49m\u001b[38;5;241;43m.\u001b[39;49m\u001b[43mzero_grad\u001b[49m\u001b[43m(\u001b[49m\u001b[43m)\u001b[49m\n\u001b[1;32m     13\u001b[0m     out \u001b[38;5;241m=\u001b[39m model(data1, data2)\n\u001b[1;32m     15\u001b[0m     label \u001b[38;5;241m=\u001b[39m torch\u001b[38;5;241m.\u001b[39mtensor(label)\u001b[38;5;241m.\u001b[39mview(\u001b[38;5;241m1\u001b[39m)\u001b[38;5;241m.\u001b[39mfloat()\n",
      "File \u001b[0;32m~/Documents/GitHub/Trade-GNN-ChangePoint/.env/lib/python3.11/site-packages/torch/_compile.py:24\u001b[0m, in \u001b[0;36m_disable_dynamo.<locals>.inner\u001b[0;34m(*args, **kwargs)\u001b[0m\n\u001b[1;32m     20\u001b[0m \u001b[38;5;129m@functools\u001b[39m\u001b[38;5;241m.\u001b[39mwraps(fn)\n\u001b[1;32m     21\u001b[0m \u001b[38;5;28;01mdef\u001b[39;00m \u001b[38;5;21minner\u001b[39m(\u001b[38;5;241m*\u001b[39margs, \u001b[38;5;241m*\u001b[39m\u001b[38;5;241m*\u001b[39mkwargs):\n\u001b[1;32m     22\u001b[0m     \u001b[38;5;28;01mimport\u001b[39;00m \u001b[38;5;21;01mtorch\u001b[39;00m\u001b[38;5;21;01m.\u001b[39;00m\u001b[38;5;21;01m_dynamo\u001b[39;00m\n\u001b[0;32m---> 24\u001b[0m     \u001b[38;5;28;01mreturn\u001b[39;00m \u001b[43mtorch\u001b[49m\u001b[38;5;241;43m.\u001b[39;49m\u001b[43m_dynamo\u001b[49m\u001b[38;5;241;43m.\u001b[39;49m\u001b[43mdisable\u001b[49m\u001b[43m(\u001b[49m\u001b[43mfn\u001b[49m\u001b[43m,\u001b[49m\u001b[43m \u001b[49m\u001b[43mrecursive\u001b[49m\u001b[43m)\u001b[49m\u001b[43m(\u001b[49m\u001b[38;5;241;43m*\u001b[39;49m\u001b[43margs\u001b[49m\u001b[43m,\u001b[49m\u001b[43m \u001b[49m\u001b[38;5;241;43m*\u001b[39;49m\u001b[38;5;241;43m*\u001b[39;49m\u001b[43mkwargs\u001b[49m\u001b[43m)\u001b[49m\n",
      "File \u001b[0;32m~/Documents/GitHub/Trade-GNN-ChangePoint/.env/lib/python3.11/site-packages/torch/_dynamo/eval_frame.py:468\u001b[0m, in \u001b[0;36m_TorchDynamoContext.__call__.<locals>._fn\u001b[0;34m(*args, **kwargs)\u001b[0m\n\u001b[1;32m    465\u001b[0m     \u001b[38;5;28;01melse\u001b[39;00m:\n\u001b[1;32m    466\u001b[0m         \u001b[38;5;28;01mreturn\u001b[39;00m fn(\u001b[38;5;241m*\u001b[39margs, \u001b[38;5;241m*\u001b[39m\u001b[38;5;241m*\u001b[39mkwargs)\n\u001b[0;32m--> 468\u001b[0m \u001b[38;5;28;01mif\u001b[39;00m \u001b[43mtorch\u001b[49m\u001b[38;5;241;43m.\u001b[39;49m\u001b[43mjit\u001b[49m\u001b[38;5;241;43m.\u001b[39;49m\u001b[43mis_tracing\u001b[49m\u001b[43m(\u001b[49m\u001b[43m)\u001b[49m:\n\u001b[1;32m    469\u001b[0m     \u001b[38;5;28;01mif\u001b[39;00m config\u001b[38;5;241m.\u001b[39merror_on_nested_jit_trace:\n\u001b[1;32m    470\u001b[0m         \u001b[38;5;28;01mraise\u001b[39;00m \u001b[38;5;167;01mRuntimeError\u001b[39;00m(\n\u001b[1;32m    471\u001b[0m             \u001b[38;5;124m\"\u001b[39m\u001b[38;5;124mDetected that you are using FX to torch.jit.trace \u001b[39m\u001b[38;5;124m\"\u001b[39m\n\u001b[1;32m    472\u001b[0m             \u001b[38;5;124m\"\u001b[39m\u001b[38;5;124ma dynamo-optimized function. This is not supported at the moment.\u001b[39m\u001b[38;5;124m\"\u001b[39m\n\u001b[1;32m    473\u001b[0m         )\n",
      "File \u001b[0;32m~/Documents/GitHub/Trade-GNN-ChangePoint/.env/lib/python3.11/site-packages/torch/jit/_trace.py:1127\u001b[0m, in \u001b[0;36mis_tracing\u001b[0;34m()\u001b[0m\n\u001b[1;32m   1125\u001b[0m \u001b[38;5;28;01mif\u001b[39;00m is_scripting():\n\u001b[1;32m   1126\u001b[0m     \u001b[38;5;28;01mreturn\u001b[39;00m \u001b[38;5;28;01mFalse\u001b[39;00m\n\u001b[0;32m-> 1127\u001b[0m \u001b[38;5;28;01mreturn\u001b[39;00m \u001b[43mtorch\u001b[49m\u001b[38;5;241;43m.\u001b[39;49m\u001b[43m_C\u001b[49m\u001b[38;5;241;43m.\u001b[39;49m\u001b[43m_is_tracing\u001b[49m\u001b[43m(\u001b[49m\u001b[43m)\u001b[49m\n",
      "\u001b[0;31mKeyboardInterrupt\u001b[0m: "
     ]
    }
   ],
   "source": [
    "for s in [20]:\n",
    "    for j, i in enumerate(clique_data[s]):\n",
    "        edge_index = i.edge_index.to(torch.int64)\n",
    "        networkx_graph = to_networkx(i)\n",
    "        adjacency = nx.adjacency_matrix(networkx_graph)\n",
    "        \n",
    "        attributes = np.eye(adjacency.shape[0])\n",
    "        clique_data[s][j].x = attributes\n",
    "    \n",
    "    train = clique_data[s][:1000]\n",
    "    train_labels = label_data[s][:1000]\n",
    "\n",
    "    val = clique_data[s][1000:2000]\n",
    "    val_labels = label_data[s][1000:2000]\n",
    "\n",
    "    test = clique_data[s][2000:]\n",
    "    test_labels = label_data[s][2000:]\n",
    "\n",
    "    graph_pairs_train = sample_pairs(train,train_labels,nsamples=2000)\n",
    "    graph_pairs_val = sample_pairs(train,val_labels,nsamples=2000)\n",
    "\n",
    "    for j in graph_pairs_train:\n",
    "        j[2] = int(j[2].item())\n",
    "    for j in graph_pairs_val:\n",
    "        j[2] = int(j[2].item())\n",
    "\n",
    "    # Define hyperparameter grids\n",
    "    learning_rates = [0.001]\n",
    "    dropout_rates = [0.1]\n",
    "    sort_k_values = [30]\n",
    "    hidden_units_values = [16]\n",
    "\n",
    "    # Best params: lr=0.001, dropout_rate=0.1, sort_k=40, hidden_units=64\n",
    "\n",
    "    # Create combinations of hyperparameters\n",
    "    hyperparameter_combinations = list(itertools.product(learning_rates, dropout_rates, sort_k_values, hidden_units_values))\n",
    "\n",
    "    best_hyperparams = None\n",
    "    best_val_score = 0\n",
    "\n",
    "    for lr, dropout_rate, sort_k, hidden_units in hyperparameter_combinations:\n",
    "        print(f\"Running with lr={lr}, dropout_rate={dropout_rate}, sort_k={sort_k}, hidden_units={hidden_units}\")\n",
    "        model = SiameseGNN(hidden_units, sort_k, dropout_rate)\n",
    "        val_accuracy, val_f1 = run_model(model, graph_pairs_train, graph_pairs_val, lr)\n",
    "        \n",
    "        # Update the best hyperparameters based on validation F1 score\n",
    "        if val_f1 > best_val_score:\n",
    "            best_val_score = val_f1\n",
    "            best_hyperparams = (lr, dropout_rate, sort_k, hidden_units)\n",
    "\n",
    "    print(f\"Best Hyperparameters: Learning Rate: {best_hyperparams[0]}, Dropout Rate: {best_hyperparams[1]}, Sort-k: {best_hyperparams[2]}, Hidden Units: {best_hyperparams[3]}\")\n",
    "    print(f\"Best Validation F1 Score: {best_val_score}\")"
   ]
  },
  {
   "cell_type": "code",
   "execution_count": null,
   "metadata": {},
   "outputs": [],
   "source": []
  }
 ],
 "metadata": {
  "kernelspec": {
   "display_name": ".env",
   "language": "python",
   "name": "python3"
  },
  "language_info": {
   "codemirror_mode": {
    "name": "ipython",
    "version": 3
   },
   "file_extension": ".py",
   "mimetype": "text/x-python",
   "name": "python",
   "nbconvert_exporter": "python",
   "pygments_lexer": "ipython3",
   "version": "3.11.5"
  }
 },
 "nbformat": 4,
 "nbformat_minor": 2
}
